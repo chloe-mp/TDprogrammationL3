{
 "cells": [
  {
   "cell_type": "code",
   "execution_count": 10,
   "metadata": {},
   "outputs": [
    {
     "name": "stdout",
     "output_type": "stream",
     "text": [
      "Requirement already satisfied: RDFLib in /Users/chloe/opt/anaconda3/envs/py3_env/lib/python3.8/site-packages (6.3.2)\n",
      "Requirement already satisfied: isodate<0.7.0,>=0.6.0 in /Users/chloe/opt/anaconda3/envs/py3_env/lib/python3.8/site-packages (from RDFLib) (0.6.1)\n",
      "Requirement already satisfied: pyparsing<4,>=2.1.0 in /Users/chloe/opt/anaconda3/envs/py3_env/lib/python3.8/site-packages (from RDFLib) (3.0.9)\n",
      "Requirement already satisfied: six in /Users/chloe/opt/anaconda3/envs/py3_env/lib/python3.8/site-packages (from isodate<0.7.0,>=0.6.0->RDFLib) (1.16.0)\n",
      "Note: you may need to restart the kernel to use updated packages.\n",
      "Requirement already satisfied: SPARQLWrapper in /Users/chloe/opt/anaconda3/envs/py3_env/lib/python3.8/site-packages (2.0.0)\n",
      "Requirement already satisfied: rdflib>=6.1.1 in /Users/chloe/opt/anaconda3/envs/py3_env/lib/python3.8/site-packages (from SPARQLWrapper) (6.3.2)\n",
      "Requirement already satisfied: pyparsing<4,>=2.1.0 in /Users/chloe/opt/anaconda3/envs/py3_env/lib/python3.8/site-packages (from rdflib>=6.1.1->SPARQLWrapper) (3.0.9)\n",
      "Requirement already satisfied: isodate<0.7.0,>=0.6.0 in /Users/chloe/opt/anaconda3/envs/py3_env/lib/python3.8/site-packages (from rdflib>=6.1.1->SPARQLWrapper) (0.6.1)\n",
      "Requirement already satisfied: six in /Users/chloe/opt/anaconda3/envs/py3_env/lib/python3.8/site-packages (from isodate<0.7.0,>=0.6.0->rdflib>=6.1.1->SPARQLWrapper) (1.16.0)\n",
      "Note: you may need to restart the kernel to use updated packages.\n"
     ]
    }
   ],
   "source": [
    "%pip install RDFLib\n",
    "%pip install SPARQLWrapper"
   ]
  },
  {
   "cell_type": "code",
   "execution_count": 22,
   "metadata": {},
   "outputs": [
    {
     "name": "stdout",
     "output_type": "stream",
     "text": [
      "Caitlin Gerard\n",
      "Caitlin O'Connor\n",
      "Callum Stretch\n",
      "Callum Blu Stretch\n",
      "Camila Morrone\n",
      "Camille Billops\n",
      "Cammie King\n",
      "Candalyn Kubeck\n",
      "Candice Bergen\n",
      "Candice Daly\n"
     ]
    }
   ],
   "source": [
    "from SPARQLWrapper import SPARQLWrapper, JSON\n",
    "\n",
    "sparql = SPARQLWrapper(\"http://dbpedia.org/sparql\")\n",
    "\n",
    "sparql.setQuery(\"\"\"\n",
    "    PREFIX dbo: <http://dbpedia.org/ontology/>\n",
    "    PREFIX foaf: <http://xmlns.com/foaf/0.1/>\n",
    "    PREFIX res: <http://dbpedia.org/resource/>\n",
    "\n",
    "    SELECT DISTINCT ?person ?name\n",
    "    WHERE {\n",
    "        ?person dbo:birthPlace res:Los_Angeles ;\n",
    "                dbo:birthDate ?birthDate ;\n",
    "                a dbo:Person ;\n",
    "                foaf:name ?name .\n",
    "    }\n",
    "    LIMIT 10\n",
    "\"\"\")\n",
    "\n",
    "sparql.setReturnFormat(JSON)\n",
    "results = sparql.query().convert()\n",
    "\n",
    "for result in results[\"results\"][\"bindings\"]:\n",
    "    print(result[\"name\"][\"value\"])\n"
   ]
  },
  {
   "cell_type": "code",
   "execution_count": 35,
   "metadata": {},
   "outputs": [
    {
     "name": "stdout",
     "output_type": "stream",
     "text": [
      "[['http://dbpedia.org/resource/Caitlin_Gerard', 'Caitlin Gerard', '1988-07-26'], [\"http://dbpedia.org/resource/Caitlin_O'Connor\", \"Caitlin O'Connor\", '1990-08-03'], ['http://dbpedia.org/resource/Callum_Stretch', 'Callum Stretch', '1999-09-19'], ['http://dbpedia.org/resource/Callum_Stretch', 'Callum Blu Stretch', '1999-09-19'], ['http://dbpedia.org/resource/Camila_Morrone', 'Camila Morrone', '1997-06-16'], ['http://dbpedia.org/resource/Camille_Billops', 'Camille Billops', '1933-08-12'], ['http://dbpedia.org/resource/Cammie_King', 'Cammie King', '1934-08-05'], ['http://dbpedia.org/resource/Candi_Kubeck', 'Candalyn Kubeck', '1961-05-10'], ['http://dbpedia.org/resource/Candice_Bergen', 'Candice Bergen', '1946-05-09'], ['http://dbpedia.org/resource/Candice_Daly', 'Candice Daly', '1966-01-04']]\n"
     ]
    }
   ],
   "source": [
    "from SPARQLWrapper import SPARQLWrapper, JSON\n",
    "\n",
    "sparql = SPARQLWrapper(\"http://dbpedia.org/sparql\")\n",
    "\n",
    "sparql.setQuery(\"\"\"\n",
    "    PREFIX dbo: <http://dbpedia.org/ontology/>\n",
    "    PREFIX foaf: <http://xmlns.com/foaf/0.1/>\n",
    "    PREFIX res: <http://dbpedia.org/resource/>\n",
    "\n",
    "    SELECT DISTINCT ?person ?name ?birthDate\n",
    "    WHERE {\n",
    "        ?person dbo:birthPlace res:Los_Angeles ;\n",
    "                dbo:birthDate ?birthDate ;\n",
    "                a dbo:Person ;\n",
    "                foaf:name ?name .\n",
    "    }\n",
    "    LIMIT 10\n",
    "\"\"\")\n",
    "\n",
    "sparql.setReturnFormat(JSON)\n",
    "results = sparql.query().convert()\n",
    "\n",
    "data = []\n",
    "for result in results[\"results\"][\"bindings\"]:\n",
    "    data.append([result['person']['value'], result['name']['value'], result['birthDate']['value']])\n",
    "\n",
    "print(data)\n"
   ]
  },
  {
   "cell_type": "code",
   "execution_count": 49,
   "metadata": {},
   "outputs": [
    {
     "name": "stdout",
     "output_type": "stream",
     "text": [
      "True\n"
     ]
    }
   ],
   "source": [
    "from SPARQLWrapper import SPARQLWrapper, JSON\n",
    "\n",
    "sparql = SPARQLWrapper(\"http://dbpedia.org/sparql\")\n",
    "\n",
    "sparql.setQuery(\"\"\"\n",
    "    PREFIX dbo: <http://dbpedia.org/ontology/>\n",
    "    PREFIX foaf: <http://xmlns.com/foaf/0.1/>\n",
    "    PREFIX res: <http://dbpedia.org/resource/>\n",
    "    PREFIX rdfs: <http://www.w3.org/2000/01/rdf-schema#>\n",
    "\n",
    "    SELECT ?name ?birthDate\n",
    "    WHERE {\n",
    "        ?person dbo:birthPlace res:Los_Angeles ;\n",
    "                dbo:birthDate ?birthDate ;\n",
    "                a dbo:Person ;\n",
    "                rdfs:label ?name .\n",
    "        FILTER (LANG(?name) = \"en\")\n",
    "    }\n",
    "    LIMIT 10\n",
    "\"\"\")\n",
    "\n",
    "sparql.setReturnFormat(JSON)\n",
    "results = sparql.query().convert()\n",
    "\n",
    "celebrities = []\n",
    "\n",
    "for result in results[\"results\"][\"bindings\"]:\n",
    "    name = result['name']['value']\n",
    "    birthDate = result['birthDate']['value']\n",
    "    celebrities.append([name, birthDate])\n",
    "\n",
    "found_celebrities = len(celebrities) > 0\n",
    "\n",
    "print(found_celebrities)\n"
   ]
  }
 ],
 "metadata": {
  "kernelspec": {
   "display_name": "py3_env",
   "language": "python",
   "name": "py3_env"
  },
  "language_info": {
   "codemirror_mode": {
    "name": "ipython",
    "version": 3
   },
   "file_extension": ".py",
   "mimetype": "text/x-python",
   "name": "python",
   "nbconvert_exporter": "python",
   "pygments_lexer": "ipython3",
   "version": "3.8.13"
  },
  "orig_nbformat": 4
 },
 "nbformat": 4,
 "nbformat_minor": 2
}
