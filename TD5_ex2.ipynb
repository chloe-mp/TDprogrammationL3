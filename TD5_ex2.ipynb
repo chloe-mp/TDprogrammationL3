{
 "cells": [
  {
   "cell_type": "code",
   "execution_count": 2,
   "metadata": {},
   "outputs": [
    {
     "data": {
      "text/plain": [
       "[Synset('car.n.01'),\n",
       " Synset('car.n.02'),\n",
       " Synset('car.n.03'),\n",
       " Synset('car.n.04'),\n",
       " Synset('cable_car.n.01')]"
      ]
     },
     "execution_count": 2,
     "metadata": {},
     "output_type": "execute_result"
    }
   ],
   "source": [
    "from nltk.corpus import wordnet\n",
    "from nltk.corpus import wordnet as wn\n",
    "wn.synsets('car')"
   ]
  },
  {
   "cell_type": "code",
   "execution_count": 3,
   "metadata": {},
   "outputs": [
    {
     "data": {
      "text/plain": [
       "1.0"
      ]
     },
     "execution_count": 3,
     "metadata": {},
     "output_type": "execute_result"
    }
   ],
   "source": [
    "automobile = wn.synset('automobile.n.01')\n",
    "car = wn.synset('car.n.01')\n",
    "automobile.path_similarity(car)"
   ]
  },
  {
   "cell_type": "code",
   "execution_count": 4,
   "metadata": {},
   "outputs": [
    {
     "data": {
      "text/plain": [
       "0.125"
      ]
     },
     "execution_count": 4,
     "metadata": {},
     "output_type": "execute_result"
    }
   ],
   "source": [
    "gem = wn.synset('gem.n.01')\n",
    "jewel = wn.synset('jewel.n.01')\n",
    "gem.path_similarity(jewel)"
   ]
  },
  {
   "cell_type": "code",
   "execution_count": 5,
   "metadata": {},
   "outputs": [
    {
     "data": {
      "text/plain": [
       "0.25"
      ]
     },
     "execution_count": 5,
     "metadata": {},
     "output_type": "execute_result"
    }
   ],
   "source": [
    "journey = wn.synset('journey.n.01')\n",
    "voyage = wn.synset('voyage.n.01')\n",
    "journey.path_similarity(voyage)"
   ]
  },
  {
   "cell_type": "code",
   "execution_count": 6,
   "metadata": {},
   "outputs": [
    {
     "data": {
      "text/plain": [
       "0.09090909090909091"
      ]
     },
     "execution_count": 6,
     "metadata": {},
     "output_type": "execute_result"
    }
   ],
   "source": [
    "food = wn.synset('food.n.01')\n",
    "fruit = wn.synset('fruit.n.01')\n",
    "food.path_similarity(fruit)"
   ]
  },
  {
   "cell_type": "code",
   "execution_count": 7,
   "metadata": {},
   "outputs": [
    {
     "data": {
      "text/plain": [
       "0.3333333333333333"
      ]
     },
     "execution_count": 7,
     "metadata": {},
     "output_type": "execute_result"
    }
   ],
   "source": [
    "boy = wn.synset('boy.n.01')\n",
    "lad = wn.synset('lad.n.01')\n",
    "boy.path_similarity(lad)"
   ]
  },
  {
   "cell_type": "code",
   "execution_count": 8,
   "metadata": {},
   "outputs": [
    {
     "data": {
      "text/plain": [
       "0.5"
      ]
     },
     "execution_count": 8,
     "metadata": {},
     "output_type": "execute_result"
    }
   ],
   "source": [
    "coast = wn.synset('coast.n.01')\n",
    "shore = wn.synset('shore.n.01')\n",
    "coast.path_similarity(shore)"
   ]
  },
  {
   "cell_type": "code",
   "execution_count": 9,
   "metadata": {},
   "outputs": [
    {
     "data": {
      "text/plain": [
       "Synset('savings_bank.n.02')"
      ]
     },
     "execution_count": 9,
     "metadata": {},
     "output_type": "execute_result"
    }
   ],
   "source": [
    "from nltk.wsd import lesk\n",
    "sentence = 'I went to the bank to deposit my money'\n",
    "ambigous_word = 'bank'\n",
    "lesk(sentence, ambigous_word)"
   ]
  },
  {
   "cell_type": "code",
   "execution_count": 10,
   "metadata": {},
   "outputs": [
    {
     "name": "stdout",
     "output_type": "stream",
     "text": [
      "Synset('bank.n.01') sloping land (especially the slope beside a body of water)\n",
      "Synset('depository_financial_institution.n.01') a financial institution that accepts deposits and channels the money into lending activities\n",
      "Synset('bank.n.03') a long ridge or pile\n",
      "Synset('bank.n.04') an arrangement of similar objects in a row or in tiers\n",
      "Synset('bank.n.05') a supply or stock held in reserve for future use (especially in emergencies)\n",
      "Synset('bank.n.06') the funds held by a gambling house or the dealer in some gambling games\n",
      "Synset('bank.n.07') a slope in the turn of a road or track; the outside is higher than the inside in order to reduce the effects of centrifugal force\n",
      "Synset('savings_bank.n.02') a container (usually with a slot in the top) for keeping money at home\n",
      "Synset('bank.n.09') a building in which the business of banking transacted\n",
      "Synset('bank.n.10') a flight maneuver; aircraft tips laterally about its longitudinal axis (especially in turning)\n",
      "Synset('bank.v.01') tip laterally\n",
      "Synset('bank.v.02') enclose with a bank\n",
      "Synset('bank.v.03') do business with a bank or keep an account at a bank\n",
      "Synset('bank.v.04') act as the banker in a game or in gambling\n",
      "Synset('bank.v.05') be in the banking business\n",
      "Synset('deposit.v.02') put into a bank account\n",
      "Synset('bank.v.07') cover with ashes so to control the rate of burning\n",
      "Synset('trust.v.01') have confidence or faith in\n"
     ]
    }
   ],
   "source": [
    "from nltk.corpus import wordnet as wn\n",
    "from nltk.wsd import lesk\n",
    "for ss in wn.synsets('bank'):\n",
    "    print(ss, ss.definition())"
   ]
  },
  {
   "cell_type": "code",
   "execution_count": 11,
   "metadata": {},
   "outputs": [
    {
     "data": {
      "text/plain": [
       "[(Synset('able.a.01'), 'a'),\n",
       " (Synset('able.s.02'), 's'),\n",
       " (Synset('able.s.03'), 's'),\n",
       " (Synset('able.s.04'), 's')]"
      ]
     },
     "execution_count": 11,
     "metadata": {},
     "output_type": "execute_result"
    }
   ],
   "source": [
    "[(s, s.pos()) for s in wn.synsets('able')]"
   ]
  },
  {
   "cell_type": "code",
   "execution_count": 12,
   "metadata": {},
   "outputs": [
    {
     "data": {
      "text/plain": [
       "Synset('able.a.01')"
      ]
     },
     "execution_count": 12,
     "metadata": {},
     "output_type": "execute_result"
    }
   ],
   "source": [
    "sent = 'people should be able to marry a person of their choice'.split()\n",
    "lesk(sent, 'able', 'a')"
   ]
  },
  {
   "cell_type": "code",
   "execution_count": 13,
   "metadata": {},
   "outputs": [
    {
     "data": {
      "text/plain": [
       "Synset('able.s.04')"
      ]
     },
     "execution_count": 13,
     "metadata": {},
     "output_type": "execute_result"
    }
   ],
   "source": [
    "lesk(sent, 'able', pos='s')"
   ]
  },
  {
   "cell_type": "code",
   "execution_count": 14,
   "metadata": {},
   "outputs": [],
   "source": [
    "import re\n",
    "sentence = re.sub(r'[^\\w\\s]',' ','texte')\n",
    "texte_en_liste_de_mots = sentence.split()"
   ]
  },
  {
   "cell_type": "code",
   "execution_count": 15,
   "metadata": {},
   "outputs": [
    {
     "name": "stdout",
     "output_type": "stream",
     "text": [
      "The sequencing suggests how the bacteria went wrong. Nearly a third of its genome consists of mobile elements of DNA on its chromosomes and in self-contained packets called plasmids. The toxic effects and drug resistance are a result of this mobile DNA.\n",
      "__________________________________________________\n",
      "['The', 'sequencing', 'suggests', 'how', 'the', 'bacteria', 'went', 'wrong.', 'Nearly', 'a', 'third', 'of', 'its', 'genome', 'consists', 'of', 'mobile', 'elements', 'of', 'DNA', 'on', 'its', 'chromosomes', 'and', 'in', 'self-contained', 'packets', 'called', 'plasmids.', 'The', 'toxic', 'effects', 'and', 'drug', 'resistance', 'are', 'a', 'result', 'of', 'this', 'mobile', 'DNA.']\n"
     ]
    }
   ],
   "source": [
    "sentence = 'The sequencing suggests how the bacteria went wrong. Nearly a third of its genome consists of mobile elements of DNA on its chromosomes and in self-contained packets called plasmids. The toxic effects and drug resistance are a result of this mobile DNA.'\n",
    "print(sentence)\n",
    "print('_'*50)\n",
    "print(sentence.split())"
   ]
  },
  {
   "cell_type": "code",
   "execution_count": 16,
   "metadata": {},
   "outputs": [],
   "source": [
    "def desambiguisation(mot, texte):\n",
    "    return lesk(re.sub(r'[^\\w]', ' ', texte).split(), mot)"
   ]
  },
  {
   "cell_type": "code",
   "execution_count": 17,
   "metadata": {},
   "outputs": [
    {
     "data": {
      "text/plain": [
       "Synset('resistance.n.08')"
      ]
     },
     "execution_count": 17,
     "metadata": {},
     "output_type": "execute_result"
    }
   ],
   "source": [
    "desambiguisation('resistance', 'The sequencing suggests how the bacteria went wrong. Nearly a third of its genome consists of mobile elements of DNA on its chromosomes and in self-contained packets called plasmids. The toxic effects and drug resistance are a result of this mobile DNA.')"
   ]
  },
  {
   "cell_type": "code",
   "execution_count": 18,
   "metadata": {},
   "outputs": [
    {
     "data": {
      "text/plain": [
       "Synset('underground.n.01')"
      ]
     },
     "execution_count": 18,
     "metadata": {},
     "output_type": "execute_result"
    }
   ],
   "source": [
    "desambiguisation('resistance', 'A resistance movement is an organized effort by some portion of the civil population of a country to withstand the legally established government or an occupying power and to disrupt civil order and stability.')"
   ]
  },
  {
   "cell_type": "code",
   "execution_count": 19,
   "metadata": {},
   "outputs": [
    {
     "name": "stdout",
     "output_type": "stream",
     "text": [
      "A baseball bat is a smooth wooden or metal club used in the sport of baseball to hit the ball after it is thrown by the pitcher.\n",
      "__________________________________________________\n",
      "['A', 'baseball', 'bat', 'is', 'a', 'smooth', 'wooden', 'or', 'metal', 'club', 'used', 'in', 'the', 'sport', 'of', 'baseball', 'to', 'hit', 'the', 'ball', 'after', 'it', 'is', 'thrown', 'by', 'the', 'pitcher.']\n"
     ]
    }
   ],
   "source": [
    "sentence = 'A baseball bat is a smooth wooden or metal club used in the sport of baseball to hit the ball after it is thrown by the pitcher.'\n",
    "print(sentence)\n",
    "print('_'*50)\n",
    "print(sentence.split())"
   ]
  },
  {
   "cell_type": "code",
   "execution_count": 20,
   "metadata": {},
   "outputs": [
    {
     "data": {
      "text/plain": [
       "Synset('bat.n.05')"
      ]
     },
     "execution_count": 20,
     "metadata": {},
     "output_type": "execute_result"
    }
   ],
   "source": [
    "desambiguisation('bat', 'A baseball bat is a smooth wooden or metal club used in the sport of baseball to hit the ball after it is thrown by the pitcher.')"
   ]
  },
  {
   "cell_type": "code",
   "execution_count": 21,
   "metadata": {},
   "outputs": [
    {
     "name": "stdout",
     "output_type": "stream",
     "text": [
      "Synset('bat.n.01') nocturnal mouselike mammal with forelimbs modified to form membranous wings and anatomical adaptations for echolocation by which they navigate\n",
      "Synset('bat.n.02') (baseball) a turn trying to get a hit\n",
      "Synset('squash_racket.n.01') a small racket with a long handle used for playing squash\n",
      "Synset('cricket_bat.n.01') the club used in playing cricket\n",
      "Synset('bat.n.05') a club used for hitting a ball in various games\n",
      "Synset('bat.v.01') strike with, or as if with a baseball bat\n",
      "Synset('bat.v.02') wink briefly\n",
      "Synset('bat.v.03') have a turn at bat\n",
      "Synset('bat.v.04') use a bat\n",
      "Synset('cream.v.02') beat thoroughly and conclusively in a competition or fight\n"
     ]
    }
   ],
   "source": [
    "from nltk.corpus import wordnet as wn\n",
    "from nltk.wsd import lesk\n",
    "for ss in wn.synsets('bat'):\n",
    "    print(ss, ss.definition())"
   ]
  },
  {
   "cell_type": "code",
   "execution_count": 22,
   "metadata": {},
   "outputs": [
    {
     "data": {
      "text/plain": [
       "[Synset('baseball_bat.n.01'), Synset('paddle.n.01')]"
      ]
     },
     "execution_count": 22,
     "metadata": {},
     "output_type": "execute_result"
    }
   ],
   "source": [
    "bat = wn.synset('bat.n.05')\n",
    "bat.hyponyms()"
   ]
  },
  {
   "cell_type": "code",
   "execution_count": 25,
   "metadata": {},
   "outputs": [
    {
     "data": {
      "text/plain": [
       "['batte', 'chauve-souris']"
      ]
     },
     "execution_count": 25,
     "metadata": {},
     "output_type": "execute_result"
    }
   ],
   "source": [
    "wn.synset('bat.n.05').lemma_names('fra') "
   ]
  },
  {
   "cell_type": "code",
   "execution_count": 26,
   "metadata": {},
   "outputs": [
    {
     "data": {
      "text/plain": [
       "['bat']"
      ]
     },
     "execution_count": 26,
     "metadata": {},
     "output_type": "execute_result"
    }
   ],
   "source": [
    "wn.synset('bat.n.05').lemma_names('eng')"
   ]
  },
  {
   "cell_type": "code",
   "execution_count": 28,
   "metadata": {},
   "outputs": [
    {
     "data": {
      "text/plain": [
       "0.1111111111111111"
      ]
     },
     "execution_count": 28,
     "metadata": {},
     "output_type": "execute_result"
    }
   ],
   "source": [
    "bat = wn.synset('bat.n.05')\n",
    "cricket_bat = wn.synset('cricket_bat.n.01')\n",
    "cricket_bat.path_similarity(bat)"
   ]
  }
 ],
 "metadata": {
  "kernelspec": {
   "display_name": "Python 3",
   "language": "python",
   "name": "python3"
  },
  "language_info": {
   "codemirror_mode": {
    "name": "ipython",
    "version": 3
   },
   "file_extension": ".py",
   "mimetype": "text/x-python",
   "name": "python",
   "nbconvert_exporter": "python",
   "pygments_lexer": "ipython3",
   "version": "3.10.6"
  },
  "orig_nbformat": 4,
  "vscode": {
   "interpreter": {
    "hash": "aee8b7b246df8f9039afb4144a1f6fd8d2ca17a180786b69acc140d282b71a49"
   }
  }
 },
 "nbformat": 4,
 "nbformat_minor": 2
}
