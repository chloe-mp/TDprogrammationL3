{
 "cells": [
  {
   "cell_type": "code",
   "execution_count": 203,
   "metadata": {},
   "outputs": [],
   "source": [
    "def lire_fichier(toto):\n",
    "    f = open(toto, encoding=\"utf-8\")\n",
    "    chaine = f.read()\n",
    "    f.close()\n",
    "    return chaine\n",
    "\n",
    "import glob\n",
    "documents = {}\n",
    "chemin_corpus = \"corpus_multi/fr/*/*\"\n",
    "\n",
    "for chemin in glob.glob(chemin_corpus):\n",
    "    documents[chemin] = lire_fichier(chemin)"
   ]
  },
  {
   "cell_type": "code",
   "execution_count": 204,
   "metadata": {},
   "outputs": [
    {
     "name": "stdout",
     "output_type": "stream",
     "text": [
      "IP/09/ 1884  Bruxelles, le 7 décembre 2009  Aides d'État:  le tableau de bord révèle une augmentation sensible des aides accordées dans le contexte de la crise financière, mais montre un marché unique intact  Le dernier tableau de bord des aides d'État de la Commis sion européenne indique que la crise financière a entraîné une augmentation sensible du volume total des aides, qui est passé de 66,5 milliards €, soit 0,52 % du PIB de l'UE‑27, en 2007 à 279,6 milliards €, soit 2,2 % du PIB, en 2008.  Abstraction faite des mesures de crise, les aides se sont élevées en 2008 à 67,4 milliards € au total, soit 0,54 % du PIB.  L'action rapide et coordonnée des États membres et de la Commission a contribué à préserver la stabilité financière.  La politique de la Commission européenne en matière d'aides d'État est l’un des éléments clés grâce auxquels ce processus de sauvetage, globalement couronné de succès, a pu être mené à bien de façon coordonnée.  La Commission a permis la mise en œuvre rapide de mesures de soutien sans précédent, tout en veillant à ce que le marché unique ne soit pas perturbé par des distorsions de concurrence excessives.  Les aides non liées à la crise sont demeurées globalement stables et axées sur des objectifs d'intérêt commun.   M me  Neelie Kroes, membre de la Commission européenne chargée de la concurrence, s’est exprimée en ces termes:  «Au cours des 14 derniers mois, des mesures de sauvetage sans précédent ont permis à l'Europe de stabiliser les marchés financiers et d'ouvrir la voie à la reprise.  En autorisant ces aides rapidement et en contrôlant rigoureusement leur utilisation, nous avons fait en sorte que les aides publiques constituent une partie de la solution apportée à la crise.  Nous venons d'entrer dans la phase de restructuration du système bancaire, et les premières décisions importantes ont déjà été prises – concernant, entre autres, KBC, ING, Lloyds, Fortis et Commerzbank.  En 2009, nous avons aussi autorisé des aides supplémentaires en faveur de l'économie réelle afin de compenser le resserrement du crédit.  Je note avec beaucoup de satisfaction que les États membres, malgré des temps difficiles, ont continué d’observer une discipline en matière d'aides d’État et ont poursuivi leurs efforts afin de réorienter les aides au profit d’objectifs horizontaux d’intérêt commun, tels que la recherche.  Des aides bien ciblées devraient donc continuer à nous aider à progresser sur la voie de la reprise économique.»  Aides destinées à surmonter la crise financière actuelle  Les actions coordonnées des États membres et de la Commission et l'introduction de règles spécifiques à la crise ont permis la mise en œuvre rapide de régimes d'aides et de mesures ad hoc ne compromettant pas l'équité des conditions de concurrence au niveau de l'UE.   Les aides de crise accordé es par les États membres et autorisées par la Commission en 2008 se sont élevées à 3 361 milliards € au total.  Le montant nominal des aides de crise effectivement mises à exécution par les États membres en 2008 a été moins élevé, soit 958 milliards €. L'élément d'aide d'État de ce montant est estimé à 212,2 milliards € (1,7 % du PIB de l'UE-27),  soit nettement moins que le montant nominal, notamment parce que l'élément d'aide des garanties publiques ne constitue en principe qu'une petite fraction des montants garantis. En outre, les dépenses budgétaires réelles ne se matérialisent que lorsqu’une garantie d’État est activée dans les faits. Les États membres poursuivent leurs efforts afin de réorienter les aides vers des objectifs horizontaux  En dehors des mesures liées à la crise financière, les États membres ont poursuivi leurs efforts en vue d'une réorientation des aides vers des objectifs horizontaux d'intérêt commun.  Quelque 88 % des aides en faveur de l'industrie et des services poursuivent à présent de tels objectifs, alors que les aides au sauvetage et à la restructuration non liées à la crise sont en baisse.  La Commission observe en particulier qu'une importance accrue est accordée aux aides régionales et aux aides en faveur de la recherche, du développement et de l'innovation, ce qui devrait favoriser, à l'avenir, les possibilités en matière de croissance de l'emploi.  Simplification et souplesse  Les réformes découlant du plan d'action dans le domaine des aides d'État 2005‑2008 (voir   IP/05/680   ) continuent de porter leurs fruits.  Les nouvelles exemptions d'examen ex ante par la Commission, prévues par le règlement de minimis (voir   IP/06/1765   ) ou le règlement général d'exemption par catégorie qui a été adopté récemment (voir   IP/08/1110   ), réduisent les charges administratives sans nuire à l'équité des conditions de concurrence.  En termes de volume, près de 19 % des aides accordées bénéficient d'exemptions par catégorie.  En outre, 76 % des aides d'État sont appréciées par la Commission dans le cadre de régimes d'aides.  Ces régimes ou programmes, une fois autorisés par la Commission, permettent aux États membres d'accorder des aides à un nombre élevé de bénéficiaires sans autre examen.  Les mesures devant faire l'objet d'une appréciation individuelle au niveau du bénéficiaire ne représentent que 5 % du total des aides.  Les États membres disposent donc d'une grande souplesse, tandis que les critères de compatibilité permettent la sauvegarde du marché unique.  Mise en œuvre  Le tableau de bord fait état de nouveaux progrès dans la récupération des aides illégales et des aides incompatibles.  À la fin du mois de juin 2009, 9,4 milliards € avaient été effectivement récupérés.  La part des aides illégales toujours pendantes n'était que de 9 %, ce qui signifie que 91 % du total des aides illégales et des aides incompatibles avaient été effectivement remboursés par leurs bénéficiaires, contre 25 % seulement à la fin de l'année 2004. Le tableau de bord, les «Faits et chiffres concernant les aides d'État dans les États membres» figurant en annexe de celui‑ci, de même qu'une série de tableaux et d'indicateurs statistiques détaillés pour l'ensemble des États membres peuvent être consultés sur le site web Europa à l'adresse suivante:    http://ec.europa.eu/comm/competition/state_aid/studies_reports/studies_reports.html   .   Voir aussi   MEMO/09/540   . Total des aides en % du PIB (UE-27, données à partir de 1992)  Figures and graphics available in PDF and WORD PROCESSED Figures and graphics available in PDF and WORD PROCESSED Figures and graphics available in PDF and WORD PROCESSED Figures and graphics available in PDF and WORD PROCESSED Figures and graphics available in PDF and WORD PROCESSED Figures and graphics available in PDF and WORD PROCESSED Figures and graphics available in PDF and WORD PROCESSED Figures and graphics available in PDF and WORD PROCESSED Figures and graphics available in PDF and WORD PROCESSED Figures and graphics available in PDF and WORD PROCESSED Figures and graphics available in PDF and WORD PROCESSED Figures and graphics available in PDF and WORD PROCESSED Figures and graphics available in PDF and WORD PROCESSED Figures and graphics available in PDF and WORD PROCESSED Figures and graphics available in PDF and WORD PROCESSED Figures and graphics available in PDF and WORD PROCESSED Figures and graphics available in PDF and WORD PROCESSED Figures and graphics available in PDF and WORD PROCESSED Figures and graphics available in PDF and WORD PROCESSED Figures and graphics available in PDF and WORD PROCESSED Figures and graphics available in PDF and WORD PROCESSED Figures and graphics available in PDF and WORD PROCESSED Figures and graphics available in PDF and WORD PROCESSED Figures and graphics available in PDF and WORD PROCESSED Figures and graphics available in PDF and WORD PROCESSED Figures and graphics available in PDF and WORD PROCESSED Figures and graphics available in PDF and WORD PROCESSED    Des aides moins nombreuses et mieux ciblées:  chiffres‑clés (hors mesures de crise)                              Aides d'État, en Mrd €, 2008   Part des aides d'État dans le PIB (%), 2008   Évolution de la part des aides d'État dans le PIB, 2003‑2008, en points de % (1)     Total des aides hors aides au secteur ferro-viaire   Total des aides en faveur de l'industrie et des services (hors agriculture, pêche et transports)    Total des aides hors aides au secteur ferro-viaire     Total des aides en faveur de l'industrie et des services (hors agriculture, pêche et transports)     Total des aides hors aides au secteur ferroviai -re     Total des aides en faveur de l'indus -trie et des services         Part des aides consa-crées à des objectifs horizon-taux en % du total des aides à l'industrie et aux s ervices, 2008    Évolution de la part des aides consa-crées à des objectifs horizon-taux en % du total des aides, 2003-2008, en points de % (1)     UE‑27   67,4   52,9   0,54   0,42   - 0,05   - 0,05   88   10,8     UE‑15   57,1   45,8   0,50   0,40   - 0,03   - 0,02   88   4,3     UE‑12   10,3   7,1   1,05   0,72   - 0,46   - 0,50   87   48,1     Belgique   1,6   1,2   0,46   0,36   0,08   0,09   99    - 1,0      Bulgarie   0,4   0,0   1,30   0,12   0,60   - 0,20   91   38,4     République tchèque   1,4   1,2   0,97   0,78   - 0,47   - 0,51   94   65,3     Danemark   1,9   1,7   0,80   0,71   0,01   0,02   94   1,2     Allemagne   15,7   14,2   0,63   0,57   - 0,09   - 0,08   87   7,5     Estonie   0,0   0,0   0,29   0,09   0,00   - 0,02   100   0,0     Irlande   1,9   0,7   1,05   0,38   0,30   0,06   84   11,4     Grèce   1,0   0,8   0,42   0,33   - 0,04   0,06   98   1,5     Espagne   5,2   4,4   0,48   0,40   - 0,02   - 0,04   79   8,1     France   10,3   7,6   0,53   0,39   - 0,04   - 0,01   96   18,7     Italie   5,5   4,5   0,35   0,29   - 0,07   - 0,06   85    - 10,4      Chypre   0,1   0,1   0,65   0,47   -1,12   - 0,90   95   61,1     Lettonie   0,2   0,0   0,88   0,20   0,32   0,03   100   10,1     Lituanie   0,3   0,2   0,82   0,53   0,18   0,10   100   54,2     Luxembourg   0,1   0,1   0,20   0,15   - 0,11   - 0,04   100   0,0     Hongrie   2,5   1,9   2,8   1,1   - 0,10   0,21   81   19,0     Malte   0,1   0,1   2,00   1,74   - 0,78   - 0,86   2   - 2,1     Pays-Bas   2,2   1,5   0,36   0,25   - 0,04   0,03   98   3,0     Autriche   1,3   1,1   0,46   0,38   0,06   0,07   99   - 20,7     Pologne   3,7   2,9   1,02   0,80   - 0,84   - 0,82   93   67,1     Portugal   1,6   1,5   0,93   0,92   0,15   0,19   16   - 3,5     Roumanie   0,9   0,3   0,64   0,18   - 0,55   - 0,99   53   15,6     Slovénie   0,2   0,2   0,66   0,47   - 0,10   - 0,09   89   8,7     Slovaquie   0,4   0,3   0,53   0,42   - 0,04   - 0,07   84   21,1     Finlande   2,1   0,8   1,13   0,44   - 0,13   0,02   98   - 0,2     Suède   3,0   2,7   0,92   0,82   0,15   0,16   100   - 0,3     Royaume-Uni   3,8   3,1   0,21   0,17   - 0,04   - 0,02   91    - 4,8      Norvège   2,3   1,7   0,74   0,56    s.o. (2)   s.o.   s.o.   s.o.     Islande   0,02   0,02   0,21   0,21   s.o.   s.o.   s.o.   s.o.     Liechtenstein   0,001   0,001   0,03   0,03   s.o.   s.o.   s.o.   s.o.      Note:  les données couvrent toutes les mesures d'aides d'État, au sens de l'article 87, paragraphe 1, du traité CE, qui ont été accordées par les États membres et examinées par la Commission.  Les règles communautaires relatives à la politique agricole et à la politique de la pêche ne sont pas couvertes par l'accord EEE.  Les aides accordés à ces secteurs ne sont donc pas  incluses pour les États de l'AELE.  (1) Variation en points de pourcentage entre la moyenne annuelle sur 2003-2005 et celle sur 2006‑2008.  Source:  DG Concurrence, DG Énergie et Transports, DG Agriculture, DG Affaires maritimes et pêche et Autorité de surveillance AELE.  (2) Sans objet.  Aides d'État liées à des mesures de crise (2008,  chiffres en milliards €)                         Volume total autorisé en 2008    Volume total autorisé entre le 1.1.2009 et le 31.3.    2009   Volume total autorisé entre 2008 et le 31.3.2009    Volume total autorisé entre le 1.4.2009 et le 11.11.2009    Volume total autorisé entre 2008 et le 11.11.2009   Subven-tions                Prises de participation   Prêts à taux réduit   Garanties    Total des aides de crise notifiées pour 2008    Total des aides de crise accor-dées (en % du PIB)   Part du secteur bancai-re en % de l'éco-nomie totale     Valeur nominale   Aide accor-dée   Valeur nomina-le   Aide accor-dée   Valeur nomina-le   Aide accor-dée   Valeur nomina-le   Aide accor-dée   %   %         Belgique   255,15   7,80   262,95   25,36   288,31       16,40   11,70           30,40   6,08   46,80   17,78   5,17   5,4     Danemark   585,44   13,50   598,94   0,82   599,75       0,50   0,50   2,35   2,35   0,00   0,00   2,85   2,85   1,22   5,4     Allemagne   545,23   20,00   565,23   23,90   589,13   8,86   11,20   11,20   23,78   3,17   137,10   27,90   180,94   51,14   2,05   3,6     Irlande   376,00   5,00   381,00   7,50   388,50                       355,76   35,58   355,76   35,58   19,16   10,9     Grèce   28,00       28,00       28,00                                           4,0     Espagne   250,00       250,00       250,00       -   -           99,13   0,93    99.13   0,93   0,09   5,1     France   341,25   4,70   345,95       345,95       11,50   11,50           31,40   4,98   42,90   16,48   0,85   4,7     Italie   20,00       20,00       20,00                                           4,8     Chypre               3,00   3.00                                           7,8     Lettonie   7,44       7,44       7,44               0,96   0,96           0,96   0,96   4,17   6,2     Luxembourg   7,00       7,00   0,26   7,26       2,50   2,50           1,50   0,30   4,00   2,80   7,64   29,1     Hongrie       5,99   5,99   0,04   6,03                                           4,0     Pays-Bas   217,75   22,79   240,54       240,54       10,75   10,75   3,00   3,00   3,34   0,33   17,09   14,08   2,37   5,6     Autriche   90,00       90,00   0,10   90,10                                           5,6     Pologne               10,00   10,00                                           5,1     Portugal   20,00   0,45   20,45   4,00   24,45                       4,30   0,43   4.30   0,43   0,26   8,2     Slovénie   12,00       12,00       12,00                                           4,3     Finlande   50,00       50,00   4,00   54,00                       0,12   0,00   0,12   0,00       2,9     Suède   150,52   4,80   155,32       155,32       0,25   0,25   0,00   0,00   1,14   0,11   1,39   0,36   0,11   3,6     Royaume-Uni   405,15   11,25   416,40   95,77   512,17   5,02   46,47   46,47   2,86   0,43   146,93   16,83   201,28   68,75   3,79   7,6     Total UE-27   3 360,92   96,28   3 457,20   174,74   3 631,94   13,89   99,57   94,87   32,95   9,92   811,12   93,48   957,52   212,15   1,70   -\n",
      "\n"
     ]
    }
   ],
   "source": [
    "liste_doc = list(documents.keys())\n",
    "print(documents[liste_doc[23]])"
   ]
  },
  {
   "cell_type": "code",
   "execution_count": 205,
   "metadata": {},
   "outputs": [
    {
     "name": "stderr",
     "output_type": "stream",
     "text": [
      "[nltk_data] Downloading package punkt to /Users/chloe/nltk_data...\n",
      "[nltk_data]   Package punkt is already up-to-date!\n"
     ]
    }
   ],
   "source": [
    "from nltk.tokenize import word_tokenize\n",
    "import nltk\n",
    "nltk.download('punkt')\n",
    "\n",
    "def decouper_mots(chaine):\n",
    "    tokens = nltk.word_tokenize(chaine, language='french')\n",
    "    mots=word_tokenize(chaine)\n",
    "    return set (mots)"
   ]
  },
  {
   "cell_type": "code",
   "execution_count": 206,
   "metadata": {},
   "outputs": [
    {
     "name": "stdout",
     "output_type": "stream",
     "text": [
      "2559\n",
      "['pratique', 'vingt-trois', 'faire', 'initiative', 'de', 'aujourd', 'pratiques', 'engage', 'Lisbonne', 'disponible', 'signatures', 'institutionnelles', 'la', 'modalités', 'publique', 'approbation', 'Le', 'délai', 'exemple', 'forme', 'particulier', 'à', 'nombre', \"l'Union\", 'ministres', 'concrètes', 'citoyenne', 'consultation', 'vaste', 'inviter', \"l'un\", '2010', 'ensuite', 'européenne', 'significatif', 'questions', 'a', 'prévue', 'et', 'représentés', 'traité', 'permettre', 'décisionnel', 'plus', 'proposition', 'citoyens', 'délais', '11', 'les', 'moyen']\n",
      "{'corpus_multi/fr/test/2009-05-29_celex_IP-09-851.fr.html'}\n"
     ]
    }
   ],
   "source": [
    "import glob\n",
    "index = {}\n",
    "\n",
    "for chemin in glob.glob(\"corpus_multi/fr/*/*\")[:10]:\n",
    "    chaine = lire_fichier(chemin)\n",
    "    mots = decouper_mots(chaine)\n",
    "    for mot in mots:\n",
    "        if mot not in index:\n",
    "            index[mot] = set()\n",
    "        index[mot].add(chemin)\n",
    "\n",
    "print(len(index))\n",
    "print(list(index.keys())[:50])\n",
    "print(index[\"indique\"])"
   ]
  },
  {
   "cell_type": "code",
   "execution_count": 207,
   "metadata": {},
   "outputs": [],
   "source": [
    "import json\n",
    "index_pour_json = {}\n",
    "for mot, liste_docs in index.items():\n",
    "    index_pour_json[mot] = list(liste_docs)\n",
    "\n",
    "index_pour_json = {mot:list(liste_docs) for mot, liste_docs in index.items()}\n",
    "\n",
    "with open(\"index.json\", \"w\", encoding=\"utf-8\") as w:\n",
    "    w.write(json.dumps(index_pour_json))"
   ]
  },
  {
   "cell_type": "code",
   "execution_count": 208,
   "metadata": {},
   "outputs": [],
   "source": [
    "with open(\"index.json\", \"r\", encoding=\"utf-8\") as f:\n",
    "    index = json.load(f)"
   ]
  },
  {
   "cell_type": "code",
   "execution_count": 209,
   "metadata": {},
   "outputs": [],
   "source": [
    "#requete=index[\"Commission\"]\n",
    "#requete=decouper_mots(chaine)\n",
    "#print(len(requete))\n",
    "#print(requete)"
   ]
  },
  {
   "cell_type": "code",
   "execution_count": 210,
   "metadata": {},
   "outputs": [],
   "source": [
    "#requete=index[\"européenne\"]\n",
    "#requete=decouper_mots(chaine)\n",
    "#print(len(requete))\n",
    "#print(requete)"
   ]
  },
  {
   "cell_type": "code",
   "execution_count": 211,
   "metadata": {},
   "outputs": [],
   "source": [
    "#requete=\"Commission européenne\"\n",
    "#requete=decouper_mots(requete)\n",
    "#for mot in requete:\n",
    "    \n",
    "    #if mot not in index:\n",
    "       \n",
    "        #print(f\"{mot} n'est pas connu\")\n",
    "    #else:\n",
    "        #print(index[mot])"
   ]
  },
  {
   "cell_type": "code",
   "execution_count": 212,
   "metadata": {},
   "outputs": [],
   "source": [
    "resultats = [index_pour_json]\n",
    "ordre_decroissant=sorted(resultats, reverse=True)\n",
    "#print(ordre_decroissant)"
   ]
  },
  {
   "cell_type": "code",
   "execution_count": 213,
   "metadata": {},
   "outputs": [
    {
     "name": "stdout",
     "output_type": "stream",
     "text": [
      "ggugk totoutkutk\n",
      "tkutu toto\n"
     ]
    }
   ],
   "source": [
    "import re\n",
    "def afficher_contextes(chaine, terme, taille_contexte = 30):\n",
    "    match = re.search(terme, chaine)\n",
    "    contexts = []\n",
    "    while match is not None: \n",
    "        gauche = max(match.start()-taille_contexte-1, 0)\n",
    "        droite = match.end()+1+taille_contexte\n",
    "        contexts.append(chaine[gauche:droite])\n",
    "        chaine = chaine [match.end():]\n",
    "        match = re.search(terme, chaine)\n",
    "    for c in contexts:\n",
    "        print(c)\n",
    "afficher_contextes(\"g,g,jg,ggugk totoutkutkutkutu toto\", \"toto\", 5)"
   ]
  },
  {
   "cell_type": "code",
   "execution_count": 214,
   "metadata": {},
   "outputs": [],
   "source": [
    "#import nltk\n",
    "#nltk.download('punkt')\n",
    "\n",
    "#tokens = nltk.word_tokenize(chaine, language='french')\n",
    "#print(word_tokenize(chaine))"
   ]
  },
  {
   "cell_type": "code",
   "execution_count": 215,
   "metadata": {},
   "outputs": [],
   "source": [
    "#def lire_fichier(chemin):\n",
    "    #with open(chemin, encoding = 'utf-8') as f:\n",
    "        #chaine = f.read()\n",
    "    #return chaine\n",
    "#import glob\n",
    "#dic_langues = {}\n",
    "#liste_fichiers = glob.glob(\"corpus_multi/fr/*/*\")\n",
    "#print(\"Nombre de fichiers : %i\"%len(liste_fichiers))\n",
    "#for chemin in liste_fichiers:\n",
    "    #print(chemin)\n",
    "    #dossiers = chemin.split(\"/\")\n",
    "    #langue = dossiers[1]\n",
    "    #if langue not in dic_langues:\n",
    "        #dic_langues[langue] = {}\n",
    "    #chaine = lire_fichier(chemin)\n",
    "    #mot = chaine.split()\n",
    "    #for n in mot:\n",
    "        #if n not in dic_langues[langue]:\n",
    "            #dic_langues[langue][n]=1\n",
    "        #else:\n",
    "            #dic_langues[langue][n]+=1 \n",
    "#print(dic_langues.keys())"
   ]
  },
  {
   "cell_type": "code",
   "execution_count": 216,
   "metadata": {},
   "outputs": [
    {
     "name": "stderr",
     "output_type": "stream",
     "text": [
      "[nltk_data] Downloading package punkt to /Users/chloe/nltk_data...\n",
      "[nltk_data]   Package punkt is already up-to-date!\n"
     ]
    },
    {
     "name": "stdout",
     "output_type": "stream",
     "text": [
      "Requirement already satisfied: spacy in /Users/chloe/opt/anaconda3/lib/python3.9/site-packages (3.4.4)\n",
      "Requirement already satisfied: langcodes<4.0.0,>=3.2.0 in /Users/chloe/opt/anaconda3/lib/python3.9/site-packages (from spacy) (3.3.0)\n",
      "Requirement already satisfied: spacy-loggers<2.0.0,>=1.0.0 in /Users/chloe/opt/anaconda3/lib/python3.9/site-packages (from spacy) (1.0.4)\n",
      "Requirement already satisfied: spacy-legacy<3.1.0,>=3.0.10 in /Users/chloe/opt/anaconda3/lib/python3.9/site-packages (from spacy) (3.0.10)\n",
      "Requirement already satisfied: srsly<3.0.0,>=2.4.3 in /Users/chloe/opt/anaconda3/lib/python3.9/site-packages (from spacy) (2.4.5)\n",
      "Requirement already satisfied: packaging>=20.0 in /Users/chloe/opt/anaconda3/lib/python3.9/site-packages (from spacy) (21.3)\n",
      "Requirement already satisfied: pydantic!=1.8,!=1.8.1,<1.11.0,>=1.7.4 in /Users/chloe/opt/anaconda3/lib/python3.9/site-packages (from spacy) (1.8.2)\n",
      "Requirement already satisfied: preshed<3.1.0,>=3.0.2 in /Users/chloe/opt/anaconda3/lib/python3.9/site-packages (from spacy) (3.0.8)\n",
      "Requirement already satisfied: numpy>=1.15.0 in /Users/chloe/opt/anaconda3/lib/python3.9/site-packages (from spacy) (1.21.5)\n",
      "Requirement already satisfied: thinc<8.2.0,>=8.1.0 in /Users/chloe/opt/anaconda3/lib/python3.9/site-packages (from spacy) (8.1.5)\n",
      "Requirement already satisfied: smart-open<7.0.0,>=5.2.1 in /Users/chloe/opt/anaconda3/lib/python3.9/site-packages (from spacy) (6.2.0)\n",
      "Requirement already satisfied: setuptools in /Users/chloe/opt/anaconda3/lib/python3.9/site-packages (from spacy) (65.6.3)\n",
      "Requirement already satisfied: tqdm<5.0.0,>=4.38.0 in /Users/chloe/opt/anaconda3/lib/python3.9/site-packages (from spacy) (4.64.0)\n",
      "Requirement already satisfied: catalogue<2.1.0,>=2.0.6 in /Users/chloe/opt/anaconda3/lib/python3.9/site-packages (from spacy) (2.0.8)\n",
      "Requirement already satisfied: typer<0.8.0,>=0.3.0 in /Users/chloe/opt/anaconda3/lib/python3.9/site-packages (from spacy) (0.4.2)\n",
      "Requirement already satisfied: cymem<2.1.0,>=2.0.2 in /Users/chloe/opt/anaconda3/lib/python3.9/site-packages (from spacy) (2.0.7)\n",
      "Requirement already satisfied: requests<3.0.0,>=2.13.0 in /Users/chloe/opt/anaconda3/lib/python3.9/site-packages (from spacy) (2.27.1)\n",
      "Requirement already satisfied: murmurhash<1.1.0,>=0.28.0 in /Users/chloe/opt/anaconda3/lib/python3.9/site-packages (from spacy) (1.0.9)\n",
      "Requirement already satisfied: pathy>=0.3.5 in /Users/chloe/opt/anaconda3/lib/python3.9/site-packages (from spacy) (0.10.1)\n",
      "Requirement already satisfied: jinja2 in /Users/chloe/opt/anaconda3/lib/python3.9/site-packages (from spacy) (2.11.3)\n",
      "Requirement already satisfied: wasabi<1.1.0,>=0.9.1 in /Users/chloe/opt/anaconda3/lib/python3.9/site-packages (from spacy) (0.10.1)\n",
      "Requirement already satisfied: pyparsing!=3.0.5,>=2.0.2 in /Users/chloe/opt/anaconda3/lib/python3.9/site-packages (from packaging>=20.0->spacy) (3.0.4)\n",
      "Requirement already satisfied: typing-extensions>=3.7.4.3 in /Users/chloe/opt/anaconda3/lib/python3.9/site-packages (from pydantic!=1.8,!=1.8.1,<1.11.0,>=1.7.4->spacy) (4.1.1)\n",
      "Requirement already satisfied: charset-normalizer~=2.0.0 in /Users/chloe/opt/anaconda3/lib/python3.9/site-packages (from requests<3.0.0,>=2.13.0->spacy) (2.0.4)\n",
      "Requirement already satisfied: urllib3<1.27,>=1.21.1 in /Users/chloe/opt/anaconda3/lib/python3.9/site-packages (from requests<3.0.0,>=2.13.0->spacy) (1.26.9)\n",
      "Requirement already satisfied: idna<4,>=2.5 in /Users/chloe/opt/anaconda3/lib/python3.9/site-packages (from requests<3.0.0,>=2.13.0->spacy) (3.3)\n",
      "Requirement already satisfied: certifi>=2017.4.17 in /Users/chloe/opt/anaconda3/lib/python3.9/site-packages (from requests<3.0.0,>=2.13.0->spacy) (2022.12.7)\n",
      "Requirement already satisfied: blis<0.8.0,>=0.7.8 in /Users/chloe/opt/anaconda3/lib/python3.9/site-packages (from thinc<8.2.0,>=8.1.0->spacy) (0.7.9)\n",
      "Requirement already satisfied: confection<1.0.0,>=0.0.1 in /Users/chloe/opt/anaconda3/lib/python3.9/site-packages (from thinc<8.2.0,>=8.1.0->spacy) (0.0.3)\n",
      "Requirement already satisfied: click<9.0.0,>=7.1.1 in /Users/chloe/opt/anaconda3/lib/python3.9/site-packages (from typer<0.8.0,>=0.3.0->spacy) (8.0.4)\n",
      "Requirement already satisfied: MarkupSafe>=0.23 in /Users/chloe/opt/anaconda3/lib/python3.9/site-packages (from jinja2->spacy) (2.0.1)\n"
     ]
    }
   ],
   "source": [
    "import glob, re, json, nltk\n",
    "nltk.download('punkt')\n",
    "!pip3 install -U spacy \n",
    "import spacy "
   ]
  },
  {
   "cell_type": "code",
   "execution_count": 217,
   "metadata": {},
   "outputs": [
    {
     "name": "stdout",
     "output_type": "stream",
     "text": [
      "Collecting fr-core-news-sm==3.4.0\n",
      "  Downloading https://github.com/explosion/spacy-models/releases/download/fr_core_news_sm-3.4.0/fr_core_news_sm-3.4.0-py3-none-any.whl (16.3 MB)\n",
      "\u001b[2K     \u001b[90m━━━━━━━━━━━━━━━━━━━━━━━━━━━━━━━━━━━━━━━━\u001b[0m \u001b[32m16.3/16.3 MB\u001b[0m \u001b[31m5.9 MB/s\u001b[0m eta \u001b[36m0:00:00\u001b[0m00:01\u001b[0m00:01\u001b[0m\n",
      "\u001b[?25hRequirement already satisfied: spacy<3.5.0,>=3.4.0 in /Users/chloe/opt/anaconda3/lib/python3.9/site-packages (from fr-core-news-sm==3.4.0) (3.4.4)\n",
      "Requirement already satisfied: smart-open<7.0.0,>=5.2.1 in /Users/chloe/opt/anaconda3/lib/python3.9/site-packages (from spacy<3.5.0,>=3.4.0->fr-core-news-sm==3.4.0) (6.2.0)\n",
      "Requirement already satisfied: thinc<8.2.0,>=8.1.0 in /Users/chloe/opt/anaconda3/lib/python3.9/site-packages (from spacy<3.5.0,>=3.4.0->fr-core-news-sm==3.4.0) (8.1.5)\n",
      "Requirement already satisfied: tqdm<5.0.0,>=4.38.0 in /Users/chloe/opt/anaconda3/lib/python3.9/site-packages (from spacy<3.5.0,>=3.4.0->fr-core-news-sm==3.4.0) (4.64.0)\n",
      "Requirement already satisfied: jinja2 in /Users/chloe/opt/anaconda3/lib/python3.9/site-packages (from spacy<3.5.0,>=3.4.0->fr-core-news-sm==3.4.0) (2.11.3)\n",
      "Requirement already satisfied: numpy>=1.15.0 in /Users/chloe/opt/anaconda3/lib/python3.9/site-packages (from spacy<3.5.0,>=3.4.0->fr-core-news-sm==3.4.0) (1.21.5)\n",
      "Requirement already satisfied: srsly<3.0.0,>=2.4.3 in /Users/chloe/opt/anaconda3/lib/python3.9/site-packages (from spacy<3.5.0,>=3.4.0->fr-core-news-sm==3.4.0) (2.4.5)\n",
      "Requirement already satisfied: spacy-legacy<3.1.0,>=3.0.10 in /Users/chloe/opt/anaconda3/lib/python3.9/site-packages (from spacy<3.5.0,>=3.4.0->fr-core-news-sm==3.4.0) (3.0.10)\n",
      "Requirement already satisfied: requests<3.0.0,>=2.13.0 in /Users/chloe/opt/anaconda3/lib/python3.9/site-packages (from spacy<3.5.0,>=3.4.0->fr-core-news-sm==3.4.0) (2.27.1)\n",
      "Requirement already satisfied: setuptools in /Users/chloe/opt/anaconda3/lib/python3.9/site-packages (from spacy<3.5.0,>=3.4.0->fr-core-news-sm==3.4.0) (65.6.3)\n",
      "Requirement already satisfied: wasabi<1.1.0,>=0.9.1 in /Users/chloe/opt/anaconda3/lib/python3.9/site-packages (from spacy<3.5.0,>=3.4.0->fr-core-news-sm==3.4.0) (0.10.1)\n",
      "Requirement already satisfied: spacy-loggers<2.0.0,>=1.0.0 in /Users/chloe/opt/anaconda3/lib/python3.9/site-packages (from spacy<3.5.0,>=3.4.0->fr-core-news-sm==3.4.0) (1.0.4)\n",
      "Requirement already satisfied: pathy>=0.3.5 in /Users/chloe/opt/anaconda3/lib/python3.9/site-packages (from spacy<3.5.0,>=3.4.0->fr-core-news-sm==3.4.0) (0.10.1)\n",
      "Requirement already satisfied: murmurhash<1.1.0,>=0.28.0 in /Users/chloe/opt/anaconda3/lib/python3.9/site-packages (from spacy<3.5.0,>=3.4.0->fr-core-news-sm==3.4.0) (1.0.9)\n",
      "Requirement already satisfied: packaging>=20.0 in /Users/chloe/opt/anaconda3/lib/python3.9/site-packages (from spacy<3.5.0,>=3.4.0->fr-core-news-sm==3.4.0) (21.3)\n",
      "Requirement already satisfied: typer<0.8.0,>=0.3.0 in /Users/chloe/opt/anaconda3/lib/python3.9/site-packages (from spacy<3.5.0,>=3.4.0->fr-core-news-sm==3.4.0) (0.4.2)\n",
      "Requirement already satisfied: preshed<3.1.0,>=3.0.2 in /Users/chloe/opt/anaconda3/lib/python3.9/site-packages (from spacy<3.5.0,>=3.4.0->fr-core-news-sm==3.4.0) (3.0.8)\n",
      "Requirement already satisfied: catalogue<2.1.0,>=2.0.6 in /Users/chloe/opt/anaconda3/lib/python3.9/site-packages (from spacy<3.5.0,>=3.4.0->fr-core-news-sm==3.4.0) (2.0.8)\n",
      "Requirement already satisfied: langcodes<4.0.0,>=3.2.0 in /Users/chloe/opt/anaconda3/lib/python3.9/site-packages (from spacy<3.5.0,>=3.4.0->fr-core-news-sm==3.4.0) (3.3.0)\n",
      "Requirement already satisfied: pydantic!=1.8,!=1.8.1,<1.11.0,>=1.7.4 in /Users/chloe/opt/anaconda3/lib/python3.9/site-packages (from spacy<3.5.0,>=3.4.0->fr-core-news-sm==3.4.0) (1.8.2)\n",
      "Requirement already satisfied: cymem<2.1.0,>=2.0.2 in /Users/chloe/opt/anaconda3/lib/python3.9/site-packages (from spacy<3.5.0,>=3.4.0->fr-core-news-sm==3.4.0) (2.0.7)\n",
      "Requirement already satisfied: pyparsing!=3.0.5,>=2.0.2 in /Users/chloe/opt/anaconda3/lib/python3.9/site-packages (from packaging>=20.0->spacy<3.5.0,>=3.4.0->fr-core-news-sm==3.4.0) (3.0.4)\n",
      "Requirement already satisfied: typing-extensions>=3.7.4.3 in /Users/chloe/opt/anaconda3/lib/python3.9/site-packages (from pydantic!=1.8,!=1.8.1,<1.11.0,>=1.7.4->spacy<3.5.0,>=3.4.0->fr-core-news-sm==3.4.0) (4.1.1)\n",
      "Requirement already satisfied: charset-normalizer~=2.0.0 in /Users/chloe/opt/anaconda3/lib/python3.9/site-packages (from requests<3.0.0,>=2.13.0->spacy<3.5.0,>=3.4.0->fr-core-news-sm==3.4.0) (2.0.4)\n",
      "Requirement already satisfied: idna<4,>=2.5 in /Users/chloe/opt/anaconda3/lib/python3.9/site-packages (from requests<3.0.0,>=2.13.0->spacy<3.5.0,>=3.4.0->fr-core-news-sm==3.4.0) (3.3)\n",
      "Requirement already satisfied: urllib3<1.27,>=1.21.1 in /Users/chloe/opt/anaconda3/lib/python3.9/site-packages (from requests<3.0.0,>=2.13.0->spacy<3.5.0,>=3.4.0->fr-core-news-sm==3.4.0) (1.26.9)\n",
      "Requirement already satisfied: certifi>=2017.4.17 in /Users/chloe/opt/anaconda3/lib/python3.9/site-packages (from requests<3.0.0,>=2.13.0->spacy<3.5.0,>=3.4.0->fr-core-news-sm==3.4.0) (2022.12.7)\n",
      "Requirement already satisfied: blis<0.8.0,>=0.7.8 in /Users/chloe/opt/anaconda3/lib/python3.9/site-packages (from thinc<8.2.0,>=8.1.0->spacy<3.5.0,>=3.4.0->fr-core-news-sm==3.4.0) (0.7.9)\n",
      "Requirement already satisfied: confection<1.0.0,>=0.0.1 in /Users/chloe/opt/anaconda3/lib/python3.9/site-packages (from thinc<8.2.0,>=8.1.0->spacy<3.5.0,>=3.4.0->fr-core-news-sm==3.4.0) (0.0.3)\n",
      "Requirement already satisfied: click<9.0.0,>=7.1.1 in /Users/chloe/opt/anaconda3/lib/python3.9/site-packages (from typer<0.8.0,>=0.3.0->spacy<3.5.0,>=3.4.0->fr-core-news-sm==3.4.0) (8.0.4)\n",
      "Requirement already satisfied: MarkupSafe>=0.23 in /Users/chloe/opt/anaconda3/lib/python3.9/site-packages (from jinja2->spacy<3.5.0,>=3.4.0->fr-core-news-sm==3.4.0) (2.0.1)\n",
      "\u001b[38;5;2m✔ Download and installation successful\u001b[0m\n",
      "You can now load the package via spacy.load('fr_core_news_sm')\n",
      "Collecting fr-core-news-md==3.4.0\n",
      "  Downloading https://github.com/explosion/spacy-models/releases/download/fr_core_news_md-3.4.0/fr_core_news_md-3.4.0-py3-none-any.whl (45.8 MB)\n",
      "\u001b[2K     \u001b[90m━━━━━━━━━━━━━━━━━━━━━━━━━━━━━━━━━━━━━━━━\u001b[0m \u001b[32m45.8/45.8 MB\u001b[0m \u001b[31m5.9 MB/s\u001b[0m eta \u001b[36m0:00:00\u001b[0m00:01\u001b[0m00:01\u001b[0m\n",
      "\u001b[?25hRequirement already satisfied: spacy<3.5.0,>=3.4.0 in /Users/chloe/opt/anaconda3/lib/python3.9/site-packages (from fr-core-news-md==3.4.0) (3.4.4)\n",
      "Requirement already satisfied: wasabi<1.1.0,>=0.9.1 in /Users/chloe/opt/anaconda3/lib/python3.9/site-packages (from spacy<3.5.0,>=3.4.0->fr-core-news-md==3.4.0) (0.10.1)\n",
      "Requirement already satisfied: requests<3.0.0,>=2.13.0 in /Users/chloe/opt/anaconda3/lib/python3.9/site-packages (from spacy<3.5.0,>=3.4.0->fr-core-news-md==3.4.0) (2.27.1)\n",
      "Requirement already satisfied: catalogue<2.1.0,>=2.0.6 in /Users/chloe/opt/anaconda3/lib/python3.9/site-packages (from spacy<3.5.0,>=3.4.0->fr-core-news-md==3.4.0) (2.0.8)\n",
      "Requirement already satisfied: spacy-loggers<2.0.0,>=1.0.0 in /Users/chloe/opt/anaconda3/lib/python3.9/site-packages (from spacy<3.5.0,>=3.4.0->fr-core-news-md==3.4.0) (1.0.4)\n",
      "Requirement already satisfied: murmurhash<1.1.0,>=0.28.0 in /Users/chloe/opt/anaconda3/lib/python3.9/site-packages (from spacy<3.5.0,>=3.4.0->fr-core-news-md==3.4.0) (1.0.9)\n",
      "Requirement already satisfied: cymem<2.1.0,>=2.0.2 in /Users/chloe/opt/anaconda3/lib/python3.9/site-packages (from spacy<3.5.0,>=3.4.0->fr-core-news-md==3.4.0) (2.0.7)\n",
      "Requirement already satisfied: spacy-legacy<3.1.0,>=3.0.10 in /Users/chloe/opt/anaconda3/lib/python3.9/site-packages (from spacy<3.5.0,>=3.4.0->fr-core-news-md==3.4.0) (3.0.10)\n",
      "Requirement already satisfied: smart-open<7.0.0,>=5.2.1 in /Users/chloe/opt/anaconda3/lib/python3.9/site-packages (from spacy<3.5.0,>=3.4.0->fr-core-news-md==3.4.0) (6.2.0)\n",
      "Requirement already satisfied: pydantic!=1.8,!=1.8.1,<1.11.0,>=1.7.4 in /Users/chloe/opt/anaconda3/lib/python3.9/site-packages (from spacy<3.5.0,>=3.4.0->fr-core-news-md==3.4.0) (1.8.2)\n",
      "Requirement already satisfied: preshed<3.1.0,>=3.0.2 in /Users/chloe/opt/anaconda3/lib/python3.9/site-packages (from spacy<3.5.0,>=3.4.0->fr-core-news-md==3.4.0) (3.0.8)\n",
      "Requirement already satisfied: langcodes<4.0.0,>=3.2.0 in /Users/chloe/opt/anaconda3/lib/python3.9/site-packages (from spacy<3.5.0,>=3.4.0->fr-core-news-md==3.4.0) (3.3.0)\n",
      "Requirement already satisfied: typer<0.8.0,>=0.3.0 in /Users/chloe/opt/anaconda3/lib/python3.9/site-packages (from spacy<3.5.0,>=3.4.0->fr-core-news-md==3.4.0) (0.4.2)\n",
      "Requirement already satisfied: setuptools in /Users/chloe/opt/anaconda3/lib/python3.9/site-packages (from spacy<3.5.0,>=3.4.0->fr-core-news-md==3.4.0) (65.6.3)\n",
      "Requirement already satisfied: numpy>=1.15.0 in /Users/chloe/opt/anaconda3/lib/python3.9/site-packages (from spacy<3.5.0,>=3.4.0->fr-core-news-md==3.4.0) (1.21.5)\n",
      "Requirement already satisfied: packaging>=20.0 in /Users/chloe/opt/anaconda3/lib/python3.9/site-packages (from spacy<3.5.0,>=3.4.0->fr-core-news-md==3.4.0) (21.3)\n",
      "Requirement already satisfied: pathy>=0.3.5 in /Users/chloe/opt/anaconda3/lib/python3.9/site-packages (from spacy<3.5.0,>=3.4.0->fr-core-news-md==3.4.0) (0.10.1)\n",
      "Requirement already satisfied: jinja2 in /Users/chloe/opt/anaconda3/lib/python3.9/site-packages (from spacy<3.5.0,>=3.4.0->fr-core-news-md==3.4.0) (2.11.3)\n",
      "Requirement already satisfied: thinc<8.2.0,>=8.1.0 in /Users/chloe/opt/anaconda3/lib/python3.9/site-packages (from spacy<3.5.0,>=3.4.0->fr-core-news-md==3.4.0) (8.1.5)\n",
      "Requirement already satisfied: srsly<3.0.0,>=2.4.3 in /Users/chloe/opt/anaconda3/lib/python3.9/site-packages (from spacy<3.5.0,>=3.4.0->fr-core-news-md==3.4.0) (2.4.5)\n",
      "Requirement already satisfied: tqdm<5.0.0,>=4.38.0 in /Users/chloe/opt/anaconda3/lib/python3.9/site-packages (from spacy<3.5.0,>=3.4.0->fr-core-news-md==3.4.0) (4.64.0)\n",
      "Requirement already satisfied: pyparsing!=3.0.5,>=2.0.2 in /Users/chloe/opt/anaconda3/lib/python3.9/site-packages (from packaging>=20.0->spacy<3.5.0,>=3.4.0->fr-core-news-md==3.4.0) (3.0.4)\n",
      "Requirement already satisfied: typing-extensions>=3.7.4.3 in /Users/chloe/opt/anaconda3/lib/python3.9/site-packages (from pydantic!=1.8,!=1.8.1,<1.11.0,>=1.7.4->spacy<3.5.0,>=3.4.0->fr-core-news-md==3.4.0) (4.1.1)\n",
      "Requirement already satisfied: urllib3<1.27,>=1.21.1 in /Users/chloe/opt/anaconda3/lib/python3.9/site-packages (from requests<3.0.0,>=2.13.0->spacy<3.5.0,>=3.4.0->fr-core-news-md==3.4.0) (1.26.9)\n",
      "Requirement already satisfied: idna<4,>=2.5 in /Users/chloe/opt/anaconda3/lib/python3.9/site-packages (from requests<3.0.0,>=2.13.0->spacy<3.5.0,>=3.4.0->fr-core-news-md==3.4.0) (3.3)\n",
      "Requirement already satisfied: certifi>=2017.4.17 in /Users/chloe/opt/anaconda3/lib/python3.9/site-packages (from requests<3.0.0,>=2.13.0->spacy<3.5.0,>=3.4.0->fr-core-news-md==3.4.0) (2022.12.7)\n",
      "Requirement already satisfied: charset-normalizer~=2.0.0 in /Users/chloe/opt/anaconda3/lib/python3.9/site-packages (from requests<3.0.0,>=2.13.0->spacy<3.5.0,>=3.4.0->fr-core-news-md==3.4.0) (2.0.4)\n",
      "Requirement already satisfied: blis<0.8.0,>=0.7.8 in /Users/chloe/opt/anaconda3/lib/python3.9/site-packages (from thinc<8.2.0,>=8.1.0->spacy<3.5.0,>=3.4.0->fr-core-news-md==3.4.0) (0.7.9)\n",
      "Requirement already satisfied: confection<1.0.0,>=0.0.1 in /Users/chloe/opt/anaconda3/lib/python3.9/site-packages (from thinc<8.2.0,>=8.1.0->spacy<3.5.0,>=3.4.0->fr-core-news-md==3.4.0) (0.0.3)\n",
      "Requirement already satisfied: click<9.0.0,>=7.1.1 in /Users/chloe/opt/anaconda3/lib/python3.9/site-packages (from typer<0.8.0,>=0.3.0->spacy<3.5.0,>=3.4.0->fr-core-news-md==3.4.0) (8.0.4)\n",
      "Requirement already satisfied: MarkupSafe>=0.23 in /Users/chloe/opt/anaconda3/lib/python3.9/site-packages (from jinja2->spacy<3.5.0,>=3.4.0->fr-core-news-md==3.4.0) (2.0.1)\n",
      "\u001b[38;5;2m✔ Download and installation successful\u001b[0m\n",
      "You can now load the package via spacy.load('fr_core_news_md')\n"
     ]
    }
   ],
   "source": [
    "!python -m spacy download fr_core_news_sm\n",
    "!python -m spacy download fr_core_news_md"
   ]
  },
  {
   "cell_type": "code",
   "execution_count": 218,
   "metadata": {},
   "outputs": [
    {
     "name": "stdout",
     "output_type": "stream",
     "text": [
      "Aujourd'hui -> aujourd'hui\n",
      ", -> ,\n",
      "c' -> ce\n",
      "est -> être\n",
      "toi -> toi\n",
      "qui -> qui\n",
      "demande -> demande\n",
      "de -> de\n",
      "l' -> le\n",
      "aide -> aide\n",
      ". -> .\n"
     ]
    }
   ],
   "source": [
    "import fr_core_news_md\n",
    "nlp = spacy.load('fr_core_news_md')\n",
    "\n",
    "doc = nlp(\"Aujourd'hui, c'est toi qui demande de l'aide.\")\n",
    "for token in doc:\n",
    "    print(token, \"->\", token.lemma_)"
   ]
  },
  {
   "cell_type": "code",
   "execution_count": 219,
   "metadata": {},
   "outputs": [],
   "source": [
    "with open(\"index.json\") as f:\n",
    "    index = json.load(f)\n",
    "nlp = spacy.load(\"fr_core_news_sm\")\n",
    "dic_lemmatiseur = {}\n",
    "dic_lemme = {}\n",
    "cpt = 0\n",
    "for mot in index.keys(): #clés de mon index\n",
    "    doc = nlp(mot)\n",
    "    for toto in doc:\n",
    "        dic_lemmatiseur[str(toto)] = toto.lemma_ #ce sont les lemmes\n",
    "        if toto.lemma_ not in dic_lemme:\n",
    "            dic_lemme[toto.lemma_] = []\n",
    "            dic_lemme[toto.lemma_].append(mot)\n",
    "    cpt+=1"
   ]
  },
  {
   "cell_type": "code",
   "execution_count": 220,
   "metadata": {},
   "outputs": [
    {
     "name": "stdout",
     "output_type": "stream",
     "text": [
      "Collecting scikit-learn\n",
      "  File was already downloaded /Users/chloe/Documents/toto/toto2/scikit_learn-1.2.0-cp39-cp39-macosx_10_9_x86_64.whl\n",
      "Collecting threadpoolctl>=2.0.0\n",
      "  File was already downloaded /Users/chloe/Documents/toto/toto2/threadpoolctl-3.1.0-py3-none-any.whl\n",
      "Collecting numpy>=1.17.3\n",
      "  File was already downloaded /Users/chloe/Documents/toto/toto2/numpy-1.24.1-cp39-cp39-macosx_10_9_x86_64.whl\n",
      "Collecting scipy>=1.3.2\n",
      "  File was already downloaded /Users/chloe/Documents/toto/toto2/scipy-1.9.3-cp39-cp39-macosx_10_9_x86_64.whl\n",
      "Collecting joblib>=1.1.1\n",
      "  File was already downloaded /Users/chloe/Documents/toto/toto2/joblib-1.2.0-py3-none-any.whl\n",
      "Successfully downloaded scikit-learn joblib numpy scipy threadpoolctl\n"
     ]
    }
   ],
   "source": [
    "!python -m pip download scikit-learn"
   ]
  },
  {
   "cell_type": "code",
   "execution_count": 221,
   "metadata": {},
   "outputs": [
    {
     "name": "stdout",
     "output_type": "stream",
     "text": [
      "[[0 1 1 1 0 0 1 0 1]\n",
      " [0 2 0 1 0 1 1 0 1]\n",
      " [1 0 0 1 1 0 1 1 1]]\n",
      "[0.         0.46941728 0.61722732 0.3645444  0.         0.\n",
      " 0.3645444  0.         0.3645444 ]\n",
      "[0.         0.7284449  0.         0.28285122 0.         0.47890875\n",
      " 0.28285122 0.         0.28285122]\n",
      "[0.49711994 0.         0.         0.29360705 0.49711994 0.\n",
      " 0.29360705 0.49711994 0.29360705]\n"
     ]
    }
   ],
   "source": [
    "corpus = [\n",
    "     'This is the first document.',\n",
    "     'This document is the second document.',\n",
    "     'And this is the third one.',\n",
    " ]\n",
    "from sklearn.feature_extraction.text import CountVectorizer\n",
    "\n",
    "vectorizer = CountVectorizer()\n",
    "X = vectorizer.fit_transform(corpus)\n",
    "\n",
    "print(X.toarray())\n",
    "\n",
    "from sklearn.feature_extraction.text import TfidfVectorizer\n",
    "vectorizer = TfidfVectorizer()\n",
    "X = vectorizer.fit_transform(corpus)\n",
    "for ligne in X.toarray():\n",
    "        print(ligne)"
   ]
  },
  {
   "cell_type": "code",
   "execution_count": 222,
   "metadata": {},
   "outputs": [
    {
     "name": "stdout",
     "output_type": "stream",
     "text": [
      "création de l'index\n",
      "Nbr de mots indexés : 33654\n"
     ]
    }
   ],
   "source": [
    "def decouper_mots(chaine):\n",
    "    mots = chaine.split()\n",
    "    return mots\n",
    "def creer_index(documents):\n",
    "    print(\"création de l'index\")\n",
    "    index = {}\n",
    "    for chemin, contenu in documents.items():\n",
    "        mots = decouper_mots(contenu)\n",
    "        vocabulaire = set(mots)\n",
    "        for mot in vocabulaire:\n",
    "            if mot not in index:\n",
    "                index[mot] = []\n",
    "            index[mot].append(chemin)\n",
    "    return index\n",
    "\n",
    "index = creer_index(documents)\n",
    "print(\"Nbr de mots indexés :\", len(index))"
   ]
  },
  {
   "cell_type": "code",
   "execution_count": 223,
   "metadata": {},
   "outputs": [
    {
     "name": "stdout",
     "output_type": "stream",
     "text": [
      "création de l'index inverse\n",
      "Nbr de textes indexés : 272\n"
     ]
    }
   ],
   "source": [
    "def creer_index_inverse(documents):\n",
    "    print(\"création de l'index inverse\")\n",
    "    index_inverse = {}\n",
    "    for chemin, contenu in documents.items():\n",
    "        mots = decouper_mots(contenu)\n",
    "        dic_frequence = {}\n",
    "        for mot in mots:   \n",
    "            if mot not in dic_frequence:\n",
    "                dic_frequence[mot]=0\n",
    "            dic_frequence[mot]+=1\n",
    "            #compter les occurrences dans dic\n",
    "        index_inverse[chemin] = dic_frequence\n",
    "    return index_inverse\n",
    "index_inverse = creer_index_inverse(documents)\n",
    "print(\"Nbr de textes indexés :\", len(index_inverse))"
   ]
  },
  {
   "cell_type": "code",
   "execution_count": 224,
   "metadata": {},
   "outputs": [
    {
     "name": "stdout",
     "output_type": "stream",
     "text": [
      "{'moteur': 2, 'vais': 1, 'tester': 1}\n"
     ]
    }
   ],
   "source": [
    "def indexer_requete(requete):\n",
    "    index_requete = {}\n",
    "    mots = decouper_mots(requete)\n",
    "    for mot in mots:   \n",
    "        if mot not in index_requete:\n",
    "            index_requete[mot]=0\n",
    "        index_requete[mot]+=1\n",
    "    return index_requete\n",
    "requete = \"moteur vais tester moteur\"\n",
    "index_requete = indexer_requete(requete)\n",
    "print(index_requete)"
   ]
  },
  {
   "cell_type": "code",
   "execution_count": 225,
   "metadata": {},
   "outputs": [
    {
     "name": "stdout",
     "output_type": "stream",
     "text": [
      "moteur\n",
      "['corpus_multi/fr/test/2009-02-20_celex_IP-09-300.fr.html', 'corpus_multi/fr/test/2009-01-28_celex_IP-09-141.fr.html', 'corpus_multi/fr/appr/2009-12-16_celex_IP-09-1950.fr.html', 'corpus_multi/fr/appr/2009-04-20_celex_IP-09-594.fr.html', 'corpus_multi/fr/appr/2009-01-19_celex_IP-09-67.fr.html', 'corpus_multi/fr/appr/2009-02-19_celex_IP-09-297.fr.html', 'corpus_multi/fr/appr/2009-06-19_celex_IP-09-967.fr.html', 'corpus_multi/fr/appr/2009-09-22_celex_IP-09-1341.fr.html', 'corpus_multi/fr/appr/2009-03-04_celex_IP-09-351.fr.html', 'corpus_multi/fr/appr/2009-05-06_celex_IP-09-704.fr.html', 'corpus_multi/fr/appr/2009-08-04_celex_IP-09-1221.fr.html', 'corpus_multi/fr/appr/2009-11-27_celex_IP-09-1837.fr.html', 'corpus_multi/fr/appr/2009-06-18_celex_IP-09-952.fr.html', 'corpus_multi/fr/appr/2009-11-12_celex_IP-09-1703.fr.html', 'corpus_multi/fr/appr/2009-12-18_celex_IP-09-1966.fr.html', 'corpus_multi/fr/appr/2009-01-28_celex_IP-09-131.fr.html', 'corpus_multi/fr/appr/2009-06-18_celex_IP-09-951.fr.html']\n",
      "tester\n",
      "['corpus_multi/fr/test/2009-12-21_celex_IP-09-1988.fr.html', 'corpus_multi/fr/appr/2009-10-15_celex_IP-09-1530.fr.html', 'corpus_multi/fr/appr/2009-11-23_celex_IP-09-1802.fr.html']\n"
     ]
    }
   ],
   "source": [
    "for mot in index_requete:   \n",
    "    if mot in index:\n",
    "        print(mot)\n",
    "        print(index[mot])"
   ]
  },
  {
   "cell_type": "code",
   "execution_count": 226,
   "metadata": {},
   "outputs": [
    {
     "name": "stdout",
     "output_type": "stream",
     "text": [
      "sensibilisation minorités\n",
      "Nbr de documents trouvés : 9\n",
      "liberté humaine\n",
      "Nbr de documents trouvés : 23\n"
     ]
    }
   ],
   "source": [
    "def requeter_documents(requete, index):\n",
    "    index_requete = indexer_requete(requete)\n",
    "    documents_trouves = []\n",
    "    for mot in index_requete:\n",
    "        if mot in index:\n",
    "            documents_pertinents = index[mot]\n",
    "            documents_trouves+=documents_pertinents\n",
    "    return set(documents_trouves)\n",
    "requete = \"sensibilisation minorités\"\n",
    "documents_trouves =  requeter_documents(requete, index)\n",
    "\n",
    "print(requete)\n",
    "print(\"Nbr de documents trouvés :\", len(documents_trouves))\n",
    "requete = \"liberté humaine\"\n",
    "documents_trouves =  requeter_documents(requete, index)\n",
    "print(requete)\n",
    "print(\"Nbr de documents trouvés :\", len(documents_trouves))"
   ]
  },
  {
   "cell_type": "code",
   "execution_count": 227,
   "metadata": {},
   "outputs": [],
   "source": [
    "def calculer_similarite_cosinus(requete, index_inverse,documents_trouves):\n",
    "    from scipy import spatial\n",
    "    \n",
    "    index_requete = indexer_requete(requete)#pour avoir la même structure de dico mot:effectif\n",
    "    resultat = []# où on va stocker les docs et les similarités\n",
    "    \n",
    "    for doc in documents_trouves:\n",
    "        #On fait l'union des mots du document en cours et de la requête :\n",
    "        vocabulaire = set(index_requete.keys()).union(index_inverse[doc].keys())\n",
    "        \n",
    "        #On aura un vecteur pour chacun\n",
    "        vecteur, vecteur_requete = [], []\n",
    "        \n",
    "        for mot in vocabulaire:\n",
    "            if mot in index_inverse[doc]:#si le mot est dans le document\n",
    "                vecteur.append(index_inverse[doc][mot])#on ajoute son effectif dans le vecteur\n",
    "            else:\n",
    "                vecteur.append(0)# Sile mot est absent de ce document, on ajoute un zéro\n",
    "                \n",
    "            if mot in index_requete:#Idem pour la requête\n",
    "                vecteur_requete.append(index_requete[mot])\n",
    "            else:\n",
    "                vecteur_requete.append(0)#= le mot est absent de la requête\n",
    "        dist=spatial.distance.cosine(vecteur,vecteur_requete )\n",
    "        similarite = 1-dist\n",
    "        resultat.append([similarite, doc])\n",
    "\n",
    "    return resultat # en sortie, des paires [similarité, document]\n"
   ]
  },
  {
   "cell_type": "code",
   "execution_count": 228,
   "metadata": {},
   "outputs": [
    {
     "name": "stdout",
     "output_type": "stream",
     "text": [
      "[0.020413832199655868, 'corpus_multi/fr/appr/2009-03-04_celex_IP-09-351.fr.html']\n",
      "[0.016063868397104497, 'corpus_multi/fr/appr/2009-04-20_celex_IP-09-594.fr.html']\n",
      "[0.010598490352566214, 'corpus_multi/fr/appr/2009-12-18_celex_IP-09-1966.fr.html']\n",
      "[0.009489656573407723, 'corpus_multi/fr/appr/2009-06-19_celex_IP-09-967.fr.html']\n",
      "[0.009080034569573403, 'corpus_multi/fr/appr/2009-05-06_celex_IP-09-704.fr.html']\n",
      "[0.008914015605513415, 'corpus_multi/fr/appr/2009-01-28_celex_IP-09-131.fr.html']\n",
      "[0.00811080425815458, 'corpus_multi/fr/appr/2009-06-18_celex_IP-09-951.fr.html']\n",
      "[0.007860746190808232, 'corpus_multi/fr/appr/2009-06-18_celex_IP-09-952.fr.html']\n",
      "[0.007526033360044648, 'corpus_multi/fr/test/2009-02-20_celex_IP-09-300.fr.html']\n",
      "[0.007374101912119957, 'corpus_multi/fr/test/2009-01-28_celex_IP-09-141.fr.html']\n",
      "[0.007233852622026138, 'corpus_multi/fr/appr/2009-11-23_celex_IP-09-1802.fr.html']\n",
      "[0.007223653717667422, 'corpus_multi/fr/test/2009-12-21_celex_IP-09-1988.fr.html']\n",
      "[0.006743761429038875, 'corpus_multi/fr/appr/2009-09-22_celex_IP-09-1341.fr.html']\n",
      "[0.0065921569006861525, 'corpus_multi/fr/appr/2009-12-16_celex_IP-09-1950.fr.html']\n",
      "[0.006051610351096692, 'corpus_multi/fr/appr/2009-08-04_celex_IP-09-1221.fr.html']\n",
      "[0.005711721843177586, 'corpus_multi/fr/appr/2009-01-19_celex_IP-09-67.fr.html']\n",
      "[0.005285127318632066, 'corpus_multi/fr/appr/2009-11-12_celex_IP-09-1703.fr.html']\n",
      "[0.0034847542273613863, 'corpus_multi/fr/appr/2009-11-27_celex_IP-09-1837.fr.html']\n",
      "[0.002738441640271483, 'corpus_multi/fr/appr/2009-10-15_celex_IP-09-1530.fr.html']\n",
      "[0.0020541655792163382, 'corpus_multi/fr/appr/2009-02-19_celex_IP-09-297.fr.html']\n",
      "[0.39321842779383465, 'corpus_multi/fr/appr/2009-11-17_celex_IP-09-1726.fr.html']\n",
      "[0.3802645137435976, 'corpus_multi/fr/appr/2009-03-03_celex_IP-09-342.fr.html']\n",
      "[0.3782243317357026, 'corpus_multi/fr/test/2009-10-29_celex_IP-09-1626.fr.html']\n",
      "[0.3646589664477471, 'corpus_multi/fr/test/2009-09-11_celex_IP-09-1305.fr.html']\n",
      "[0.3609409474408716, 'corpus_multi/fr/test/2009-04-29_celex_IP-09-673.fr.html']\n",
      "[0.35722813480814675, 'corpus_multi/fr/appr/2009-06-10_celex_IP-09-893.fr.html']\n",
      "[0.3568956605470257, 'corpus_multi/fr/appr/2009-04-22_celex_IP-09-617.fr.html']\n",
      "[0.35147974578331875, 'corpus_multi/fr/appr/2009-06-09_celex_IP-09-891.fr.html']\n",
      "[0.3442254855641127, 'corpus_multi/fr/appr/2009-06-12_celex_IP-09-910.fr.html']\n",
      "[0.34386411670267636, 'corpus_multi/fr/appr/2009-01-22_celex_IP-09-112.fr.html']\n",
      "[0.34364544977740163, 'corpus_multi/fr/test/2009-04-23_celex_IP-09-625.fr.html']\n",
      "[0.3370848210798292, 'corpus_multi/fr/appr/2009-07-24_celex_IP-09-1188.fr.html']\n",
      "[0.3359902646802144, 'corpus_multi/fr/appr/2009-04-27_celex_IP-09-644.fr.html']\n",
      "[0.33351147024782046, 'corpus_multi/fr/appr/2009-11-13_celex_IP-09-1710.fr.html']\n",
      "[0.33307381057985364, 'corpus_multi/fr/appr/2009-05-15_celex_IP-09-792.fr.html']\n",
      "[0.3296106302167867, 'corpus_multi/fr/appr/2009-06-03_celex_IP-09-863.fr.html']\n",
      "[0.32907259085720875, 'corpus_multi/fr/appr/2009-07-09_celex_IP-09-1109.fr.html']\n",
      "[0.32881633654492093, 'corpus_multi/fr/appr/2009-05-28_celex_IP-09-840.fr.html']\n",
      "[0.32847446819711223, 'corpus_multi/fr/appr/2009-04-14_celex_IP-09-570.fr.html']\n",
      "[0.3274481349080334, 'corpus_multi/fr/appr/2009-07-15_celex_IP-09-1138.fr.html']\n",
      "[0.3242300864924308, 'corpus_multi/fr/appr/2009-01-28_celex_IP-09-131.fr.html']\n",
      "[0.3236880551712853, 'corpus_multi/fr/appr/2009-07-27_celex_IP-09-1192.fr.html']\n",
      "[0.32367743752060596, 'corpus_multi/fr/appr/2009-10-28_celex_IP-09-1597.fr.html']\n",
      "[0.3222254482736854, 'corpus_multi/fr/appr/2009-07-23_celex_IP-09-1180.fr.html']\n",
      "[0.32104801281451467, 'corpus_multi/fr/appr/2009-02-25_celex_IP-09-317.fr.html']\n",
      "[0.3178111800215716, 'corpus_multi/fr/appr/2009-07-22_celex_IP-09-1171.fr.html']\n",
      "[0.31778904365233673, 'corpus_multi/fr/appr/2009-10-15_celex_IP-09-1530.fr.html']\n",
      "[0.3168940705187975, 'corpus_multi/fr/test/2009-07-22_celex_IP-09-1166.fr.html']\n",
      "[0.3144965104289792, 'corpus_multi/fr/appr/2009-11-03_celex_IP-09-1663.fr.html']\n",
      "[0.31076080862753197, 'corpus_multi/fr/test/2009-10-14_celex_IP-09-1508.fr.html']\n",
      "[0.3059599535868027, 'corpus_multi/fr/appr/2009-10-22_celex_IP-09-1562.fr.html']\n",
      "[0.30222520717728063, 'corpus_multi/fr/appr/2009-11-20_celex_IP-09-1781.fr.html']\n",
      "[0.2988929369049438, 'corpus_multi/fr/appr/2009-05-14_celex_IP-09-774.fr.html']\n",
      "[0.2965596964467746, 'corpus_multi/fr/appr/2009-03-10_celex_IP-09-371.fr.html']\n",
      "[0.2955632032246678, 'corpus_multi/fr/appr/2009-10-14_celex_IP-09-1519.fr.html']\n",
      "[0.29481138905220106, 'corpus_multi/fr/appr/2009-02-18_celex_IP-09-276.fr.html']\n",
      "[0.2944291074702977, 'corpus_multi/fr/appr/2009-02-24_celex_IP-09-310.fr.html']\n",
      "[0.2937513611280582, 'corpus_multi/fr/appr/2009-07-13_celex_IP-09-1116.fr.html']\n",
      "[0.2922721571190878, 'corpus_multi/fr/appr/2009-03-16_celex_IP-09-405.fr.html']\n",
      "[0.29116161578269595, 'corpus_multi/fr/appr/2009-12-16_celex_IP-09-1948.fr.html']\n",
      "[0.29041885655876054, 'corpus_multi/fr/appr/2009-11-09_celex_IP-09-1685.fr.html']\n",
      "[0.2871701741842757, 'corpus_multi/fr/appr/2009-08-18_celex_IP-09-1238.fr.html']\n",
      "[0.2869043451360198, 'corpus_multi/fr/appr/2009-10-20_celex_IP-09-1545.fr.html']\n",
      "[0.2815210103244148, 'corpus_multi/fr/appr/2009-01-28_celex_IP-09-138.fr.html']\n",
      "[0.2803990737817139, 'corpus_multi/fr/appr/2009-11-24_celex_IP-09-1811.fr.html']\n",
      "[0.2799014920091689, 'corpus_multi/fr/appr/2009-10-15_celex_IP-09-1524.fr.html']\n",
      "[0.2796617505100665, 'corpus_multi/fr/appr/2009-11-09_celex_IP-09-1686.fr.html']\n",
      "[0.2792704796795191, 'corpus_multi/fr/appr/2009-11-10_celex_IP-09-1688.fr.html']\n",
      "[0.2786737262923187, 'corpus_multi/fr/appr/2009-05-07_celex_IP-09-716.fr.html']\n",
      "[0.27813394357042753, 'corpus_multi/fr/appr/2009-06-30_celex_IP-09-1060.fr.html']\n",
      "[0.27746062447189, 'corpus_multi/fr/appr/2009-09-15_celex_IP-09-1317.fr.html']\n",
      "[0.27643731601259147, 'corpus_multi/fr/appr/2009-06-19_celex_IP-09-969.fr.html']\n",
      "[0.2762691487603537, 'corpus_multi/fr/appr/2009-02-16_celex_IP-09-266.fr.html']\n",
      "[0.27617987509478537, 'corpus_multi/fr/test/2009-10-23_celex_IP-09-1574.fr.html']\n",
      "[0.27522392115720185, 'corpus_multi/fr/appr/2009-05-06_celex_IP-09-704.fr.html']\n",
      "[0.27406296106989325, 'corpus_multi/fr/test/2009-10-02_celex_IP-09-1401.fr.html']\n",
      "[0.2729937534435659, 'corpus_multi/fr/test/2009-05-08_celex_IP-09-723.fr.html']\n",
      "[0.2725865102545528, 'corpus_multi/fr/appr/2009-09-24_celex_IP-09-1351.fr.html']\n",
      "[0.2724577813930129, 'corpus_multi/fr/appr/2009-04-29_celex_IP-09-655.fr.html']\n",
      "[0.27221079632982825, 'corpus_multi/fr/appr/2009-04-29_celex_IP-09-659.fr.html']\n",
      "[0.2706004926791894, 'corpus_multi/fr/appr/2009-11-06_celex_IP-09-1683.fr.html']\n",
      "[0.27042831088918007, 'corpus_multi/fr/appr/2009-04-29_celex_IP-09-665.fr.html']\n",
      "[0.2660070761840543, 'corpus_multi/fr/appr/2009-05-11_celex_IP-09-730.fr.html']\n",
      "[0.2642107814383048, 'corpus_multi/fr/appr/2009-04-08_celex_IP-09-563.fr.html']\n",
      "[0.2631471752560035, 'corpus_multi/fr/appr/2009-02-05_celex_IP-09-220.fr.html']\n",
      "[0.2628210568050491, 'corpus_multi/fr/appr/2009-05-04_celex_IP-09-693.fr.html']\n",
      "[0.2621642994237422, 'corpus_multi/fr/appr/2009-01-19_celex_IP-09-67.fr.html']\n",
      "[0.2620741720943036, 'corpus_multi/fr/appr/2009-02-17_celex_IP-09-272.fr.html']\n",
      "[0.26204241489272795, 'corpus_multi/fr/appr/2009-08-04_celex_IP-09-1221.fr.html']\n",
      "[0.26143819322402884, 'corpus_multi/fr/appr/2009-04-21_celex_IP-09-609.fr.html']\n",
      "[0.2598498501673714, 'corpus_multi/fr/test/2009-04-08_celex_IP-09-560.fr.html']\n",
      "[0.25979436665882194, 'corpus_multi/fr/appr/2009-06-26_celex_IP-09-1043.fr.html']\n",
      "[0.25888689113746166, 'corpus_multi/fr/test/2009-02-23_celex_IP-09-303.fr.html']\n",
      "[0.2580269290955539, 'corpus_multi/fr/test/2009-01-13_celex_IP-09-45.fr.html']\n",
      "[0.2575912220729324, 'corpus_multi/fr/appr/2009-05-12_celex_IP-09-740.fr.html']\n",
      "[0.2574232348321952, 'corpus_multi/fr/appr/2009-10-27_celex_IP-09-1585.fr.html']\n",
      "[0.2568236154853081, 'corpus_multi/fr/test/2009-11-25_celex_IP-09-1816.fr.html']\n",
      "[0.256370700859625, 'corpus_multi/fr/appr/2009-12-15_celex_IP-09-1926.fr.html']\n",
      "[0.256105963361155, 'corpus_multi/fr/appr/2009-10-16_celex_IP-09-1534.fr.html']\n",
      "[0.25598313270077244, 'corpus_multi/fr/appr/2009-02-05_celex_IP-09-218.fr.html']\n",
      "[0.2547667936385918, 'corpus_multi/fr/appr/2009-06-19_celex_IP-09-967.fr.html']\n",
      "[0.2538774397838367, 'corpus_multi/fr/appr/2009-11-27_celex_IP-09-1828.fr.html']\n",
      "[0.25298221281347044, 'corpus_multi/fr/test/2009-04-08_celex_IP-09-554.fr.html']\n",
      "[0.25162172672732397, 'corpus_multi/fr/appr/2009-12-21_celex_IP-09-1983.fr.html']\n",
      "[0.2510891399479285, 'corpus_multi/fr/appr/2009-01-30_celex_IP-09-191.fr.html']\n",
      "[0.24984707919865923, 'corpus_multi/fr/appr/2009-04-27_celex_IP-09-642.fr.html']\n",
      "[0.24966523386205708, 'corpus_multi/fr/test/2009-10-05_celex_IP-09-1420.fr.html']\n",
      "[0.24806098860582226, 'corpus_multi/fr/test/2009-07-08_celex_IP-09-1096.fr.html']\n",
      "[0.2471345996393558, 'corpus_multi/fr/appr/2009-10-20_celex_IP-09-1548.fr.html']\n",
      "[0.24679124610291947, 'corpus_multi/fr/appr/2009-01-22_celex_IP-09-92.fr.html']\n",
      "[0.24655718044453623, 'corpus_multi/fr/appr/2009-06-25_celex_IP-09-1035.fr.html']\n",
      "[0.24631170509528288, 'corpus_multi/fr/appr/2009-07-28_celex_IP-09-1197.fr.html']\n",
      "[0.24576101539068984, 'corpus_multi/fr/appr/2009-09-30_celex_IP-09-1385.fr.html']\n",
      "[0.24542191815538872, 'corpus_multi/fr/appr/2009-11-24_celex_IP-09-1808.fr.html']\n",
      "[0.2450694539082212, 'corpus_multi/fr/test/2009-10-19_celex_IP-09-1540.fr.html']\n",
      "[0.24505421405952, 'corpus_multi/fr/appr/2009-08-19_celex_IP-09-1241.fr.html']\n",
      "[0.2439977125321675, 'corpus_multi/fr/appr/2009-07-14_celex_IP-09-1136.fr.html']\n",
      "[0.2437995124014628, 'corpus_multi/fr/appr/2009-10-15_celex_IP-09-1523.fr.html']\n",
      "[0.24292186793099668, 'corpus_multi/fr/test/2009-03-05_celex_IP-09-354.fr.html']\n",
      "[0.24266948704176128, 'corpus_multi/fr/test/2009-03-31_celex_IP-09-510.fr.html']\n",
      "[0.24130024130036198, 'corpus_multi/fr/test/2009-07-31_celex_IP-09-1214.fr.html']\n",
      "[0.24122797284223252, 'corpus_multi/fr/appr/2009-10-28_celex_IP-09-1593.fr.html']\n",
      "[0.24011143756654718, 'corpus_multi/fr/test/2009-06-17_celex_IP-09-941.fr.html']\n",
      "[0.24010931872744767, 'corpus_multi/fr/appr/2009-05-05_celex_IP-09-703.fr.html']\n",
      "[0.23949157034361324, 'corpus_multi/fr/appr/2009-09-25_celex_IP-09-1356.fr.html']\n",
      "[0.23798190842991906, 'corpus_multi/fr/appr/2009-10-07_celex_IP-09-1431.fr.html']\n",
      "[0.2379288209857755, 'corpus_multi/fr/appr/2009-07-24_celex_IP-09-1187.fr.html']\n",
      "[0.23774157903041426, 'corpus_multi/fr/appr/2009-09-17_celex_IP-09-1333.fr.html']\n",
      "[0.2371883686798687, 'corpus_multi/fr/appr/2009-11-10_celex_IP-09-1690.fr.html']\n",
      "[0.23624932078417915, 'corpus_multi/fr/appr/2009-07-02_celex_IP-09-1072.fr.html']\n",
      "[0.2361915982156111, 'corpus_multi/fr/test/2009-10-19_celex_IP-09-1544.fr.html']\n",
      "[0.23592020058113894, 'corpus_multi/fr/appr/2009-10-28_celex_IP-09-1599.fr.html']\n",
      "[0.23558971234503012, 'corpus_multi/fr/appr/2009-10-16_celex_IP-09-1538.fr.html']\n",
      "[0.23377812812322407, 'corpus_multi/fr/appr/2009-11-27_celex_IP-09-1833.fr.html']\n",
      "[0.23371948861390535, 'corpus_multi/fr/appr/2009-11-12_celex_IP-09-1702.fr.html']\n",
      "[0.23065669091466845, 'corpus_multi/fr/appr/2009-02-13_celex_IP-09-259.fr.html']\n",
      "[0.23062266407882204, 'corpus_multi/fr/appr/2009-04-14_celex_IP-09-571.fr.html']\n",
      "[0.2305365877714738, 'corpus_multi/fr/appr/2009-11-23_celex_IP-09-1803.fr.html']\n",
      "[0.23019181971143166, 'corpus_multi/fr/test/2009-12-31_celex_IP-09-2002.fr.html']\n",
      "[0.2295866030872905, 'corpus_multi/fr/appr/2009-04-29_celex_IP-09-674.fr.html']\n",
      "[0.22942714730475555, 'corpus_multi/fr/appr/2009-10-09_celex_IP-09-1501.fr.html']\n",
      "[0.22896799591699735, 'corpus_multi/fr/appr/2009-01-29_celex_IP-09-182.fr.html']\n",
      "[0.22833338178370888, 'corpus_multi/fr/appr/2009-07-06_celex_IP-09-1090.fr.html']\n",
      "[0.22748374274002348, 'corpus_multi/fr/appr/2009-02-18_celex_IP-09-275.fr.html']\n",
      "[0.22715983825324138, 'corpus_multi/fr/appr/2009-04-22_celex_IP-09-615.fr.html']\n",
      "[0.22702894276801477, 'corpus_multi/fr/appr/2009-03-04_celex_IP-09-348.fr.html']\n",
      "[0.2261228905904511, 'corpus_multi/fr/appr/2009-10-28_celex_IP-09-1595.fr.html']\n",
      "[0.22539195934036804, 'corpus_multi/fr/appr/2009-10-08_celex_IP-09-1494.fr.html']\n",
      "[0.22393269879759958, 'corpus_multi/fr/appr/2009-03-04_celex_IP-09-351.fr.html']\n",
      "[0.22323811357875467, 'corpus_multi/fr/appr/2009-07-13_celex_IP-09-1118.fr.html']\n",
      "[0.22159691838634366, 'corpus_multi/fr/test/2009-03-06_celex_IP-09-362.fr.html']\n",
      "[0.22107457820080822, 'corpus_multi/fr/appr/2009-06-03_celex_IP-09-859.fr.html']\n",
      "[0.22053757643233252, 'corpus_multi/fr/test/2009-06-18_celex_IP-09-948.fr.html']\n",
      "[0.21837971294287062, 'corpus_multi/fr/appr/2009-09-15_celex_IP-09-1315.fr.html']\n",
      "[0.2183748484471124, 'corpus_multi/fr/appr/2009-07-10_celex_IP-09-1112.fr.html']\n",
      "[0.21777026332312222, 'corpus_multi/fr/test/2009-01-09_celex_IP-09-26.fr.html']\n",
      "[0.21723261477183065, 'corpus_multi/fr/appr/2009-03-31_celex_IP-09-512.fr.html']\n",
      "[0.21628232234611133, 'corpus_multi/fr/test/2009-07-20_celex_IP-09-1165.fr.html']\n",
      "[0.2159187717817923, 'corpus_multi/fr/test/2009-07-30_celex_IP-09-1204.fr.html']\n",
      "[0.21508529062441872, 'corpus_multi/fr/test/2009-02-20_celex_IP-09-300.fr.html']\n",
      "[0.2130777932136645, 'corpus_multi/fr/appr/2009-05-04_celex_IP-09-696.fr.html']\n",
      "[0.2124470041424299, 'corpus_multi/fr/appr/2009-03-30_celex_IP-09-501.fr.html']\n",
      "[0.21110692340299342, 'corpus_multi/fr/appr/2009-12-18_celex_IP-09-1966.fr.html']\n",
      "[0.21075186161337978, 'corpus_multi/fr/appr/2009-10-22_celex_IP-09-1563.fr.html']\n",
      "[0.2107248759805448, 'corpus_multi/fr/appr/2009-06-18_celex_IP-09-951.fr.html']\n",
      "[0.21012443050519725, 'corpus_multi/fr/appr/2009-01-21_celex_IP-09-86.fr.html']\n",
      "[0.2099479556417354, 'corpus_multi/fr/appr/2009-11-24_celex_IP-09-1807.fr.html']\n",
      "[0.20986555525572492, 'corpus_multi/fr/test/2009-05-28_celex_IP-09-845.fr.html']\n",
      "[0.20847816013798703, 'corpus_multi/fr/test/2009-09-23_celex_IP-09-1349.fr.html']\n",
      "[0.20823007021257378, 'corpus_multi/fr/appr/2009-03-03_celex_IP-09-343.fr.html']\n",
      "[0.207669652660466, 'corpus_multi/fr/appr/2009-09-30_celex_IP-09-1397.fr.html']\n",
      "[0.20756870517433534, 'corpus_multi/fr/appr/2009-10-21_celex_IP-09-1552.fr.html']\n",
      "[0.20690424004474872, 'corpus_multi/fr/test/2009-06-29_celex_IP-09-1049.fr.html']\n",
      "[0.2044861418177808, 'corpus_multi/fr/appr/2009-11-18_celex_IP-09-1731.fr.html']\n",
      "[0.20417860012025035, 'corpus_multi/fr/appr/2009-12-08_celex_IP-09-1887.fr.html']\n",
      "[0.20390138089216514, 'corpus_multi/fr/test/2009-05-07_celex_IP-09-718.fr.html']\n",
      "[0.2024855797435957, 'corpus_multi/fr/appr/2009-10-05_celex_IP-09-1421.fr.html']\n",
      "[0.2008917419168723, 'corpus_multi/fr/appr/2009-07-22_celex_IP-09-1172.fr.html']\n",
      "[0.2008082025369219, 'corpus_multi/fr/appr/2009-05-14_celex_IP-09-783.fr.html']\n",
      "[0.20059991066340688, 'corpus_multi/fr/appr/2009-12-01_celex_IP-09-1855.fr.html']\n",
      "[0.19889806323953874, 'corpus_multi/fr/appr/2009-01-30_celex_IP-09-196.fr.html']\n",
      "[0.1982135723121664, 'corpus_multi/fr/appr/2009-07-29_celex_IP-09-1201.fr.html']\n",
      "[0.1979863790056705, 'corpus_multi/fr/test/2009-10-14_celex_IP-09-1516.fr.html']\n",
      "[0.197432692847624, 'corpus_multi/fr/appr/2009-06-16_celex_IP-09-926.fr.html']\n",
      "[0.19644423246678078, 'corpus_multi/fr/test/2009-10-22_celex_IP-09-1573.fr.html']\n",
      "[0.19623005079064249, 'corpus_multi/fr/appr/2009-01-29_celex_IP-09-190.fr.html']\n",
      "[0.19616078309212348, 'corpus_multi/fr/appr/2009-09-14_celex_IP-09-1310.fr.html']\n",
      "[0.195681768857081, 'corpus_multi/fr/appr/2009-06-30_celex_IP-09-1057.fr.html']\n",
      "[0.1955154717514438, 'corpus_multi/fr/appr/2009-11-20_celex_IP-09-1800.fr.html']\n",
      "[0.19356856411549073, 'corpus_multi/fr/test/2009-11-26_celex_IP-09-1824.fr.html']\n",
      "[0.19253851155385138, 'corpus_multi/fr/appr/2009-09-17_celex_IP-09-1332.fr.html']\n",
      "[0.19249089645747053, 'corpus_multi/fr/appr/2009-08-20_celex_IP-09-1244.fr.html']\n",
      "[0.1903102535487209, 'corpus_multi/fr/appr/2009-10-23_celex_IP-09-1576.fr.html']\n",
      "[0.18885737211271636, 'corpus_multi/fr/appr/2009-04-08_celex_IP-09-551.fr.html']\n",
      "[0.18808701907352243, 'corpus_multi/fr/appr/2009-09-03_celex_IP-09-1272.fr.html']\n",
      "[0.18757353886177486, 'corpus_multi/fr/appr/2009-10-22_celex_IP-09-1564.fr.html']\n",
      "[0.18650647804073583, 'corpus_multi/fr/test/2009-11-19_celex_IP-09-1740.fr.html']\n",
      "[0.18583383559838684, 'corpus_multi/fr/appr/2009-09-21_celex_IP-09-1339.fr.html']\n",
      "[0.18380535913642548, 'corpus_multi/fr/appr/2009-06-18_celex_IP-09-952.fr.html']\n",
      "[0.1833048382253294, 'corpus_multi/fr/appr/2009-11-03_celex_IP-09-1666.fr.html']\n",
      "[0.18287244341031395, 'corpus_multi/fr/appr/2009-06-25_celex_IP-09-1021.fr.html']\n",
      "[0.18166570666686888, 'corpus_multi/fr/appr/2009-05-28_celex_IP-09-842.fr.html']\n",
      "[0.1815765640499899, 'corpus_multi/fr/appr/2009-07-07_celex_IP-09-1092.fr.html']\n",
      "[0.1803926007358958, 'corpus_multi/fr/appr/2009-08-28_celex_IP-09-1257.fr.html']\n",
      "[0.17944294358275237, 'corpus_multi/fr/appr/2009-09-25_celex_IP-09-1361.fr.html']\n",
      "[0.17804703021254453, 'corpus_multi/fr/appr/2009-11-24_celex_IP-09-1812.fr.html']\n",
      "[0.1774713018832228, 'corpus_multi/fr/appr/2009-12-04_celex_IP-09-1878.fr.html']\n",
      "[0.17703834650892192, 'corpus_multi/fr/test/2009-02-10_celex_IP-09-232.fr.html']\n",
      "[0.17625750035686683, 'corpus_multi/fr/appr/2009-11-30_celex_IP-09-1841.fr.html']\n",
      "[0.17541160386140586, 'corpus_multi/fr/appr/2009-11-23_celex_IP-09-1802.fr.html']\n",
      "[0.17511550487910743, 'corpus_multi/fr/appr/2009-07-02_celex_IP-09-1070.fr.html']\n",
      "[0.17433803836772765, 'corpus_multi/fr/appr/2009-02-19_celex_IP-09-297.fr.html']\n",
      "[0.17424273674761293, 'corpus_multi/fr/test/2009-11-11_celex_IP-09-1696.fr.html']\n",
      "[0.17389647643678097, 'corpus_multi/fr/appr/2009-04-20_celex_IP-09-594.fr.html']\n",
      "[0.1732254755383975, 'corpus_multi/fr/appr/2009-05-07_celex_IP-09-710.fr.html']\n",
      "[0.17308406237786356, 'corpus_multi/fr/appr/2009-11-03_celex_IP-09-1665.fr.html']\n",
      "[0.1724989218851073, 'corpus_multi/fr/appr/2009-04-23_celex_IP-09-628.fr.html']\n",
      "[0.17147888511543308, 'corpus_multi/fr/appr/2009-03-25_celex_IP-09-480.fr.html']\n",
      "[0.17130691788053598, 'corpus_multi/fr/appr/2009-10-22_celex_IP-09-1572.fr.html']\n",
      "[0.17068115684243346, 'corpus_multi/fr/appr/2009-09-09_celex_IP-09-1290.fr.html']\n",
      "[0.17052612684096136, 'corpus_multi/fr/appr/2009-10-28_celex_IP-09-1594.fr.html']\n",
      "[0.17044643665264492, 'corpus_multi/fr/appr/2009-01-15_celex_IP-09-57.fr.html']\n",
      "[0.16996063594500588, 'corpus_multi/fr/appr/2009-11-16_celex_IP-09-1716.fr.html']\n",
      "[0.1689508275954803, 'corpus_multi/fr/appr/2009-11-16_celex_IP-09-1717.fr.html']\n",
      "[0.16857158385994897, 'corpus_multi/fr/appr/2009-03-25_celex_IP-09-472.fr.html']\n",
      "[0.16699637355008012, 'corpus_multi/fr/appr/2009-12-09_celex_IP-09-1896.fr.html']\n",
      "[0.16656174587146078, 'corpus_multi/fr/appr/2009-12-02_celex_IP-09-1864.fr.html']\n",
      "[0.16543267791319494, 'corpus_multi/fr/appr/2009-09-28_celex_IP-09-1366.fr.html']\n",
      "[0.16536839794870462, 'corpus_multi/fr/test/2009-03-31_celex_IP-09-506.fr.html']\n",
      "[0.16478816032775234, 'corpus_multi/fr/appr/2009-04-01_celex_IP-09-515.fr.html']\n",
      "[0.16435366711502541, 'corpus_multi/fr/test/2009-12-07_celex_IP-09-1883.fr.html']\n",
      "[0.1599080462731346, 'corpus_multi/fr/appr/2009-10-09_celex_IP-09-1498.fr.html']\n",
      "[0.15975290494156813, 'corpus_multi/fr/test/2009-11-11_celex_IP-09-1697.fr.html']\n",
      "[0.15928497304482203, 'corpus_multi/fr/appr/2009-04-20_celex_IP-09-593.fr.html']\n",
      "[0.15901320470042646, 'corpus_multi/fr/appr/2009-03-25_celex_IP-09-473.fr.html']\n",
      "[0.1582664809610579, 'corpus_multi/fr/appr/2009-11-17_celex_IP-09-1725.fr.html']\n",
      "[0.1579905011066729, 'corpus_multi/fr/appr/2009-04-24_celex_IP-09-635.fr.html']\n",
      "[0.15779914650617455, 'corpus_multi/fr/appr/2009-07-16_celex_IP-09-1155.fr.html']\n",
      "[0.1574293687128967, 'corpus_multi/fr/test/2009-12-07_celex_IP-09-1884.fr.html']\n",
      "[0.15731330124142318, 'corpus_multi/fr/appr/2009-06-30_celex_IP-09-1059.fr.html']\n",
      "[0.15683896623866744, 'corpus_multi/fr/appr/2009-07-01_celex_IP-09-1064.fr.html']\n",
      "[0.15671210806241964, 'corpus_multi/fr/appr/2009-04-01_celex_IP-09-519.fr.html']\n",
      "[0.15655317140873237, 'corpus_multi/fr/appr/2009-09-18_celex_IP-09-1334.fr.html']\n",
      "[0.1562744197860364, 'corpus_multi/fr/appr/2009-10-28_celex_IP-09-1596.fr.html']\n",
      "[0.15460126698555332, 'corpus_multi/fr/test/2009-07-08_celex_IP-09-1098.fr.html']\n",
      "[0.15414233422663082, 'corpus_multi/fr/appr/2009-12-16_celex_IP-09-1950.fr.html']\n",
      "[0.15381948752910302, 'corpus_multi/fr/test/2009-09-09_celex_IP-09-1292.fr.html']\n",
      "[0.1523741563612928, 'corpus_multi/fr/appr/2009-09-28_celex_IP-09-1364.fr.html']\n",
      "[0.15106752714162897, 'corpus_multi/fr/test/2009-09-23_celex_IP-09-1347.fr.html']\n",
      "[0.1449344738658669, 'corpus_multi/fr/appr/2009-04-02_celex_IP-09-526.fr.html']\n",
      "[0.1443423787902256, 'corpus_multi/fr/test/2009-01-28_celex_IP-09-142.fr.html']\n",
      "[0.1438898536199299, 'corpus_multi/fr/appr/2009-06-08_celex_IP-09-880.fr.html']\n",
      "[0.14298328605422106, 'corpus_multi/fr/appr/2009-02-13_celex_IP-09-262.fr.html']\n",
      "[0.14221363894199324, 'corpus_multi/fr/appr/2009-04-08_celex_IP-09-552.fr.html']\n",
      "[0.14118624160050353, 'corpus_multi/fr/appr/2009-03-03_celex_IP-09-341.fr.html']\n",
      "[0.14091497219388538, 'corpus_multi/fr/appr/2009-10-14_celex_IP-09-1521.fr.html']\n",
      "[0.1404955108918089, 'corpus_multi/fr/test/2009-01-28_celex_IP-09-141.fr.html']\n",
      "[0.140453585495929, 'corpus_multi/fr/appr/2009-03-09_celex_IP-09-369.fr.html']\n",
      "[0.14007092886615458, 'corpus_multi/fr/test/2009-11-20_celex_IP-09-1779.fr.html']\n",
      "[0.1399144217268491, 'corpus_multi/fr/appr/2009-10-08_celex_IP-09-1487.fr.html']\n",
      "[0.13984605269893324, 'corpus_multi/fr/test/2009-04-22_celex_IP-09-620.fr.html']\n",
      "[0.13832375007766062, 'corpus_multi/fr/appr/2009-01-14_celex_IP-09-48.fr.html']\n",
      "[0.13762908780812078, 'corpus_multi/fr/test/2009-12-21_celex_IP-09-1988.fr.html']\n",
      "[0.1374239606920914, 'corpus_multi/fr/appr/2009-07-16_celex_IP-09-1153.fr.html']\n",
      "[0.13713873691520395, 'corpus_multi/fr/appr/2009-04-03_celex_IP-09-534.fr.html']\n",
      "[0.13526762967959471, 'corpus_multi/fr/appr/2009-04-03_celex_IP-09-536.fr.html']\n",
      "[0.1343261804360143, 'corpus_multi/fr/appr/2009-09-22_celex_IP-09-1341.fr.html']\n",
      "[0.13237424423224042, 'corpus_multi/fr/appr/2009-02-02_celex_IP-09-202.fr.html']\n",
      "[0.1320983600706851, 'corpus_multi/fr/appr/2009-10-15_celex_IP-09-1525.fr.html']\n",
      "[0.13193984914006274, 'corpus_multi/fr/appr/2009-04-27_celex_IP-09-640.fr.html']\n",
      "[0.130155149755124, 'corpus_multi/fr/test/2009-04-29_celex_IP-09-666.fr.html']\n",
      "[0.12994686259757504, 'corpus_multi/fr/appr/2009-03-11_celex_IP-09-390.fr.html']\n",
      "[0.12976908453412606, 'corpus_multi/fr/appr/2009-11-27_celex_IP-09-1837.fr.html']\n",
      "[0.1296932911199582, 'corpus_multi/fr/appr/2009-03-03_celex_IP-09-344.fr.html']\n",
      "[0.12815752656477464, 'corpus_multi/fr/appr/2009-11-12_celex_IP-09-1703.fr.html']\n",
      "[0.12696916079991305, 'corpus_multi/fr/appr/2009-02-11_celex_IP-09-240.fr.html']\n",
      "[0.12445668789715403, 'corpus_multi/fr/appr/2009-05-18_celex_IP-09-800.fr.html']\n",
      "[0.12279325377235906, 'corpus_multi/fr/appr/2009-09-01_celex_IP-09-1261.fr.html']\n",
      "[0.11826154155551649, 'corpus_multi/fr/appr/2009-05-05_celex_IP-09-702.fr.html']\n",
      "[0.11427707688901334, 'corpus_multi/fr/appr/2009-10-21_celex_IP-09-1554.fr.html']\n",
      "[0.11286652959662002, 'corpus_multi/fr/appr/2009-01-30_celex_IP-09-195.fr.html']\n",
      "[0.10826859568269753, 'corpus_multi/fr/appr/2009-06-12_celex_IP-09-912.fr.html']\n",
      "[0.10766118507805267, 'corpus_multi/fr/test/2009-05-29_celex_IP-09-851.fr.html']\n",
      "[0.09934646294640048, 'corpus_multi/fr/appr/2009-06-18_celex_IP-09-954.fr.html']\n",
      "[0.09436248725389773, 'corpus_multi/fr/appr/2009-09-28_celex_IP-09-1367.fr.html']\n",
      "[0.0910620870923966, 'corpus_multi/fr/appr/2009-10-06_celex_IP-09-1423.fr.html']\n",
      "[0.0870388279778489, 'corpus_multi/fr/test/2009-02-10_celex_IP-09-238.fr.html']\n",
      "[0.08070643157033064, 'corpus_multi/fr/appr/2009-10-08_celex_IP-09-1489.fr.html']\n",
      "[0.06271206013136221, 'corpus_multi/fr/test/2009-06-26_celex_IP-09-1044.fr.html']\n",
      "[0.04934303963747566, 'corpus_multi/fr/appr/2009-12-10_celex_IP-09-1903.fr.html']\n",
      "[0.04257353982727574, 'corpus_multi/fr/appr/2009-11-30_celex_IP-09-1842.fr.html']\n",
      "[0.015744188407421644, 'corpus_multi/fr/test/2009-10-29_celex_IP-09-1646.fr.html']\n"
     ]
    }
   ],
   "source": [
    "requete = \"moteur vais tester moteur\"\n",
    "index_requete = indexer_requete(requete)\n",
    "documents_trouves =  requeter_documents(requete, index)\n",
    "resultat = calculer_similarite_cosinus(requete, index_inverse, documents_trouves)\n",
    "for res in sorted(resultat, reverse=True):\n",
    "    print(res)\n",
    "\n",
    "requete = \"la solidarité\"\n",
    "index_requete = indexer_requete(requete)\n",
    "documents_trouves =  requeter_documents(requete, index)\n",
    "resultat = calculer_similarite_cosinus(requete, index_inverse, documents_trouves)\n",
    "for res in sorted(resultat, reverse=True):\n",
    "    print(res)"
   ]
  },
  {
   "cell_type": "code",
   "execution_count": 229,
   "metadata": {},
   "outputs": [
    {
     "name": "stdout",
     "output_type": "stream",
     "text": [
      "Pour la requête la solidarité (272 résultats)\n",
      "[0.39321842779383465, 'corpus_multi/fr/appr/2009-11-17_celex_IP-09-1726.fr.html']\n",
      "[0.3802645137435976, 'corpus_multi/fr/appr/2009-03-03_celex_IP-09-342.fr.html']\n",
      "[0.3782243317357026, 'corpus_multi/fr/test/2009-10-29_celex_IP-09-1626.fr.html']\n",
      "[0.3646589664477471, 'corpus_multi/fr/test/2009-09-11_celex_IP-09-1305.fr.html']\n",
      "[0.3609409474408716, 'corpus_multi/fr/test/2009-04-29_celex_IP-09-673.fr.html']\n",
      "[0.35722813480814675, 'corpus_multi/fr/appr/2009-06-10_celex_IP-09-893.fr.html']\n",
      "[0.3568956605470257, 'corpus_multi/fr/appr/2009-04-22_celex_IP-09-617.fr.html']\n",
      "[0.35147974578331875, 'corpus_multi/fr/appr/2009-06-09_celex_IP-09-891.fr.html']\n",
      "[0.3442254855641127, 'corpus_multi/fr/appr/2009-06-12_celex_IP-09-910.fr.html']\n",
      "[0.34386411670267636, 'corpus_multi/fr/appr/2009-01-22_celex_IP-09-112.fr.html']\n",
      "Pour la requête toto titi (0 résultats)\n",
      "Pour la requête droit travail (102 résultats)\n",
      "[0.07121881208501779, 'corpus_multi/fr/appr/2009-11-24_celex_IP-09-1812.fr.html']\n",
      "[0.06486399306833313, 'corpus_multi/fr/test/2009-06-18_celex_IP-09-948.fr.html']\n",
      "[0.05166777224323971, 'corpus_multi/fr/appr/2009-11-24_celex_IP-09-1808.fr.html']\n",
      "[0.04722448147213709, 'corpus_multi/fr/appr/2009-03-31_celex_IP-09-512.fr.html']\n",
      "[0.046814626639292256, 'corpus_multi/fr/test/2009-09-09_celex_IP-09-1292.fr.html']\n",
      "[0.045098150183974006, 'corpus_multi/fr/appr/2009-08-28_celex_IP-09-1257.fr.html']\n",
      "[0.04394926300450708, 'corpus_multi/fr/appr/2009-12-15_celex_IP-09-1926.fr.html']\n",
      "[0.04070252832737964, 'corpus_multi/fr/appr/2009-06-30_celex_IP-09-1060.fr.html']\n",
      "[0.035918485695793145, 'corpus_multi/fr/appr/2009-02-18_celex_IP-09-275.fr.html']\n",
      "[0.03555590672673892, 'corpus_multi/fr/appr/2009-11-20_celex_IP-09-1781.fr.html']\n"
     ]
    }
   ],
   "source": [
    "def traiter_requete(requete, index, index_inverse):\n",
    "    index_requete = indexer_requete(requete)\n",
    "    documents_trouves =  requeter_documents(requete, index)\n",
    "    resultat = calculer_similarite_cosinus(requete, index_inverse, documents_trouves)\n",
    "    return resultat\n",
    "\n",
    "    \n",
    "for requete in [\"la solidarité\", \"toto titi\", \"droit travail\"]:\n",
    "    resultat = traiter_requete(requete, index, index_inverse)\n",
    "    print(\"Pour la requête %s (%i résultats)\"%(requete, len(resultat)))\n",
    "    for res in sorted(resultat, reverse=True)[:10]:#On se limite aux dix premiers résultats\n",
    "        print(res)"
   ]
  },
  {
   "cell_type": "code",
   "execution_count": 297,
   "metadata": {},
   "outputs": [],
   "source": [
    "def requeter_documents(requete, index, relation_logique='ET'):\n",
    "    # Séparer les mots de la requête\n",
    "    mots = requete.split()\n",
    "    # Récupérer l'ensemble des documents pour chaque mot de la requête\n",
    "    ensembles_docs = [index.get(mot, set()) for mot in mots]\n",
    "    \n",
    "    # Appliquer la relation logique spécifiée entre les ensembles de documents\n",
    "    if relation_logique == 'ET':\n",
    "        documents_trouves = set.intersection(*[set(ensemble_docs) for ensemble_docs in ensembles_docs])\n",
    "    elif relation_logique == 'XOR':\n",
    "        documents_trouves = set()\n",
    "        for ensemble_docs in ensembles_docs:\n",
    "            documents_trouves.update(ensemble_docs)\n",
    "        for ensemble_docs in ensembles_docs:\n",
    "            documents_trouves.difference_update(ensemble_docs)\n",
    "    elif relation_logique == 'NON':\n",
    "        documents_trouves = set()\n",
    "        for ensemble_docs in ensembles_docs:\n",
    "            documents_trouves.update(ensemble_docs)\n",
    "        for ensemble_docs in ensembles_docs:\n",
    "            documents_trouves.difference_update(ensemble_docs)\n",
    "    #else: # par défaut, 'OU' (union des ensembles de documents)\n",
    "            documents_trouves = set.union(*ensembles_docs)\n",
    "        \n",
    "    return documents_trouves"
   ]
  },
  {
   "cell_type": "code",
   "execution_count": 298,
   "metadata": {},
   "outputs": [
    {
     "name": "stdout",
     "output_type": "stream",
     "text": [
      "{'corpus_multi/fr/appr/2009-02-19_celex_IP-09-297.fr.html', 'corpus_multi/fr/appr/2009-11-17_celex_IP-09-1726.fr.html', 'corpus_multi/fr/appr/2009-05-07_celex_IP-09-710.fr.html', 'corpus_multi/fr/appr/2009-06-09_celex_IP-09-891.fr.html', 'corpus_multi/fr/appr/2009-09-03_celex_IP-09-1272.fr.html', 'corpus_multi/fr/test/2009-05-28_celex_IP-09-845.fr.html', 'corpus_multi/fr/test/2009-06-18_celex_IP-09-948.fr.html', 'corpus_multi/fr/appr/2009-05-12_celex_IP-09-740.fr.html', 'corpus_multi/fr/appr/2009-03-11_celex_IP-09-390.fr.html', 'corpus_multi/fr/test/2009-09-11_celex_IP-09-1305.fr.html', 'corpus_multi/fr/appr/2009-10-16_celex_IP-09-1538.fr.html', 'corpus_multi/fr/appr/2009-10-22_celex_IP-09-1562.fr.html'}\n"
     ]
    }
   ],
   "source": [
    "requete = \"droit travail\"\n",
    "relation_logique = \"ET\"\n",
    "documents_trouves = requeter_documents(requete, index, relation_logique)\n",
    "print(documents_trouves)"
   ]
  },
  {
   "cell_type": "code",
   "execution_count": 261,
   "metadata": {},
   "outputs": [],
   "source": [
    "def ponderation_tfidf(index):\n",
    "    import math\n",
    "    #Pour connaître le nombre de documents dans le corpus\n",
    "    all_documents = []\n",
    "    for liste_doc in index.values():\n",
    "        all_documents+=liste_doc\n",
    "    Nb_documents = len(set(all_documents))\n",
    "    \n",
    "    #On reconstruit un index pondéré\n",
    "    index_tf_idf = {}\n",
    "    for mot, liste in index.items():\n",
    "        index_tf_idf[mot] = math.log(Nb_documents/len(liste))\n",
    "        #index_tf_idf[mot]=0\n",
    "    return index_tf_idf\n",
    "\n",
    "def calculer_similarite_cosinus(requete, index_inverse,documents_trouves):\n",
    "    from scipy import spatial\n",
    "    \n",
    "    index_requete = indexer_requete(requete)#pour avoir la même structure de dico mot:effectif\n",
    "    resultat = []# où on va stocker les docs et les similarités\n",
    "    \n",
    "    for doc in documents_trouves:\n",
    "        #On fait l'union des mots du document en cours et de la requête :\n",
    "        vocabulaire = set(index_requete.keys()).union(index_inverse[doc].keys())\n",
    "        \n",
    "        #On aura un vecteur pour chacun\n",
    "        vecteur, vecteur_requete = [], []\n",
    "        \n",
    "        for mot in vocabulaire:\n",
    "            if mot in index_inverse[doc]:#si le mot est dans le document\n",
    "                vecteur.append(index_inverse[doc][mot])#on ajoute son effectif dans le vecteur\n",
    "            else:\n",
    "                vecteur.append(0)# Si le mot est absent de ce document, on ajoute un zéro\n",
    "                \n",
    "            if mot in index_requete:#Idem pour la requête\n",
    "                vecteur_requete.append(index_requete[mot])\n",
    "            else:\n",
    "                vecteur_requete.append(0)#= le mot est absent de la requête\n",
    "        dist=spatial.distance.cosine(vecteur,vecteur_requete )\n",
    "        similarite = 1-dist\n",
    "        resultat.append([similarite, doc])\n",
    "\n",
    "    return resultat \n"
   ]
  },
  {
   "cell_type": "code",
   "execution_count": 233,
   "metadata": {},
   "outputs": [
    {
     "name": "stdout",
     "output_type": "stream",
     "text": [
      "Pour la requête la solidarité (272 résultats)\n",
      "[0.39321842779383465, 'corpus_multi/fr/appr/2009-11-17_celex_IP-09-1726.fr.html']\n",
      "[0.3802645137435976, 'corpus_multi/fr/appr/2009-03-03_celex_IP-09-342.fr.html']\n",
      "[0.3782243317357026, 'corpus_multi/fr/test/2009-10-29_celex_IP-09-1626.fr.html']\n",
      "[0.3646589664477471, 'corpus_multi/fr/test/2009-09-11_celex_IP-09-1305.fr.html']\n",
      "[0.3609409474408716, 'corpus_multi/fr/test/2009-04-29_celex_IP-09-673.fr.html']\n",
      "[0.35722813480814675, 'corpus_multi/fr/appr/2009-06-10_celex_IP-09-893.fr.html']\n",
      "[0.3568956605470257, 'corpus_multi/fr/appr/2009-04-22_celex_IP-09-617.fr.html']\n",
      "[0.35147974578331875, 'corpus_multi/fr/appr/2009-06-09_celex_IP-09-891.fr.html']\n",
      "[0.3442254855641127, 'corpus_multi/fr/appr/2009-06-12_celex_IP-09-910.fr.html']\n",
      "[0.34386411670267636, 'corpus_multi/fr/appr/2009-01-22_celex_IP-09-112.fr.html']\n",
      "Pour la requête toto titi (0 résultats)\n",
      "Pour la requête droit travail (102 résultats)\n",
      "[0.07121881208501779, 'corpus_multi/fr/appr/2009-11-24_celex_IP-09-1812.fr.html']\n",
      "[0.06486399306833313, 'corpus_multi/fr/test/2009-06-18_celex_IP-09-948.fr.html']\n",
      "[0.05166777224323971, 'corpus_multi/fr/appr/2009-11-24_celex_IP-09-1808.fr.html']\n",
      "[0.04722448147213709, 'corpus_multi/fr/appr/2009-03-31_celex_IP-09-512.fr.html']\n",
      "[0.046814626639292256, 'corpus_multi/fr/test/2009-09-09_celex_IP-09-1292.fr.html']\n",
      "[0.045098150183974006, 'corpus_multi/fr/appr/2009-08-28_celex_IP-09-1257.fr.html']\n",
      "[0.04394926300450708, 'corpus_multi/fr/appr/2009-12-15_celex_IP-09-1926.fr.html']\n",
      "[0.04070252832737964, 'corpus_multi/fr/appr/2009-06-30_celex_IP-09-1060.fr.html']\n",
      "[0.035918485695793145, 'corpus_multi/fr/appr/2009-02-18_celex_IP-09-275.fr.html']\n",
      "[0.03555590672673892, 'corpus_multi/fr/appr/2009-11-20_celex_IP-09-1781.fr.html']\n",
      "Pour la requête Bruxelles (22 résultats)\n",
      "[0.07075983396617547, 'corpus_multi/fr/test/2009-09-23_celex_IP-09-1349.fr.html']\n",
      "[0.044756183462814736, 'corpus_multi/fr/appr/2009-04-03_celex_IP-09-534.fr.html']\n",
      "[0.03737828074515337, 'corpus_multi/fr/appr/2009-01-30_celex_IP-09-191.fr.html']\n",
      "[0.02224145154228674, 'corpus_multi/fr/appr/2009-05-06_celex_IP-09-704.fr.html']\n",
      "[0.019928386481802063, 'corpus_multi/fr/appr/2009-10-14_celex_IP-09-1521.fr.html']\n",
      "[0.019295098316976844, 'corpus_multi/fr/appr/2009-09-01_celex_IP-09-1261.fr.html']\n",
      "[0.018833594062705905, 'corpus_multi/fr/appr/2009-05-04_celex_IP-09-696.fr.html']\n",
      "[0.01771924779845835, 'corpus_multi/fr/appr/2009-11-23_celex_IP-09-1802.fr.html']\n",
      "[0.017495462702715958, 'corpus_multi/fr/appr/2009-06-26_celex_IP-09-1043.fr.html']\n",
      "[0.01530871290747604, 'corpus_multi/fr/appr/2009-03-16_celex_IP-09-405.fr.html']\n"
     ]
    }
   ],
   "source": [
    "def traiter_requete(requete, index, index_inverse):\n",
    "    index_requete = indexer_requete(requete)\n",
    "    documents_trouves =  requeter_documents(requete, index)\n",
    "    resultat = calculer_similarite_cosinus(requete, index_inverse, documents_trouves)\n",
    "    return resultat\n",
    "\n",
    "    \n",
    "for requete in [\"la solidarité\", \"toto titi\", \"droit travail\", \"Bruxelles\"]:\n",
    "    resultat = traiter_requete(requete, index, index_inverse)\n",
    "    print(\"Pour la requête %s (%i résultats)\"%(requete, len(resultat)))\n",
    "    for res in sorted(resultat, reverse=True)[:10]:#On se limite aux dix premiers résultats\n",
    "        print(res)"
   ]
  },
  {
   "cell_type": "code",
   "execution_count": 234,
   "metadata": {},
   "outputs": [],
   "source": [
    "def ponderation_tfidf(index):\n",
    "    import math\n",
    "    all_documents = []\n",
    "    for liste_doc in index.values():\n",
    "        all_documents+=liste_doc\n",
    "    Nb_documents = len(set(all_documents))\n",
    "    \n",
    "    index_tf_idf = {}\n",
    "    for mot, liste in index.items():\n",
    "        index_tf_idf[mot] = math.log(Nb_documents/len(liste))\n",
    "    return index_tf_idf\n",
    "\n",
    "def calculer_similarite_cosinus_tf_idf(requete, index_inverse, documents_trouves, index):\n",
    "    from scipy import spatial\n",
    "    index_requete = indexer_requete(requete)\n",
    "    resultat = []\n",
    "    index_tf_idf = ponderation_tfidf(index)\n",
    "    for doc in documents_trouves:\n",
    "        vocabulaire = set(index_requete.keys()).union(index_inverse[doc].keys())\n",
    "        vecteur, vecteur_requete = [], []\n",
    "        \n",
    "        for mot in vocabulaire:\n",
    "            if mot in index_inverse[doc]:\n",
    "                vecteur.append(index_inverse[doc][mot]*index_tf_idf[mot])\n",
    "            else:\n",
    "                vecteur.append(0)\n",
    "                \n",
    "            if mot in index_requete:\n",
    "                vecteur_requete.append(index_requete[mot])\n",
    "            else:\n",
    "                vecteur_requete.append(0)\n",
    "        dist=spatial.distance.cosine(vecteur,vecteur_requete )\n",
    "        similarite = 1-dist\n",
    "        resultat.append([similarite, doc])\n",
    "\n",
    "    return resultat "
   ]
  },
  {
   "cell_type": "code",
   "execution_count": 235,
   "metadata": {},
   "outputs": [
    {
     "name": "stdout",
     "output_type": "stream",
     "text": [
      "Pour la requête la solidarité (272 résultats)\n",
      "[0.04641508775282399, 'corpus_multi/fr/appr/2009-05-11_celex_IP-09-730.fr.html']\n",
      "[0.029654018855828634, 'corpus_multi/fr/appr/2009-04-27_celex_IP-09-644.fr.html']\n",
      "[0.01941438922690575, 'corpus_multi/fr/appr/2009-07-22_celex_IP-09-1171.fr.html']\n",
      "[0.014025046555964149, 'corpus_multi/fr/test/2009-11-26_celex_IP-09-1824.fr.html']\n",
      "[0.0, 'corpus_multi/fr/test/2009-12-31_celex_IP-09-2002.fr.html']\n",
      "[0.0, 'corpus_multi/fr/test/2009-12-21_celex_IP-09-1988.fr.html']\n",
      "[0.0, 'corpus_multi/fr/test/2009-12-07_celex_IP-09-1884.fr.html']\n",
      "[0.0, 'corpus_multi/fr/test/2009-12-07_celex_IP-09-1883.fr.html']\n",
      "[0.0, 'corpus_multi/fr/test/2009-11-25_celex_IP-09-1816.fr.html']\n",
      "[0.0, 'corpus_multi/fr/test/2009-11-20_celex_IP-09-1779.fr.html']\n",
      "Pour la requête toto titi (0 résultats)\n",
      "Pour la requête droit travail (102 résultats)\n",
      "[0.1145122594034903, 'corpus_multi/fr/appr/2009-11-24_celex_IP-09-1812.fr.html']\n",
      "[0.08136499838514155, 'corpus_multi/fr/appr/2009-12-15_celex_IP-09-1926.fr.html']\n",
      "[0.06598065036553402, 'corpus_multi/fr/appr/2009-03-31_celex_IP-09-512.fr.html']\n",
      "[0.06350677952227612, 'corpus_multi/fr/test/2009-06-18_celex_IP-09-948.fr.html']\n",
      "[0.06256198094891796, 'corpus_multi/fr/test/2009-09-09_celex_IP-09-1292.fr.html']\n",
      "[0.05089425254801705, 'corpus_multi/fr/appr/2009-11-24_celex_IP-09-1808.fr.html']\n",
      "[0.05087629111417935, 'corpus_multi/fr/appr/2009-06-30_celex_IP-09-1060.fr.html']\n",
      "[0.0508114261758289, 'corpus_multi/fr/appr/2009-11-20_celex_IP-09-1781.fr.html']\n",
      "[0.04701702359728399, 'corpus_multi/fr/test/2009-05-07_celex_IP-09-718.fr.html']\n",
      "[0.04557552872994519, 'corpus_multi/fr/appr/2009-02-18_celex_IP-09-275.fr.html']\n",
      "Pour la requête Bruxelles (22 résultats)\n",
      "[0.17194233475130904, 'corpus_multi/fr/test/2009-09-23_celex_IP-09-1349.fr.html']\n",
      "[0.058088930258941573, 'corpus_multi/fr/appr/2009-04-03_celex_IP-09-534.fr.html']\n",
      "[0.05076769867999131, 'corpus_multi/fr/appr/2009-05-06_celex_IP-09-704.fr.html']\n",
      "[0.04948337594602248, 'corpus_multi/fr/appr/2009-01-30_celex_IP-09-191.fr.html']\n",
      "[0.048489533452082845, 'corpus_multi/fr/appr/2009-05-04_celex_IP-09-696.fr.html']\n",
      "[0.03785272517372218, 'corpus_multi/fr/appr/2009-10-14_celex_IP-09-1521.fr.html']\n",
      "[0.034959591958160896, 'corpus_multi/fr/appr/2009-09-01_celex_IP-09-1261.fr.html']\n",
      "[0.03378225948104696, 'corpus_multi/fr/appr/2009-11-23_celex_IP-09-1802.fr.html']\n",
      "[0.03332499480407369, 'corpus_multi/fr/appr/2009-02-17_celex_IP-09-272.fr.html']\n",
      "[0.033014606150045256, 'corpus_multi/fr/appr/2009-03-16_celex_IP-09-405.fr.html']\n"
     ]
    }
   ],
   "source": [
    "def traiter_requete_tf_idf(requete, index, index_inverse):\n",
    "    index_requete = indexer_requete(requete)\n",
    "    documents_trouves =  requeter_documents(requete, index)\n",
    "    resultat = calculer_similarite_cosinus_tf_idf(requete, index_inverse, documents_trouves, index)\n",
    "    return resultat\n",
    "\n",
    "    \n",
    "for requete in [\"la solidarité\", \"toto titi\", \"droit travail\", \"Bruxelles\"]:\n",
    "    resultat = traiter_requete_tf_idf(requete, index, index_inverse)\n",
    "    print(\"Pour la requête %s (%i résultats)\"%(requete, len(resultat)))\n",
    "    for res in sorted(resultat, reverse=True)[:10]:#On se limite aux dix premiers résultats\n",
    "        print(res)"
   ]
  },
  {
   "cell_type": "code",
   "execution_count": 236,
   "metadata": {},
   "outputs": [
    {
     "name": "stdout",
     "output_type": "stream",
     "text": [
      "Requirement already satisfied: SpeechRecognition in /Users/chloe/opt/anaconda3/lib/python3.9/site-packages (3.9.0)\n",
      "Requirement already satisfied: requests>=2.26.0 in /Users/chloe/opt/anaconda3/lib/python3.9/site-packages (from SpeechRecognition) (2.27.1)\n",
      "Requirement already satisfied: idna<4,>=2.5 in /Users/chloe/opt/anaconda3/lib/python3.9/site-packages (from requests>=2.26.0->SpeechRecognition) (3.3)\n",
      "Requirement already satisfied: certifi>=2017.4.17 in /Users/chloe/opt/anaconda3/lib/python3.9/site-packages (from requests>=2.26.0->SpeechRecognition) (2022.12.7)\n",
      "Requirement already satisfied: urllib3<1.27,>=1.21.1 in /Users/chloe/opt/anaconda3/lib/python3.9/site-packages (from requests>=2.26.0->SpeechRecognition) (1.26.9)\n",
      "Requirement already satisfied: charset-normalizer~=2.0.0 in /Users/chloe/opt/anaconda3/lib/python3.9/site-packages (from requests>=2.26.0->SpeechRecognition) (2.0.4)\n"
     ]
    }
   ],
   "source": [
    "!pip install SpeechRecognition"
   ]
  },
  {
   "cell_type": "code",
   "execution_count": 237,
   "metadata": {},
   "outputs": [
    {
     "name": "stdout",
     "output_type": "stream",
     "text": [
      "result2:\n",
      "{   'alternative': [   {   'confidence': 0.91582376,\n",
      "                           'transcript': \"Monsieur Seguin n'avait jamais eu de \"\n",
      "                                         'bonheur avec ses chèvres il les '\n",
      "                                         'perdez tout de la même façon un bon '\n",
      "                                         'matin et casser leur corde sont '\n",
      "                                         'allés dans la montagne et le loup '\n",
      "                                         'les manger ni les caresses de leurs '\n",
      "                                         'maîtres ni la peur de nous rien ne '\n",
      "                                         \"les retenait c'était paraît-il des \"\n",
      "                                         'chèvres indépendante voulant à tout '\n",
      "                                         'prix le grand terre et la liberté'},\n",
      "                       {   'transcript': \"Monsieur Seguin n'avait jamais eu de \"\n",
      "                                         'bonheur avec ses chèvres il les '\n",
      "                                         'perdez tout de la même façon un bon '\n",
      "                                         'matin et casser leur corde sont '\n",
      "                                         'allés dans de la montagne et le loup '\n",
      "                                         'les manger ni les caresses de leurs '\n",
      "                                         'maîtres ni la peur de nous rien ne '\n",
      "                                         \"les retenait c'était paraît-il des \"\n",
      "                                         'chèvres indépendante voulant à tout '\n",
      "                                         'prix le grand terre et la liberté'},\n",
      "                       {   'transcript': \"Monsieur Seguin n'avait jamais eu de \"\n",
      "                                         'bonheur avec ses chèvres il les '\n",
      "                                         'perdez tout de la même façon un bon '\n",
      "                                         'matin et casser leur corde sont '\n",
      "                                         'allés dans de la montagne et le loup '\n",
      "                                         'les manger ni les caresses de leurs '\n",
      "                                         'maîtres ni la peur de nous rien ne '\n",
      "                                         \"les retenait c'était paraît-il des \"\n",
      "                                         'chèvres indépendante voulant à tout '\n",
      "                                         'prix le grand terre et la Liberté'},\n",
      "                       {   'transcript': \"Monsieur Seguin n'avait jamais eu de \"\n",
      "                                         'bonheur avec ses chèvres il les '\n",
      "                                         'perdais toutes de la même façon un '\n",
      "                                         'bon matin et casser leur corde sont '\n",
      "                                         'allés dans la montagne et le loup '\n",
      "                                         'les manger ni les caresses de leurs '\n",
      "                                         'maîtres ni la peur de nous rien ne '\n",
      "                                         \"les retenait c'était paraît-il des \"\n",
      "                                         'chèvres indépendante voulant à tout '\n",
      "                                         'prix le grand terre et la liberté'},\n",
      "                       {   'transcript': \"Monsieur Seguin n'avait jamais eu de \"\n",
      "                                         'bonheur avec ses chèvres il les '\n",
      "                                         'perdez tout de la même façon un bon '\n",
      "                                         'matin et casser leurs cordes sont '\n",
      "                                         'allés dans de la montagne et le loup '\n",
      "                                         'les manger ni les caresses de leurs '\n",
      "                                         'maîtres ni la peur de nous rien ne '\n",
      "                                         \"les retenait c'était paraît-il des \"\n",
      "                                         'chèvres indépendante voulant à tout '\n",
      "                                         'prix le grand terre et la liberté'}],\n",
      "    'final': True}\n"
     ]
    }
   ],
   "source": [
    "import speech_recognition as sr\n",
    "import time\n",
    "\n",
    "r = sr.Recognizer()\n",
    "demo = sr.AudioFile(\"test2.wav\")\n",
    "reco_result = \"\"\n",
    "\n",
    "with demo as source:\n",
    "    audio = r.record(source)\n",
    "    reco_result = r.recognize_google(audio, language=\"fr-FR\")"
   ]
  },
  {
   "cell_type": "code",
   "execution_count": 238,
   "metadata": {},
   "outputs": [
    {
     "name": "stdout",
     "output_type": "stream",
     "text": [
      "Requirement already satisfied: pyproject in /Users/chloe/opt/anaconda3/envs/py3_env/lib/python3.8/site-packages (1.3.1)\n",
      "Requirement already satisfied: Jinja2 in /Users/chloe/opt/anaconda3/envs/py3_env/lib/python3.8/site-packages (from pyproject) (3.1.2)\n",
      "Requirement already satisfied: MarkupSafe>=2.0 in /Users/chloe/opt/anaconda3/envs/py3_env/lib/python3.8/site-packages (from Jinja2->pyproject) (2.1.1)\n",
      "Note: you may need to restart the kernel to use updated packages.\n"
     ]
    }
   ],
   "source": [
    "pip install pyproject"
   ]
  },
  {
   "cell_type": "code",
   "execution_count": 239,
   "metadata": {},
   "outputs": [
    {
     "name": "stdout",
     "output_type": "stream",
     "text": [
      "Requirement already satisfied: PyAudio in /Users/chloe/opt/anaconda3/envs/py3_env/lib/python3.8/site-packages (0.2.13)\n",
      "Note: you may need to restart the kernel to use updated packages.\n"
     ]
    }
   ],
   "source": [
    "pip install PyAudio"
   ]
  },
  {
   "cell_type": "code",
   "execution_count": 240,
   "metadata": {},
   "outputs": [
    {
     "name": "stdout",
     "output_type": "stream",
     "text": [
      "Parlez svp\n",
      "result2:\n",
      "[]\n",
      "Une erreur s'est produite :  \n"
     ]
    }
   ],
   "source": [
    "import speech_recognition as sr\n",
    "\n",
    "r = sr.Recognizer()\n",
    "\n",
    "try:\n",
    "    with sr.Microphone() as source:\n",
    "        r.adjust_for_ambient_noise(source)\n",
    "        print(\"Parlez svp\")\n",
    "        audio = r.listen(source)\n",
    "        text = r.recognize_google(audio, language=\"fr-FR\")\n",
    "        print(\"Vous avez dit: \" + text)\n",
    "except Exception as e:\n",
    "    print(\"Une erreur s'est produite : \", e)"
   ]
  },
  {
   "cell_type": "code",
   "execution_count": 244,
   "metadata": {},
   "outputs": [
    {
     "name": "stdout",
     "output_type": "stream",
     "text": [
      "Parlez svp\n",
      "result2:\n",
      "{   'alternative': [   {   'confidence': 0.93120778,\n",
      "                           'transcript': 'hi my name is John'},\n",
      "                       {'transcript': 'hiya my name is John'},\n",
      "                       {'transcript': 'are you my name is John'},\n",
      "                       {'transcript': 'tyre my name is John'},\n",
      "                       {'transcript': 'fire my name is John'}],\n",
      "    'final': True}\n",
      "Vous avez dit: hi my name is John\n"
     ]
    }
   ],
   "source": [
    "import speech_recognition as sr\n",
    "r = sr.Recognizer()\n",
    "with sr.Microphone() as source:\n",
    "    r.adjust_for_ambient_noise(source)\n",
    "    print(\"Parlez svp\")\n",
    "    audio = r.listen(source)\n",
    "    text = r.recognize_google(audio)\n",
    "    print(\"Vous avez dit: \" + text)"
   ]
  }
 ],
 "metadata": {
  "kernelspec": {
   "display_name": "py3_env",
   "language": "python",
   "name": "py3_env"
  },
  "language_info": {
   "codemirror_mode": {
    "name": "ipython",
    "version": 3
   },
   "file_extension": ".py",
   "mimetype": "text/x-python",
   "name": "python",
   "nbconvert_exporter": "python",
   "pygments_lexer": "ipython3",
   "version": "3.8.13 (default, Oct 19 2022, 17:54:22) \n[Clang 12.0.0 ]"
  },
  "orig_nbformat": 4
 },
 "nbformat": 4,
 "nbformat_minor": 2
}
