{
 "cells": [
  {
   "cell_type": "code",
   "execution_count": 45,
   "metadata": {},
   "outputs": [
    {
     "name": "stderr",
     "output_type": "stream",
     "text": [
      "[nltk_data] Downloading package wordnet to /Users/chloe/nltk_data...\n",
      "[nltk_data]   Package wordnet is already up-to-date!\n"
     ]
    },
    {
     "data": {
      "text/plain": [
       "True"
      ]
     },
     "execution_count": 45,
     "metadata": {},
     "output_type": "execute_result"
    }
   ],
   "source": [
    "import nltk\n",
    "nltk.download('wordnet')"
   ]
  },
  {
   "cell_type": "code",
   "execution_count": 46,
   "metadata": {},
   "outputs": [],
   "source": [
    "def definition(mot):\n",
    "    return wn.synsets(mot)[0].definition()"
   ]
  },
  {
   "cell_type": "code",
   "execution_count": 47,
   "metadata": {},
   "outputs": [],
   "source": [
    "from nltk.corpus import wordnet as wn\n",
    "from nltk.wsd import lesk\n",
    "\n",
    "def lesk(context_sentence, ambiguous_word, pos=None, synsets=None):\n",
    "    context = set(context_sentence)\n",
    "    if synsets is None:\n",
    "        synsets = wn.synsets(ambiguous_word)\n",
    "\n",
    "    if pos:\n",
    "        synsets = [ss for ss in synsets if str(ss.pos()) == pos]\n",
    "\n",
    "    if not synsets:\n",
    "        return None\n",
    "\n",
    "    _, sense = max(\n",
    "    (len(context.intersection(ss.definition().split())), ss) for ss in synsets\n",
    "    )\n",
    "    return sense"
   ]
  },
  {
   "cell_type": "code",
   "execution_count": 48,
   "metadata": {},
   "outputs": [
    {
     "name": "stdout",
     "output_type": "stream",
     "text": [
      "Synset('means.n.01')\n",
      "Synset('mean.v.07')\n"
     ]
    }
   ],
   "source": [
    "ambiguous_word1 = \"means\"\n",
    "ambiguous_word2 = \"mean\"\n",
    "context_sentence1 = 'The train is the most ecological means of transport. By choosing the train you reduce your carbonfootprint.'\n",
    "context_sentence2 = 'What does it mean to be a scientist ? To be a scientist mean to love knowledge and to discover newcorrelations between natural phenomena.'\n",
    "\n",
    "print(lesk(context_sentence1, ambiguous_word1, pos=None, synsets=None))\n",
    "print(lesk(context_sentence2, ambiguous_word2, pos=None, synsets=None))\n"
   ]
  },
  {
   "cell_type": "code",
   "execution_count": 49,
   "metadata": {},
   "outputs": [
    {
     "name": "stdout",
     "output_type": "stream",
     "text": [
      "Synset('means.n.01') how a result is obtained or an end is achieved\n",
      "Synset('means.n.02') an instrumentality for accomplishing some end\n",
      "Synset('means.n.03') considerable capital (wealth or income)\n",
      "Synset('mean.n.01') an average of n numbers computed by adding some function of the numbers and dividing by some function of n\n",
      "Synset('mean.v.01') mean or intend to express or convey\n",
      "Synset('entail.v.01') have as a logical consequence\n",
      "Synset('mean.v.03') denote or connote\n",
      "Synset('intend.v.01') have in mind as a purpose\n",
      "Synset('mean.v.05') have a specified degree of importance\n",
      "Synset('think_of.v.04') intend to refer to\n",
      "Synset('mean.v.07') destine or designate for a certain purpose\n"
     ]
    }
   ],
   "source": [
    "for ss in wn.synsets('means'):\n",
    "    print(ss, ss.definition())"
   ]
  },
  {
   "cell_type": "code",
   "execution_count": 50,
   "metadata": {},
   "outputs": [],
   "source": [
    "# Les différences par rapport au mot \"resistance\" sont que la signification du mot dans les 2 contextes reste la même. Le mot mean est également un nom et un verbe. Les mots suivent une hiérarchie dans Wordnet."
   ]
  },
  {
   "cell_type": "code",
   "execution_count": 78,
   "metadata": {},
   "outputs": [],
   "source": [
    "def lire_fichier(chemin):\n",
    "    with open(chemin, encoding = \"utf-8\") as f:\n",
    "        chaine = f.read()\n",
    "    return chaine\n",
    "def decouper_en_mots(chaine):\n",
    "    liste_mots = chaine.split()\n",
    "    return liste_mots"
   ]
  },
  {
   "cell_type": "code",
   "execution_count": 79,
   "metadata": {},
   "outputs": [
    {
     "name": "stdout",
     "output_type": "stream",
     "text": [
      "/Users/chloe/Documents/toto/textes1_2_3/3.txt war : Synset('war.n.02') a legal state created by a declaration of war and ended by official declaration during which the international rules of war apply\n",
      "/Users/chloe/Documents/toto/textes1_2_3/3.txt peace : Synset('peace.n.04') the general security of public places\n",
      "/Users/chloe/Documents/toto/textes1_2_3/3.txt defense : Synset('defense.n.11') a defendant's answer or plea denying the truth of the charges against him\n",
      "/Users/chloe/Documents/toto/textes1_2_3/3.txt invasion : Synset('invasion.n.03') (pathology) the spread of pathogenic microorganisms or malignant cells to new sites in the body\n",
      "/Users/chloe/Documents/toto/textes1_2_3/3.txt force : Synset('force_out.n.01') a putout of a base runner who is required to run; the putout is accomplished by holding the ball while touching the base to which the runner must advance before the runner reaches that base\n",
      "/Users/chloe/Documents/toto/textes1_2_3/3.txt independence : Synset('independence.n.01') freedom from control or influence of another or others\n",
      "/Users/chloe/Documents/toto/textes1_2_3/2.txt war : Synset('war.n.02') a legal state created by a declaration of war and ended by official declaration during which the international rules of war apply\n",
      "/Users/chloe/Documents/toto/textes1_2_3/2.txt peace : Synset('peace.n.01') the state prevailing during the absence of war\n",
      "/Users/chloe/Documents/toto/textes1_2_3/2.txt defense : Synset('department_of_defense.n.01') the federal department responsible for safeguarding national security of the United States; created in 1947\n",
      "/Users/chloe/Documents/toto/textes1_2_3/2.txt invasion : Synset('invasion.n.01') the act of invading; the act of an army that invades for conquest or plunder\n",
      "/Users/chloe/Documents/toto/textes1_2_3/2.txt force : Synset('force_out.n.01') a putout of a base runner who is required to run; the putout is accomplished by holding the ball while touching the base to which the runner must advance before the runner reaches that base\n",
      "/Users/chloe/Documents/toto/textes1_2_3/2.txt independence : Synset('independence.n.03') a city in western Missouri; the beginning of the Santa Fe Trail\n",
      "/Users/chloe/Documents/toto/textes1_2_3/1.txt war : Synset('war.n.02') a legal state created by a declaration of war and ended by official declaration during which the international rules of war apply\n",
      "/Users/chloe/Documents/toto/textes1_2_3/1.txt peace : Synset('peace.n.04') the general security of public places\n",
      "/Users/chloe/Documents/toto/textes1_2_3/1.txt defense : Synset('department_of_defense.n.01') the federal department responsible for safeguarding national security of the United States; created in 1947\n",
      "/Users/chloe/Documents/toto/textes1_2_3/1.txt invasion : Synset('invasion.n.01') the act of invading; the act of an army that invades for conquest or plunder\n",
      "/Users/chloe/Documents/toto/textes1_2_3/1.txt force : Synset('force_out.n.01') a putout of a base runner who is required to run; the putout is accomplished by holding the ball while touching the base to which the runner must advance before the runner reaches that base\n",
      "/Users/chloe/Documents/toto/textes1_2_3/1.txt independence : Synset('independence.n.03') a city in western Missouri; the beginning of the Santa Fe Trail\n"
     ]
    }
   ],
   "source": [
    "import glob\n",
    "liste_mots = [\"war\", \"peace\", \"defense\", \"invasion\", \"force\", \"independence\"]\n",
    "for chemin in glob.glob('/Users/chloe/Documents/toto/textes1_2_3/*.txt'):\n",
    "    chaine = lire_fichier(chemin)\n",
    "    context = decouper_en_mots(chaine)\n",
    "    for mots in liste_mots:\n",
    "        print(chemin, mots,\":\",lesk(context, mots, pos=None, synsets=None),lesk(context, mots, pos=None, synsets=None).definition())"
   ]
  },
  {
   "cell_type": "code",
   "execution_count": null,
   "metadata": {},
   "outputs": [],
   "source": [
    "# Dans ce corpus de textes, ces mêmes mots changent de sens dans les différengts textes. Comme par exemple, le mot \"defense\" veut dire dans les 2 premiers textes le département\n",
    "# de la défense des USA, et dans le 3ème texte, il veut dire la défense d'un pays.\n",
    "# Pour le mot \"independence\", il évoque dans les 2 premiers textes une ville dans le Missouri aux USA, alors que dans le dernier texte, il renvoie à l'indépendence d'un pays.\n",
    "# Pour le mot \"invasion\", il renvoie dans les 2 premiers textes à l'acte d'envahir un territoire. Dans le dernier texte, il revoie à la propagation de micro organismes pathogènes.\n",
    "# Enfin pour le mot \"peace\", il revoie à l'absence de guerre dans les 2 premiers textes, alors que dans le dernier texte, il renvoie à la sécurité générale dans les lieux publics.\n",
    "# Ces observations nous montrent en conclusion que lorsque l'on change le contexte d'un texte, les mots changent de sens."
   ]
  }
 ],
 "metadata": {
  "kernelspec": {
   "display_name": "Python 3",
   "language": "python",
   "name": "python3"
  },
  "language_info": {
   "codemirror_mode": {
    "name": "ipython",
    "version": 3
   },
   "file_extension": ".py",
   "mimetype": "text/x-python",
   "name": "python",
   "nbconvert_exporter": "python",
   "pygments_lexer": "ipython3",
   "version": "3.10.6"
  },
  "orig_nbformat": 4,
  "vscode": {
   "interpreter": {
    "hash": "aee8b7b246df8f9039afb4144a1f6fd8d2ca17a180786b69acc140d282b71a49"
   }
  }
 },
 "nbformat": 4,
 "nbformat_minor": 2
}
