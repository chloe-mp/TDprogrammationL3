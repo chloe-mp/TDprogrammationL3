{
 "cells": [
  {
   "cell_type": "code",
   "execution_count": 1,
   "metadata": {},
   "outputs": [],
   "source": [
    "def lire_fichier(chemin):\n",
    "    with open(chemin, encoding = 'utf-8') as f:\n",
    "        chaine = f.read()\n",
    "    return chaine"
   ]
  },
  {
   "cell_type": "code",
   "execution_count": 2,
   "metadata": {},
   "outputs": [
    {
     "name": "stderr",
     "output_type": "stream",
     "text": [
      "[nltk_data] Downloading package punkt to /Users/chloe/nltk_data...\n",
      "[nltk_data]   Package punkt is already up-to-date!\n"
     ]
    }
   ],
   "source": [
    "from nltk.tokenize import word_tokenize\n",
    "import nltk\n",
    "nltk.download('punkt')\n",
    "\n",
    "def decouper_mots(chaine):\n",
    "    tokens = nltk.word_tokenize(chaine, language='french')\n",
    "    mots=word_tokenize(chaine)\n",
    "    return set (mots)"
   ]
  },
  {
   "cell_type": "code",
   "execution_count": 3,
   "metadata": {},
   "outputs": [
    {
     "name": "stdout",
     "output_type": "stream",
     "text": [
      "2559\n",
      "['moyen', 'million', 'authenticité', 'janvier', '»', 'sur', '.', 'savoir', \"d'un\", 'Introduite', 'web', 'sous', 'd', 'ressortissants', 'populations', 'recouvrir', 'proposition', 'façon', 'ensuite', 'Pour', 'Margot', \"d'États\", 'par', 'Conseil', 'européennes.', 'à', 'La', 'livre', 'Commission', 'Ces', 'peuvent', 'règlement', 'publique', 'au', 'directement', 'et', 'modalités', 'représentés', 'du', 'Toutes', 'contributions', 'citoyenne', 'une', 'faire', '//europa.eu/documentation/official-docs/green-papers/index_fr.htm', 'aujourd', 'des', 'soumettra', 'participation', 'lequel']\n",
      "{'corpus_multi/fr/test/2009-05-29_celex_IP-09-851.fr.html'}\n"
     ]
    }
   ],
   "source": [
    "import glob\n",
    "index = {}\n",
    "\n",
    "for chemin in glob.glob(\"corpus_multi/fr/*/*\")[:10]:\n",
    "    chaine = lire_fichier(chemin)\n",
    "    mots = decouper_mots(chaine)\n",
    "    for mot in mots:\n",
    "        if mot not in index:\n",
    "            index[mot] = set()\n",
    "        index[mot].add(chemin)\n",
    "\n",
    "print(len(index))\n",
    "print(list(index.keys())[:50])\n",
    "print(index[\"indique\"])"
   ]
  },
  {
   "cell_type": "code",
   "execution_count": 4,
   "metadata": {},
   "outputs": [],
   "source": [
    "import json\n",
    "index_pour_json = {}\n",
    "for mot, liste_docs in index.items():\n",
    "    index_pour_json[mot] = list(liste_docs)\n",
    "\n",
    "index_pour_json = {mot:list(liste_docs) for mot, liste_docs in index.items()}\n",
    "\n",
    "with open(\"index.json\", \"w\", encoding=\"utf-8\") as w:\n",
    "    w.write(json.dumps(index_pour_json))"
   ]
  },
  {
   "cell_type": "code",
   "execution_count": 5,
   "metadata": {},
   "outputs": [],
   "source": [
    "with open(\"index.json\", \"r\", encoding=\"utf-8\") as f:\n",
    "    index = json.load(f)"
   ]
  },
  {
   "cell_type": "code",
   "execution_count": 6,
   "metadata": {},
   "outputs": [
    {
     "name": "stdout",
     "output_type": "stream",
     "text": [
      "10\n",
      "['corpus_multi/fr/test/2009-03-31_celex_IP-09-506.fr.html', 'corpus_multi/fr/test/2009-07-31_celex_IP-09-1214.fr.html', 'corpus_multi/fr/test/2009-12-31_celex_IP-09-2002.fr.html', 'corpus_multi/fr/test/2009-06-29_celex_IP-09-1049.fr.html', 'corpus_multi/fr/test/2009-11-11_celex_IP-09-1696.fr.html', 'corpus_multi/fr/test/2009-07-08_celex_IP-09-1098.fr.html', 'corpus_multi/fr/test/2009-09-23_celex_IP-09-1349.fr.html', 'corpus_multi/fr/test/2009-05-07_celex_IP-09-718.fr.html', 'corpus_multi/fr/test/2009-02-20_celex_IP-09-300.fr.html', 'corpus_multi/fr/test/2009-05-29_celex_IP-09-851.fr.html']\n"
     ]
    }
   ],
   "source": [
    "requete=index[\"Commission\"]\n",
    "#requete=decouper_mots(chaine)\n",
    "print(len(requete))\n",
    "print(requete)"
   ]
  },
  {
   "cell_type": "code",
   "execution_count": 7,
   "metadata": {},
   "outputs": [
    {
     "name": "stdout",
     "output_type": "stream",
     "text": [
      "10\n",
      "['corpus_multi/fr/test/2009-03-31_celex_IP-09-506.fr.html', 'corpus_multi/fr/test/2009-07-31_celex_IP-09-1214.fr.html', 'corpus_multi/fr/test/2009-12-31_celex_IP-09-2002.fr.html', 'corpus_multi/fr/test/2009-06-29_celex_IP-09-1049.fr.html', 'corpus_multi/fr/test/2009-11-11_celex_IP-09-1696.fr.html', 'corpus_multi/fr/test/2009-07-08_celex_IP-09-1098.fr.html', 'corpus_multi/fr/test/2009-09-23_celex_IP-09-1349.fr.html', 'corpus_multi/fr/test/2009-05-07_celex_IP-09-718.fr.html', 'corpus_multi/fr/test/2009-02-20_celex_IP-09-300.fr.html', 'corpus_multi/fr/test/2009-05-29_celex_IP-09-851.fr.html']\n"
     ]
    }
   ],
   "source": [
    "requete=index[\"européenne\"]\n",
    "#requete=decouper_mots(chaine)\n",
    "print(len(requete))\n",
    "print(requete)"
   ]
  },
  {
   "cell_type": "code",
   "execution_count": 8,
   "metadata": {},
   "outputs": [
    {
     "name": "stdout",
     "output_type": "stream",
     "text": [
      "['corpus_multi/fr/test/2009-03-31_celex_IP-09-506.fr.html', 'corpus_multi/fr/test/2009-07-31_celex_IP-09-1214.fr.html', 'corpus_multi/fr/test/2009-12-31_celex_IP-09-2002.fr.html', 'corpus_multi/fr/test/2009-06-29_celex_IP-09-1049.fr.html', 'corpus_multi/fr/test/2009-11-11_celex_IP-09-1696.fr.html', 'corpus_multi/fr/test/2009-07-08_celex_IP-09-1098.fr.html', 'corpus_multi/fr/test/2009-09-23_celex_IP-09-1349.fr.html', 'corpus_multi/fr/test/2009-05-07_celex_IP-09-718.fr.html', 'corpus_multi/fr/test/2009-02-20_celex_IP-09-300.fr.html', 'corpus_multi/fr/test/2009-05-29_celex_IP-09-851.fr.html']\n",
      "['corpus_multi/fr/test/2009-03-31_celex_IP-09-506.fr.html', 'corpus_multi/fr/test/2009-07-31_celex_IP-09-1214.fr.html', 'corpus_multi/fr/test/2009-12-31_celex_IP-09-2002.fr.html', 'corpus_multi/fr/test/2009-06-29_celex_IP-09-1049.fr.html', 'corpus_multi/fr/test/2009-11-11_celex_IP-09-1696.fr.html', 'corpus_multi/fr/test/2009-07-08_celex_IP-09-1098.fr.html', 'corpus_multi/fr/test/2009-09-23_celex_IP-09-1349.fr.html', 'corpus_multi/fr/test/2009-05-07_celex_IP-09-718.fr.html', 'corpus_multi/fr/test/2009-02-20_celex_IP-09-300.fr.html', 'corpus_multi/fr/test/2009-05-29_celex_IP-09-851.fr.html']\n"
     ]
    }
   ],
   "source": [
    "requete=\"Commission européenne\"\n",
    "requete=decouper_mots(requete)\n",
    "for mot in requete:\n",
    "    \n",
    "    if mot not in index:\n",
    "       \n",
    "        print(f\"{mot} n'est pas connu\")\n",
    "    else:\n",
    "        print(index[mot])"
   ]
  },
  {
   "cell_type": "code",
   "execution_count": 9,
   "metadata": {},
   "outputs": [
    {
     "ename": "NameError",
     "evalue": "name 'resultats' is not defined",
     "output_type": "error",
     "traceback": [
      "\u001b[0;31m---------------------------------------------------------------------------\u001b[0m",
      "\u001b[0;31mNameError\u001b[0m                                 Traceback (most recent call last)",
      "\u001b[1;32m/Users/chloe/Documents/toto/TD_programmation_S5/TD5.ipynb Cell 9\u001b[0m in \u001b[0;36m<cell line: 1>\u001b[0;34m()\u001b[0m\n\u001b[0;32m----> <a href='vscode-notebook-cell:/Users/chloe/Documents/toto/TD_programmation_S5/TD5.ipynb#X11sZmlsZQ%3D%3D?line=0'>1</a>\u001b[0m ordre_decroissant\u001b[39m=\u001b[39m\u001b[39msorted\u001b[39m(resultats, reverse\u001b[39m=\u001b[39m\u001b[39mTrue\u001b[39;00m)\n\u001b[1;32m      <a href='vscode-notebook-cell:/Users/chloe/Documents/toto/TD_programmation_S5/TD5.ipynb#X11sZmlsZQ%3D%3D?line=1'>2</a>\u001b[0m \u001b[39mprint\u001b[39m(ordre_decroissant)\n",
      "\u001b[0;31mNameError\u001b[0m: name 'resultats' is not defined"
     ]
    }
   ],
   "source": [
    "ordre_decroissant=sorted(resultats, reverse=True)\n",
    "print(ordre_decroissant)"
   ]
  },
  {
   "cell_type": "code",
   "execution_count": null,
   "metadata": {},
   "outputs": [
    {
     "name": "stdout",
     "output_type": "stream",
     "text": [
      "ggugk totoutkutk\n",
      "tkutu toto\n"
     ]
    }
   ],
   "source": [
    "import re\n",
    "def afficher_contextes(chaine, terme, taille_contexte = 30):\n",
    "    match = re.search(terme, chaine)\n",
    "    contexts = []\n",
    "    while match is not None: \n",
    "        gauche = max(match.start()-taille_contexte-1, 0)\n",
    "        droite = match.end()+1+taille_contexte\n",
    "        contexts.append(chaine[gauche:droite])\n",
    "        chaine = chaine [match.end():]\n",
    "        match = re.search(terme, chaine)\n",
    "    for c in contexts:\n",
    "        print(c)\n",
    "afficher_contextes(\"g,g,jg,ggugk totoutkutkutkutu toto\", \"toto\", 5)"
   ]
  },
  {
   "cell_type": "code",
   "execution_count": null,
   "metadata": {},
   "outputs": [
    {
     "name": "stdout",
     "output_type": "stream",
     "text": [
      "['IP/09/506', 'Bruxelles', ',', 'le', '31', 'mars', '2009Une', 'protection', 'des', 'marques', 'plus', 'simple', 'et', 'moins', 'chère', 'dans', 'l', '’', 'UELa', 'Commission', 'européenne', 'et', 'les', 'États', 'membres', 'de', 'l', '’', 'UE', 'ont', 'décidé', 'de', 'réduire', 'une', 'nouvelle', 'fois', 'les', 'taxes', 'perçues', 'par', 'l', '’', 'agence', 'européenne', 'qui', 'enregistre', 'les', 'marques', 'communautaires', ',', 'l', '’', 'OHMI', '(', 'l', '’', 'Office', 'd', '’', 'enregistrement', 'des', 'marques', 'et', 'des', 'dessins', 'ou', 'modèles', 'de', 'l', '’', 'Union', 'européenne', ')', 'et', 'de', 'simplifier', 'la', 'procédure', 'd', '’', 'enregistrement', '.', 'Cette', 'mesure', ',', 'qui', 'succède', 'à', 'une', 'autre', 'réduction', 'en', '2005', '(', 'voir', 'IP/05/1289', ')', ',', 'permettra', 'aux', 'entreprises', 'présentes', 'sur', 'le', 'marché', 'intérieur', 'de', 'protéger', 'beaucoup', 'plus', 'facilement', 'leurs', 'marques', 'pour', 'un', 'coût', 'nettement', 'moindre', ':', 'elles', 'devraient', 'économiser', 'environ', '60', 'millions', 'd', '’', 'euros', 'par', 'an', 'au', 'total', '.', 'La', 'mesure', 'entrera', 'en', 'vigueur', 'le', '1er', 'mai', '2009', '.', 'M.', 'Charlie', 'McCreevy', ',', 'commissaire', 'européen', 'chargé', 'du', 'marché', 'intérieur', 'et', 'des', 'services', ',', 'a', 'déclaré', ':', '«', 'C', '’', 'est', 'une', 'bonne', 'nouvelle', 'pour', 'les', 'entreprises', 'en', 'Europe', '.', 'La', 'forte', 'réduction', 'des', 'frais', 'et', 'la', 'simplification', 'des', 'procédures', 'leur', 'permettra', 'de', 'protéger', 'plus', 'facilement', 'leurs', 'marques', 'dans', 'toute', 'l', '’', 'UE', 'à', 'moindre', 'coût', ',', 'ce', 'qui', 'promouvra', 'l', '’', 'esprit', 'd', '’', 'entreprise', 'et', 'stimulera', 'l', '’', 'activité', 'économique', ',', 'des', 'éléments', 'essentiels', 'en', 'période', 'de', 'crise', 'économique', '.', 'Les', 'petites', 'et', 'moyennes', 'entreprises', ',', 'pour', 'lesquelles', 'cette', 'protection', 'représente', 'souvent', 'une', 'charge', 'importante', 'en', 'termes', 'de', 'coûts', 'et', 'de', 'procédures', ',', 'bénéficieront', 'particulièrement', 'de', 'ces', 'changements.', '»', 'Le', 'président', 'de', 'l', '’', 'OHMI', ',', 'M.', 'Wubbo', 'de', 'Boer', ',', 'a', 'déclaré', ':', '«', 'Pour', 'une', 'petite', 'entreprise', ',', 'la', 'protection', 'd', '’', 'une', 'marque', 'au', 'niveau', 'communautaire', 'permet', 'de', 'garantir', 'que', 'les', 'biens', 'et', 'les', 'services', 'de', 'cette', 'entreprise', 'pourront', 'accéder', 'au', 'marché', 'intérieur', 'de', 'l', '’', 'UE', '.', 'Pour', 'les', 'entreprises', 'de', 'plus', 'grande', 'taille', ',', 'c', '’', 'est', 'un', 'outil', 'indispensable', 'pour', 'assurer', 'une', 'présence', 'internationale.', '»', 'La', 'réduction', 'et', 'la', 'simplification', 'de', 'la', 'procédure', 'consistent', 'à', 'réduire', 'à', 'zéro', 'la', 'taxe', 'd', '’', 'enregistrement', 'pour', 'les', 'marques', 'communautaires', '.', 'À', 'l', '’', 'avenir', ',', 'les', 'entreprises', 'n', '’', 'auront', 'donc', 'à', 'payer', 'que', 'la', 'taxe', 'de', 'dépôt', ',', 'la', 'taxe', 'd', '’', 'enregistrement', 'n', '’', 'étant', 'plus', 'exigée', '.', 'Cette', 'mesure', 'va', 'également', 'réduire', 'fortement', 'le', 'délai', 'd', '’', 'enregistrement', 'pour', 'les', 'marques', 'communautaires', '.', 'En', 'pratique', ',', 'les', 'entreprises', 'n', '’', 'auront', 'à', 'payer', 'que', 'la', 'taxe', 'de', 'dépôt', 'd', '’', 'un', 'montant', 'de', '1050', 'euros', 'au', 'lieu', 'des', '1750', 'euros', 'que', 'coûtaient', 'jusqu', '’', 'ici', 'le', 'dépôt', 'et', 'l', '’', 'enregistrement', 'd', '’', 'une', 'marque', 'communautaire', '.', 'Les', 'demandes', 'effectuées', 'par', 'internet', 'bénéficieront', 'd', '’', 'un', 'tarif', 'encore', 'plus', 'avantageux', ',', 'puisqu', '’', 'il', 'se', 'montera', 'à', '900', 'euros', 'au', 'lieu', 'des', '1600', 'euros', 'demandés', 'au', 'total', 'à', 'l', '’', 'heure', 'actuelle', '.', 'Les', 'entreprises', 'paieront', 'donc', '40', '%', 'de', 'moins', 'qu', '’', 'auparavant', 'pour', 'enregistrer', 'une', 'marque', 'communautaire', ',', 'et', 'même', '44', '%', 'de', 'moins', 'si', 'elles', 'font', 'leur', 'demande', 'en', 'ligne', '.', 'En', 'outre', ',', 'la', 'taxe', 'pour', 'les', 'demandes', 'd', '’', 'enregistrement', 'd', '’', 'une', 'marque', 'internationale', 'désignant', 'la', 'Communauté', 'européenne', 'conformément', 'au', 'protocole', 'de', 'Madrid', 'passera', 'de', '1450', 'à', '870', 'euros', ',', 'soit', 'également', 'une', 'baisse', 'de', '40', '%', '.', 'Le', 'contexte', 'L', '’', 'OHMI', 'a', 'été', 'établi', 'par', 'le', 'Conseil', 'de', 'l', '’', 'UE', 'en', '1994', '.', 'Depuis', 'qu', '’', 'il', 'est', 'entré', 'en', 'service', 'en', '1996', ',', 'la', 'demande', 'de', 'marques', 'communautaires', 'n', '’', 'a', 'cessé', 'de', 'croître', ',', 'parfois', 'à', 'un', 'rythme', 'très', 'élevé', '.', 'Au', 'total', ',', 'l', '’', 'OHMI', 'a', 'enregistré', 'jusqu', '’', 'à', 'maintenant', 'plus', 'de', '500', '000', 'marques', 'pour', 'des', 'centaines', 'de', 'milliers', 'd', '’', 'entreprises', 'du', 'monde', 'entier', '.', 'En', 'tant', 'qu', '’', 'agence', 'de', 'l', '’', 'UE', 'autofinancée', ',', 'le', 'budget', 'de', 'l', '’', 'OHMI', 'repose', 'entièrement', 'sur', 'les', 'taxes', 'payées', 'par', 'les', 'entreprises', 'qui', 'recourent', 'à', 'ses', 'services', '.', 'Il', 'ne', 'reçoit', 'aucune', 'subvention', 'ni', 'aucun', 'soutien', 'financier', 'de', 'la', 'part', 'des', 'contribuables', 'de', 'l', '’', 'UE', 'et', ',', 'en', 'tant', 'qu', '’', 'organisme', 'à', 'but', 'non', 'lucratif', ',', 'son', 'budget', 'doit', 'être', 'en', 'équilibre', '.', 'Ces', 'dernières', 'années', ',', 'l', '’', 'OHMI', 'a', 'réussi', 'à', 'mettre', 'en', 'place', 'un', 'programme', 'ambitieux', 'visant', 'à', 'augmenter', 'sa', 'productivité', 'et', 'à', 'améliorer', 'son', 'efficacité', ',', 'tout', 'en', 'offrant', 'une', 'qualité', 'de', 'service', 'qui', 'attire', 'un', 'nombre', 'sans', 'cesse', 'croissant', 'd', '’', 'utilisateurs', '.', 'En', 'dépit', 'de', 'la', 'précédente', 'réduction', 'des', 'tarifs', ',', 'en', '2005', ',', 'elle', 'a', ',', 'ces', 'derniers', 'temps', ',', 'accumulé', 'd', '’', 'importantes', 'réserves', 'financières', '.', 'En', 'conséquence', ',', 'l', '’', 'OHMI', ',', 'tout', 'en', 'continuant', 'à', 'améliorer', 'ses', 'services', ',', 'notamment', 'en', 'ligne', ',', 'et', 'à', 'réduire', 'ses', 'délais', 'de', 'réaction', ',', 'peut', 'faire', 'profiter', 'de', 'ses', 'gains', 'd', '’', 'efficacité', 'l', '’', 'ensemble', 'du', 'monde', 'de', 'l', '’', 'entreprise', 'et', 'en', 'particulier', 'les', 'PME', ',', 'pour', 'lesquelles', 'la', 'protection', 'de', 'la', 'propriété', 'intellectuelle', 'représente', 'souvent', 'un', 'coût', 'élevé', '.', 'Cette', 'nouvelle', 'et', 'forte', 'réduction', 'des', 'taxes', 'a', 'fait', 'l', '’', 'objet', 'de', 'débats', 'approfondis', 'avec', 'les', 'États', 'membres', '.', 'Elle', 'est', 'la', 'première', 'd', '’', 'une', 'série', 'de', 'mesures', 'destinées', 'à', 'mieux', 'équilibrer', ',', 'à', 'l', '’', 'avenir', ',', 'le', 'budget', 'de', 'l', '’', 'OHMI', ',', 'sur', 'lesquelles', 'les', 'États', 'membres', 'se', 'sont', 'mis', 'd', '’', 'accord', 'lors', 'd', '’', 'une', 'réunion', 'commune', 'du', 'conseil', 'd', '’', 'administration', 'et', 'du', 'comité', 'budgétaire', 'de', 'l', '’', 'OHMI', ',', 'en', 'septembre', '2008', '.', 'Pour', 'plus', 'de', 'détails', ',', 'voir', ':', 'http', ':', '//ec.europa.eu/internal_market/indprop/tm/index_fr.htm', 'http', ':', '//oami.europa.eu']\n"
     ]
    },
    {
     "name": "stderr",
     "output_type": "stream",
     "text": [
      "[nltk_data] Downloading package punkt to /Users/chloe/nltk_data...\n",
      "[nltk_data]   Package punkt is already up-to-date!\n"
     ]
    }
   ],
   "source": [
    "import nltk\n",
    "nltk.download('punkt')\n",
    "\n",
    "tokens = nltk.word_tokenize(chaine, language='french')\n",
    "print(word_tokenize(chaine))"
   ]
  },
  {
   "cell_type": "code",
   "execution_count": null,
   "metadata": {},
   "outputs": [
    {
     "name": "stdout",
     "output_type": "stream",
     "text": [
      "Nombre de fichiers : 272\n",
      "dict_keys(['fr'])\n"
     ]
    }
   ],
   "source": [
    "def lire_fichier(chemin):\n",
    "    with open(chemin, encoding = 'utf-8') as f:\n",
    "        chaine = f.read()\n",
    "    return chaine\n",
    "import glob\n",
    "dic_langues = {}\n",
    "liste_fichiers = glob.glob(\"corpus_multi/fr/*/*\")\n",
    "print(\"Nombre de fichiers : %i\"%len(liste_fichiers))\n",
    "for chemin in liste_fichiers:\n",
    "    #print(chemin)\n",
    "    dossiers = chemin.split(\"/\")\n",
    "    langue = dossiers[1]\n",
    "    if langue not in dic_langues:\n",
    "        dic_langues[langue] = {}\n",
    "    chaine = lire_fichier(chemin)\n",
    "    mot = chaine.split()\n",
    "    for n in mot:\n",
    "        if n not in dic_langues[langue]:\n",
    "            dic_langues[langue][n]=1\n",
    "        else:\n",
    "            dic_langues[langue][n]+=1 \n",
    "print(dic_langues.keys())"
   ]
  },
  {
   "cell_type": "code",
   "execution_count": null,
   "metadata": {},
   "outputs": [
    {
     "name": "stderr",
     "output_type": "stream",
     "text": [
      "[nltk_data] Downloading package punkt to /Users/chloe/nltk_data...\n",
      "[nltk_data]   Package punkt is already up-to-date!\n"
     ]
    },
    {
     "name": "stdout",
     "output_type": "stream",
     "text": [
      "Collecting spacy\n",
      "  Downloading spacy-3.4.3-cp38-cp38-macosx_10_9_x86_64.whl (6.6 MB)\n",
      "\u001b[2K     \u001b[90m━━━━━━━━━━━━━━━━━━━━━━━━━━━━━━━━━━━━━━━━\u001b[0m \u001b[32m6.6/6.6 MB\u001b[0m \u001b[31m7.1 MB/s\u001b[0m eta \u001b[36m0:00:00\u001b[0m00:01\u001b[0m00:01\u001b[0m\n",
      "\u001b[?25hCollecting numpy>=1.15.0\n",
      "  Downloading numpy-1.23.5-cp38-cp38-macosx_10_9_x86_64.whl (18.1 MB)\n",
      "\u001b[2K     \u001b[90m━━━━━━━━━━━━━━━━━━━━━━━━━━━━━━━━━━━━━━━━\u001b[0m \u001b[32m18.1/18.1 MB\u001b[0m \u001b[31m9.1 MB/s\u001b[0m eta \u001b[36m0:00:00\u001b[0m00:01\u001b[0mm00:01\u001b[0m\n",
      "\u001b[?25hRequirement already satisfied: setuptools in /Users/chloe/opt/anaconda3/envs/py3_env/lib/python3.8/site-packages (from spacy) (63.4.1)\n",
      "Collecting pydantic!=1.8,!=1.8.1,<1.11.0,>=1.7.4\n",
      "  Downloading pydantic-1.10.2-cp38-cp38-macosx_10_9_x86_64.whl (3.1 MB)\n",
      "\u001b[2K     \u001b[90m━━━━━━━━━━━━━━━━━━━━━━━━━━━━━━━━━━━━━━━━\u001b[0m \u001b[32m3.1/3.1 MB\u001b[0m \u001b[31m9.6 MB/s\u001b[0m eta \u001b[36m0:00:00\u001b[0m:00:01\u001b[0m00:01\u001b[0m\n",
      "\u001b[?25hCollecting srsly<3.0.0,>=2.4.3\n",
      "  Downloading srsly-2.4.5-cp38-cp38-macosx_10_9_x86_64.whl (489 kB)\n",
      "\u001b[2K     \u001b[90m━━━━━━━━━━━━━━━━━━━━━━━━━━━━━━━━━━━━━━━\u001b[0m \u001b[32m489.1/489.1 kB\u001b[0m \u001b[31m7.0 MB/s\u001b[0m eta \u001b[36m0:00:00\u001b[0ma \u001b[36m0:00:01\u001b[0m\n",
      "\u001b[?25hCollecting preshed<3.1.0,>=3.0.2\n",
      "  Downloading preshed-3.0.8-cp38-cp38-macosx_10_9_x86_64.whl (107 kB)\n",
      "\u001b[2K     \u001b[90m━━━━━━━━━━━━━━━━━━━━━━━━━━━━━━━━━━━━━━━\u001b[0m \u001b[32m107.4/107.4 kB\u001b[0m \u001b[31m3.0 MB/s\u001b[0m eta \u001b[36m0:00:00\u001b[0m\n",
      "\u001b[?25hCollecting jinja2\n",
      "  Downloading Jinja2-3.1.2-py3-none-any.whl (133 kB)\n",
      "\u001b[2K     \u001b[90m━━━━━━━━━━━━━━━━━━━━━━━━━━━━━━━━━━━━━━━\u001b[0m \u001b[32m133.1/133.1 kB\u001b[0m \u001b[31m4.0 MB/s\u001b[0m eta \u001b[36m0:00:00\u001b[0m\n",
      "\u001b[?25hRequirement already satisfied: packaging>=20.0 in /Users/chloe/opt/anaconda3/envs/py3_env/lib/python3.8/site-packages (from spacy) (21.3)\n",
      "Collecting spacy-legacy<3.1.0,>=3.0.10\n",
      "  Using cached spacy_legacy-3.0.10-py2.py3-none-any.whl (21 kB)\n",
      "Collecting catalogue<2.1.0,>=2.0.6\n",
      "  Using cached catalogue-2.0.8-py3-none-any.whl (17 kB)\n",
      "Collecting pathy>=0.3.5\n",
      "  Using cached pathy-0.10.1-py3-none-any.whl (48 kB)\n",
      "Collecting murmurhash<1.1.0,>=0.28.0\n",
      "  Downloading murmurhash-1.0.9-cp38-cp38-macosx_10_9_x86_64.whl (18 kB)\n",
      "Requirement already satisfied: tqdm<5.0.0,>=4.38.0 in /Users/chloe/opt/anaconda3/envs/py3_env/lib/python3.8/site-packages (from spacy) (4.64.1)\n",
      "Collecting typer<0.8.0,>=0.3.0\n",
      "  Using cached typer-0.7.0-py3-none-any.whl (38 kB)\n",
      "Collecting langcodes<4.0.0,>=3.2.0\n",
      "  Using cached langcodes-3.3.0-py3-none-any.whl (181 kB)\n",
      "Collecting thinc<8.2.0,>=8.1.0\n",
      "  Downloading thinc-8.1.5-cp38-cp38-macosx_10_9_x86_64.whl (754 kB)\n",
      "\u001b[2K     \u001b[90m━━━━━━━━━━━━━━━━━━━━━━━━━━━━━━━━━━━━━━━\u001b[0m \u001b[32m754.4/754.4 kB\u001b[0m \u001b[31m8.0 MB/s\u001b[0m eta \u001b[36m0:00:00\u001b[0m00:01\u001b[0m00:01\u001b[0m\n",
      "\u001b[?25hCollecting spacy-loggers<2.0.0,>=1.0.0\n",
      "  Using cached spacy_loggers-1.0.4-py3-none-any.whl (11 kB)\n",
      "Collecting wasabi<1.1.0,>=0.9.1\n",
      "  Using cached wasabi-0.10.1-py3-none-any.whl (26 kB)\n",
      "Collecting cymem<2.1.0,>=2.0.2\n",
      "  Downloading cymem-2.0.7-cp38-cp38-macosx_10_9_x86_64.whl (32 kB)\n",
      "Collecting requests<3.0.0,>=2.13.0\n",
      "  Downloading requests-2.28.1-py3-none-any.whl (62 kB)\n",
      "\u001b[2K     \u001b[90m━━━━━━━━━━━━━━━━━━━━━━━━━━━━━━━━━━━━━━━━\u001b[0m \u001b[32m62.8/62.8 kB\u001b[0m \u001b[31m2.0 MB/s\u001b[0m eta \u001b[36m0:00:00\u001b[0m\n",
      "\u001b[?25hRequirement already satisfied: pyparsing!=3.0.5,>=2.0.2 in /Users/chloe/opt/anaconda3/envs/py3_env/lib/python3.8/site-packages (from packaging>=20.0->spacy) (3.0.9)\n",
      "Collecting smart-open<7.0.0,>=5.2.1\n",
      "  Using cached smart_open-6.2.0-py3-none-any.whl (58 kB)\n",
      "Collecting typing-extensions>=4.1.0\n",
      "  Downloading typing_extensions-4.4.0-py3-none-any.whl (26 kB)\n",
      "Collecting idna<4,>=2.5\n",
      "  Downloading idna-3.4-py3-none-any.whl (61 kB)\n",
      "\u001b[2K     \u001b[90m━━━━━━━━━━━━━━━━━━━━━━━━━━━━━━━━━━━━━━━━\u001b[0m \u001b[32m61.5/61.5 kB\u001b[0m \u001b[31m2.1 MB/s\u001b[0m eta \u001b[36m0:00:00\u001b[0m\n",
      "\u001b[?25hRequirement already satisfied: certifi>=2017.4.17 in /Users/chloe/opt/anaconda3/envs/py3_env/lib/python3.8/site-packages (from requests<3.0.0,>=2.13.0->spacy) (2022.9.24)\n",
      "Collecting charset-normalizer<3,>=2\n",
      "  Downloading charset_normalizer-2.1.1-py3-none-any.whl (39 kB)\n",
      "Collecting urllib3<1.27,>=1.21.1\n",
      "  Downloading urllib3-1.26.13-py2.py3-none-any.whl (140 kB)\n",
      "\u001b[2K     \u001b[90m━━━━━━━━━━━━━━━━━━━━━━━━━━━━━━━━━━━━━━━\u001b[0m \u001b[32m140.6/140.6 kB\u001b[0m \u001b[31m4.2 MB/s\u001b[0m eta \u001b[36m0:00:00\u001b[0m\n",
      "\u001b[?25hCollecting blis<0.8.0,>=0.7.8\n",
      "  Downloading blis-0.7.9-cp38-cp38-macosx_10_9_x86_64.whl (6.1 MB)\n",
      "\u001b[2K     \u001b[90m━━━━━━━━━━━━━━━━━━━━━━━━━━━━━━━━━━━━━━━━\u001b[0m \u001b[32m6.1/6.1 MB\u001b[0m \u001b[31m10.0 MB/s\u001b[0m eta \u001b[36m0:00:00\u001b[0m00:01\u001b[0m00:01\u001b[0m\n",
      "\u001b[?25hCollecting confection<1.0.0,>=0.0.1\n",
      "  Using cached confection-0.0.3-py3-none-any.whl (32 kB)\n",
      "Requirement already satisfied: click<9.0.0,>=7.1.1 in /Users/chloe/opt/anaconda3/envs/py3_env/lib/python3.8/site-packages (from typer<0.8.0,>=0.3.0->spacy) (8.1.3)\n",
      "Collecting MarkupSafe>=2.0\n",
      "  Downloading MarkupSafe-2.1.1-cp38-cp38-macosx_10_9_x86_64.whl (13 kB)\n",
      "Installing collected packages: wasabi, cymem, urllib3, typing-extensions, typer, spacy-loggers, spacy-legacy, smart-open, numpy, murmurhash, MarkupSafe, langcodes, idna, charset-normalizer, catalogue, srsly, requests, pydantic, preshed, pathy, jinja2, blis, confection, thinc, spacy\n",
      "Successfully installed MarkupSafe-2.1.1 blis-0.7.9 catalogue-2.0.8 charset-normalizer-2.1.1 confection-0.0.3 cymem-2.0.7 idna-3.4 jinja2-3.1.2 langcodes-3.3.0 murmurhash-1.0.9 numpy-1.23.5 pathy-0.10.1 preshed-3.0.8 pydantic-1.10.2 requests-2.28.1 smart-open-6.2.0 spacy-3.4.3 spacy-legacy-3.0.10 spacy-loggers-1.0.4 srsly-2.4.5 thinc-8.1.5 typer-0.7.0 typing-extensions-4.4.0 urllib3-1.26.13 wasabi-0.10.1\n"
     ]
    }
   ],
   "source": [
    "import glob , re, json, nltk\n",
    "nltk.download('punkt')\n",
    "!pip3 install -U spacy \n",
    "import spacy "
   ]
  },
  {
   "cell_type": "code",
   "execution_count": null,
   "metadata": {},
   "outputs": [
    {
     "name": "stdout",
     "output_type": "stream",
     "text": [
      "Collecting fr-core-news-sm==3.4.0\n",
      "  Downloading https://github.com/explosion/spacy-models/releases/download/fr_core_news_sm-3.4.0/fr_core_news_sm-3.4.0-py3-none-any.whl (16.3 MB)\n",
      "\u001b[2K     \u001b[90m━━━━━━━━━━━━━━━━━━━━━━━━━━━━━━━━━━━━━━━━\u001b[0m \u001b[32m16.3/16.3 MB\u001b[0m \u001b[31m8.1 MB/s\u001b[0m eta \u001b[36m0:00:00\u001b[0m00:01\u001b[0m00:01\u001b[0m\n",
      "\u001b[?25hRequirement already satisfied: spacy<3.5.0,>=3.4.0 in /Users/chloe/opt/anaconda3/envs/py3_env/lib/python3.8/site-packages (from fr-core-news-sm==3.4.0) (3.4.3)\n",
      "Requirement already satisfied: requests<3.0.0,>=2.13.0 in /Users/chloe/opt/anaconda3/envs/py3_env/lib/python3.8/site-packages (from spacy<3.5.0,>=3.4.0->fr-core-news-sm==3.4.0) (2.28.1)\n",
      "Requirement already satisfied: typer<0.8.0,>=0.3.0 in /Users/chloe/opt/anaconda3/envs/py3_env/lib/python3.8/site-packages (from spacy<3.5.0,>=3.4.0->fr-core-news-sm==3.4.0) (0.7.0)\n",
      "Requirement already satisfied: spacy-legacy<3.1.0,>=3.0.10 in /Users/chloe/opt/anaconda3/envs/py3_env/lib/python3.8/site-packages (from spacy<3.5.0,>=3.4.0->fr-core-news-sm==3.4.0) (3.0.10)\n",
      "Requirement already satisfied: thinc<8.2.0,>=8.1.0 in /Users/chloe/opt/anaconda3/envs/py3_env/lib/python3.8/site-packages (from spacy<3.5.0,>=3.4.0->fr-core-news-sm==3.4.0) (8.1.5)\n",
      "Requirement already satisfied: jinja2 in /Users/chloe/opt/anaconda3/envs/py3_env/lib/python3.8/site-packages (from spacy<3.5.0,>=3.4.0->fr-core-news-sm==3.4.0) (3.1.2)\n",
      "Requirement already satisfied: packaging>=20.0 in /Users/chloe/opt/anaconda3/envs/py3_env/lib/python3.8/site-packages (from spacy<3.5.0,>=3.4.0->fr-core-news-sm==3.4.0) (21.3)\n",
      "Requirement already satisfied: numpy>=1.15.0 in /Users/chloe/opt/anaconda3/envs/py3_env/lib/python3.8/site-packages (from spacy<3.5.0,>=3.4.0->fr-core-news-sm==3.4.0) (1.23.5)\n",
      "Requirement already satisfied: wasabi<1.1.0,>=0.9.1 in /Users/chloe/opt/anaconda3/envs/py3_env/lib/python3.8/site-packages (from spacy<3.5.0,>=3.4.0->fr-core-news-sm==3.4.0) (0.10.1)\n",
      "Requirement already satisfied: spacy-loggers<2.0.0,>=1.0.0 in /Users/chloe/opt/anaconda3/envs/py3_env/lib/python3.8/site-packages (from spacy<3.5.0,>=3.4.0->fr-core-news-sm==3.4.0) (1.0.4)\n",
      "Requirement already satisfied: cymem<2.1.0,>=2.0.2 in /Users/chloe/opt/anaconda3/envs/py3_env/lib/python3.8/site-packages (from spacy<3.5.0,>=3.4.0->fr-core-news-sm==3.4.0) (2.0.7)\n",
      "Requirement already satisfied: srsly<3.0.0,>=2.4.3 in /Users/chloe/opt/anaconda3/envs/py3_env/lib/python3.8/site-packages (from spacy<3.5.0,>=3.4.0->fr-core-news-sm==3.4.0) (2.4.5)\n",
      "Requirement already satisfied: setuptools in /Users/chloe/opt/anaconda3/envs/py3_env/lib/python3.8/site-packages (from spacy<3.5.0,>=3.4.0->fr-core-news-sm==3.4.0) (63.4.1)\n",
      "Requirement already satisfied: preshed<3.1.0,>=3.0.2 in /Users/chloe/opt/anaconda3/envs/py3_env/lib/python3.8/site-packages (from spacy<3.5.0,>=3.4.0->fr-core-news-sm==3.4.0) (3.0.8)\n",
      "Requirement already satisfied: catalogue<2.1.0,>=2.0.6 in /Users/chloe/opt/anaconda3/envs/py3_env/lib/python3.8/site-packages (from spacy<3.5.0,>=3.4.0->fr-core-news-sm==3.4.0) (2.0.8)\n",
      "Requirement already satisfied: pathy>=0.3.5 in /Users/chloe/opt/anaconda3/envs/py3_env/lib/python3.8/site-packages (from spacy<3.5.0,>=3.4.0->fr-core-news-sm==3.4.0) (0.10.1)\n",
      "Requirement already satisfied: tqdm<5.0.0,>=4.38.0 in /Users/chloe/opt/anaconda3/envs/py3_env/lib/python3.8/site-packages (from spacy<3.5.0,>=3.4.0->fr-core-news-sm==3.4.0) (4.64.1)\n",
      "Requirement already satisfied: pydantic!=1.8,!=1.8.1,<1.11.0,>=1.7.4 in /Users/chloe/opt/anaconda3/envs/py3_env/lib/python3.8/site-packages (from spacy<3.5.0,>=3.4.0->fr-core-news-sm==3.4.0) (1.10.2)\n",
      "Requirement already satisfied: murmurhash<1.1.0,>=0.28.0 in /Users/chloe/opt/anaconda3/envs/py3_env/lib/python3.8/site-packages (from spacy<3.5.0,>=3.4.0->fr-core-news-sm==3.4.0) (1.0.9)\n",
      "Requirement already satisfied: langcodes<4.0.0,>=3.2.0 in /Users/chloe/opt/anaconda3/envs/py3_env/lib/python3.8/site-packages (from spacy<3.5.0,>=3.4.0->fr-core-news-sm==3.4.0) (3.3.0)\n",
      "Requirement already satisfied: pyparsing!=3.0.5,>=2.0.2 in /Users/chloe/opt/anaconda3/envs/py3_env/lib/python3.8/site-packages (from packaging>=20.0->spacy<3.5.0,>=3.4.0->fr-core-news-sm==3.4.0) (3.0.9)\n",
      "Requirement already satisfied: smart-open<7.0.0,>=5.2.1 in /Users/chloe/opt/anaconda3/envs/py3_env/lib/python3.8/site-packages (from pathy>=0.3.5->spacy<3.5.0,>=3.4.0->fr-core-news-sm==3.4.0) (6.2.0)\n",
      "Requirement already satisfied: typing-extensions>=4.1.0 in /Users/chloe/opt/anaconda3/envs/py3_env/lib/python3.8/site-packages (from pydantic!=1.8,!=1.8.1,<1.11.0,>=1.7.4->spacy<3.5.0,>=3.4.0->fr-core-news-sm==3.4.0) (4.4.0)\n",
      "Requirement already satisfied: charset-normalizer<3,>=2 in /Users/chloe/opt/anaconda3/envs/py3_env/lib/python3.8/site-packages (from requests<3.0.0,>=2.13.0->spacy<3.5.0,>=3.4.0->fr-core-news-sm==3.4.0) (2.1.1)\n",
      "Requirement already satisfied: idna<4,>=2.5 in /Users/chloe/opt/anaconda3/envs/py3_env/lib/python3.8/site-packages (from requests<3.0.0,>=2.13.0->spacy<3.5.0,>=3.4.0->fr-core-news-sm==3.4.0) (3.4)\n",
      "Requirement already satisfied: certifi>=2017.4.17 in /Users/chloe/opt/anaconda3/envs/py3_env/lib/python3.8/site-packages (from requests<3.0.0,>=2.13.0->spacy<3.5.0,>=3.4.0->fr-core-news-sm==3.4.0) (2022.9.24)\n",
      "Requirement already satisfied: urllib3<1.27,>=1.21.1 in /Users/chloe/opt/anaconda3/envs/py3_env/lib/python3.8/site-packages (from requests<3.0.0,>=2.13.0->spacy<3.5.0,>=3.4.0->fr-core-news-sm==3.4.0) (1.26.13)\n",
      "Requirement already satisfied: blis<0.8.0,>=0.7.8 in /Users/chloe/opt/anaconda3/envs/py3_env/lib/python3.8/site-packages (from thinc<8.2.0,>=8.1.0->spacy<3.5.0,>=3.4.0->fr-core-news-sm==3.4.0) (0.7.9)\n",
      "Requirement already satisfied: confection<1.0.0,>=0.0.1 in /Users/chloe/opt/anaconda3/envs/py3_env/lib/python3.8/site-packages (from thinc<8.2.0,>=8.1.0->spacy<3.5.0,>=3.4.0->fr-core-news-sm==3.4.0) (0.0.3)\n",
      "Requirement already satisfied: click<9.0.0,>=7.1.1 in /Users/chloe/opt/anaconda3/envs/py3_env/lib/python3.8/site-packages (from typer<0.8.0,>=0.3.0->spacy<3.5.0,>=3.4.0->fr-core-news-sm==3.4.0) (8.1.3)\n",
      "Requirement already satisfied: MarkupSafe>=2.0 in /Users/chloe/opt/anaconda3/envs/py3_env/lib/python3.8/site-packages (from jinja2->spacy<3.5.0,>=3.4.0->fr-core-news-sm==3.4.0) (2.1.1)\n",
      "\u001b[38;5;2m✔ Download and installation successful\u001b[0m\n",
      "You can now load the package via spacy.load('fr_core_news_sm')\n",
      "Collecting fr-core-news-md==3.4.0\n",
      "  Downloading https://github.com/explosion/spacy-models/releases/download/fr_core_news_md-3.4.0/fr_core_news_md-3.4.0-py3-none-any.whl (45.8 MB)\n",
      "\u001b[2K     \u001b[90m━━━━━━━━━━━━━━━━━━━━━━━━━━━━━━━━━━━━━━━━\u001b[0m \u001b[32m45.8/45.8 MB\u001b[0m \u001b[31m7.8 MB/s\u001b[0m eta \u001b[36m0:00:00\u001b[0m00:01\u001b[0m00:01\u001b[0m\n",
      "\u001b[?25hRequirement already satisfied: spacy<3.5.0,>=3.4.0 in /Users/chloe/opt/anaconda3/envs/py3_env/lib/python3.8/site-packages (from fr-core-news-md==3.4.0) (3.4.3)\n",
      "Requirement already satisfied: catalogue<2.1.0,>=2.0.6 in /Users/chloe/opt/anaconda3/envs/py3_env/lib/python3.8/site-packages (from spacy<3.5.0,>=3.4.0->fr-core-news-md==3.4.0) (2.0.8)\n",
      "Requirement already satisfied: thinc<8.2.0,>=8.1.0 in /Users/chloe/opt/anaconda3/envs/py3_env/lib/python3.8/site-packages (from spacy<3.5.0,>=3.4.0->fr-core-news-md==3.4.0) (8.1.5)\n",
      "Requirement already satisfied: cymem<2.1.0,>=2.0.2 in /Users/chloe/opt/anaconda3/envs/py3_env/lib/python3.8/site-packages (from spacy<3.5.0,>=3.4.0->fr-core-news-md==3.4.0) (2.0.7)\n",
      "Requirement already satisfied: langcodes<4.0.0,>=3.2.0 in /Users/chloe/opt/anaconda3/envs/py3_env/lib/python3.8/site-packages (from spacy<3.5.0,>=3.4.0->fr-core-news-md==3.4.0) (3.3.0)\n",
      "Requirement already satisfied: srsly<3.0.0,>=2.4.3 in /Users/chloe/opt/anaconda3/envs/py3_env/lib/python3.8/site-packages (from spacy<3.5.0,>=3.4.0->fr-core-news-md==3.4.0) (2.4.5)\n",
      "Requirement already satisfied: jinja2 in /Users/chloe/opt/anaconda3/envs/py3_env/lib/python3.8/site-packages (from spacy<3.5.0,>=3.4.0->fr-core-news-md==3.4.0) (3.1.2)\n",
      "Requirement already satisfied: setuptools in /Users/chloe/opt/anaconda3/envs/py3_env/lib/python3.8/site-packages (from spacy<3.5.0,>=3.4.0->fr-core-news-md==3.4.0) (63.4.1)\n",
      "Requirement already satisfied: requests<3.0.0,>=2.13.0 in /Users/chloe/opt/anaconda3/envs/py3_env/lib/python3.8/site-packages (from spacy<3.5.0,>=3.4.0->fr-core-news-md==3.4.0) (2.28.1)\n",
      "Requirement already satisfied: tqdm<5.0.0,>=4.38.0 in /Users/chloe/opt/anaconda3/envs/py3_env/lib/python3.8/site-packages (from spacy<3.5.0,>=3.4.0->fr-core-news-md==3.4.0) (4.64.1)\n",
      "Requirement already satisfied: preshed<3.1.0,>=3.0.2 in /Users/chloe/opt/anaconda3/envs/py3_env/lib/python3.8/site-packages (from spacy<3.5.0,>=3.4.0->fr-core-news-md==3.4.0) (3.0.8)\n",
      "Requirement already satisfied: spacy-legacy<3.1.0,>=3.0.10 in /Users/chloe/opt/anaconda3/envs/py3_env/lib/python3.8/site-packages (from spacy<3.5.0,>=3.4.0->fr-core-news-md==3.4.0) (3.0.10)\n",
      "Requirement already satisfied: murmurhash<1.1.0,>=0.28.0 in /Users/chloe/opt/anaconda3/envs/py3_env/lib/python3.8/site-packages (from spacy<3.5.0,>=3.4.0->fr-core-news-md==3.4.0) (1.0.9)\n",
      "Requirement already satisfied: numpy>=1.15.0 in /Users/chloe/opt/anaconda3/envs/py3_env/lib/python3.8/site-packages (from spacy<3.5.0,>=3.4.0->fr-core-news-md==3.4.0) (1.23.5)\n",
      "Requirement already satisfied: spacy-loggers<2.0.0,>=1.0.0 in /Users/chloe/opt/anaconda3/envs/py3_env/lib/python3.8/site-packages (from spacy<3.5.0,>=3.4.0->fr-core-news-md==3.4.0) (1.0.4)\n",
      "Requirement already satisfied: pathy>=0.3.5 in /Users/chloe/opt/anaconda3/envs/py3_env/lib/python3.8/site-packages (from spacy<3.5.0,>=3.4.0->fr-core-news-md==3.4.0) (0.10.1)\n",
      "Requirement already satisfied: pydantic!=1.8,!=1.8.1,<1.11.0,>=1.7.4 in /Users/chloe/opt/anaconda3/envs/py3_env/lib/python3.8/site-packages (from spacy<3.5.0,>=3.4.0->fr-core-news-md==3.4.0) (1.10.2)\n",
      "Requirement already satisfied: typer<0.8.0,>=0.3.0 in /Users/chloe/opt/anaconda3/envs/py3_env/lib/python3.8/site-packages (from spacy<3.5.0,>=3.4.0->fr-core-news-md==3.4.0) (0.7.0)\n",
      "Requirement already satisfied: wasabi<1.1.0,>=0.9.1 in /Users/chloe/opt/anaconda3/envs/py3_env/lib/python3.8/site-packages (from spacy<3.5.0,>=3.4.0->fr-core-news-md==3.4.0) (0.10.1)\n",
      "Requirement already satisfied: packaging>=20.0 in /Users/chloe/opt/anaconda3/envs/py3_env/lib/python3.8/site-packages (from spacy<3.5.0,>=3.4.0->fr-core-news-md==3.4.0) (21.3)\n",
      "Requirement already satisfied: pyparsing!=3.0.5,>=2.0.2 in /Users/chloe/opt/anaconda3/envs/py3_env/lib/python3.8/site-packages (from packaging>=20.0->spacy<3.5.0,>=3.4.0->fr-core-news-md==3.4.0) (3.0.9)\n",
      "Requirement already satisfied: smart-open<7.0.0,>=5.2.1 in /Users/chloe/opt/anaconda3/envs/py3_env/lib/python3.8/site-packages (from pathy>=0.3.5->spacy<3.5.0,>=3.4.0->fr-core-news-md==3.4.0) (6.2.0)\n",
      "Requirement already satisfied: typing-extensions>=4.1.0 in /Users/chloe/opt/anaconda3/envs/py3_env/lib/python3.8/site-packages (from pydantic!=1.8,!=1.8.1,<1.11.0,>=1.7.4->spacy<3.5.0,>=3.4.0->fr-core-news-md==3.4.0) (4.4.0)\n",
      "Requirement already satisfied: idna<4,>=2.5 in /Users/chloe/opt/anaconda3/envs/py3_env/lib/python3.8/site-packages (from requests<3.0.0,>=2.13.0->spacy<3.5.0,>=3.4.0->fr-core-news-md==3.4.0) (3.4)\n",
      "Requirement already satisfied: charset-normalizer<3,>=2 in /Users/chloe/opt/anaconda3/envs/py3_env/lib/python3.8/site-packages (from requests<3.0.0,>=2.13.0->spacy<3.5.0,>=3.4.0->fr-core-news-md==3.4.0) (2.1.1)\n",
      "Requirement already satisfied: certifi>=2017.4.17 in /Users/chloe/opt/anaconda3/envs/py3_env/lib/python3.8/site-packages (from requests<3.0.0,>=2.13.0->spacy<3.5.0,>=3.4.0->fr-core-news-md==3.4.0) (2022.9.24)\n",
      "Requirement already satisfied: urllib3<1.27,>=1.21.1 in /Users/chloe/opt/anaconda3/envs/py3_env/lib/python3.8/site-packages (from requests<3.0.0,>=2.13.0->spacy<3.5.0,>=3.4.0->fr-core-news-md==3.4.0) (1.26.13)\n",
      "Requirement already satisfied: blis<0.8.0,>=0.7.8 in /Users/chloe/opt/anaconda3/envs/py3_env/lib/python3.8/site-packages (from thinc<8.2.0,>=8.1.0->spacy<3.5.0,>=3.4.0->fr-core-news-md==3.4.0) (0.7.9)\n",
      "Requirement already satisfied: confection<1.0.0,>=0.0.1 in /Users/chloe/opt/anaconda3/envs/py3_env/lib/python3.8/site-packages (from thinc<8.2.0,>=8.1.0->spacy<3.5.0,>=3.4.0->fr-core-news-md==3.4.0) (0.0.3)\n",
      "Requirement already satisfied: click<9.0.0,>=7.1.1 in /Users/chloe/opt/anaconda3/envs/py3_env/lib/python3.8/site-packages (from typer<0.8.0,>=0.3.0->spacy<3.5.0,>=3.4.0->fr-core-news-md==3.4.0) (8.1.3)\n",
      "Requirement already satisfied: MarkupSafe>=2.0 in /Users/chloe/opt/anaconda3/envs/py3_env/lib/python3.8/site-packages (from jinja2->spacy<3.5.0,>=3.4.0->fr-core-news-md==3.4.0) (2.1.1)\n",
      "Installing collected packages: fr-core-news-md\n",
      "Successfully installed fr-core-news-md-3.4.0\n",
      "\u001b[38;5;2m✔ Download and installation successful\u001b[0m\n",
      "You can now load the package via spacy.load('fr_core_news_md')\n"
     ]
    }
   ],
   "source": [
    "!python -m spacy download fr_core_news_sm\n",
    "!python -m spacy download fr_core_news_md"
   ]
  },
  {
   "cell_type": "code",
   "execution_count": null,
   "metadata": {},
   "outputs": [
    {
     "name": "stdout",
     "output_type": "stream",
     "text": [
      "Aujourd'hui -> aujourd'hui\n",
      ", -> ,\n",
      "c' -> ce\n",
      "est -> être\n",
      "toi -> toi\n",
      "qui -> qui\n",
      "demande -> demande\n",
      "de -> de\n",
      "l' -> le\n",
      "aide -> aide\n",
      ". -> .\n"
     ]
    }
   ],
   "source": [
    "import fr_core_news_md\n",
    "nlp = spacy.load('fr_core_news_md')\n",
    "\n",
    "doc = nlp(\"Aujourd'hui, c'est toi qui demande de l'aide.\")\n",
    "for token in doc:\n",
    "    print(token, \"->\", token.lemma_)"
   ]
  },
  {
   "cell_type": "code",
   "execution_count": null,
   "metadata": {},
   "outputs": [],
   "source": [
    "with open(\"index.json\") as f:\n",
    "    index = json.load(f)\n",
    "nlp = spacy.load(\"fr_core_news_sm\")\n",
    "dic_lemmatiseur = {}\n",
    "dic_lemme = {}\n",
    "cpt = 0\n",
    "for mot in index.keys(): #clés de mon index\n",
    "    doc = nlp(mot)\n",
    "    for toto in doc:\n",
    "        dic_lemmatiseur[str(toto)] = toto.lemma_ #ce sont les lemmes\n",
    "        if toto.lemma_ not in dic_lemme:\n",
    "            dic_lemme[toto.lemma_] = []\n",
    "            dic_lemme[toto.lemma_].append(mot)\n",
    "    cpt+=1"
   ]
  },
  {
   "cell_type": "code",
   "execution_count": null,
   "metadata": {},
   "outputs": [],
   "source": []
  }
 ],
 "metadata": {
  "kernelspec": {
   "display_name": "py3_env",
   "language": "python",
   "name": "py3_env"
  },
  "language_info": {
   "codemirror_mode": {
    "name": "ipython",
    "version": 3
   },
   "file_extension": ".py",
   "mimetype": "text/x-python",
   "name": "python",
   "nbconvert_exporter": "python",
   "pygments_lexer": "ipython3",
   "version": "3.8.13 (default, Oct 19 2022, 17:54:22) \n[Clang 12.0.0 ]"
  },
  "orig_nbformat": 4
 },
 "nbformat": 4,
 "nbformat_minor": 2
}
