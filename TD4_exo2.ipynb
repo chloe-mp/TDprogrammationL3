{
 "cells": [
  {
   "cell_type": "code",
   "execution_count": 282,
   "metadata": {},
   "outputs": [],
   "source": [
    "documents = [\"Champagne Poetry\", \"TSU\", \"Be Honest\", \"Bound 2\"]\n",
    "dico_songs = {\n",
    "    'Champagne Poetry': 'Lyrics of Champagne Poetry',\n",
    "    'TSU': 'Lyrics of TSU',\n",
    "    'Be Honest': 'Lyrics of Be Honest',\n",
    "    'Bound 2': 'Lyrics of Bound 2'\n",
    "}\n",
    "processed_dico_songs = {}\n",
    "\n",
    "with open('/Users/chloe/Documents/toto/df_music/Champagne_Poetry.txt', 'r') as f:\n",
    "    lyrics = f.read()\n",
    "    dico_songs['Champagne Poetry'] = lyrics\n",
    "\n",
    "with open('/Users/chloe/Documents/toto/df_music/TSU.txt', 'r') as f:\n",
    "    lyrics = f.read()\n",
    "    dico_songs['TSU'] = lyrics\n",
    "\n",
    "with open('/Users/chloe/Documents/toto/df_music/Be_Honest.txt', 'r') as f:\n",
    "    lyrics = f.read()\n",
    "    dico_songs['Be Honest'] = lyrics\n",
    "\n",
    "with open('/Users/chloe/Documents/toto/df_music/Bound_2.txt', 'r') as f:\n",
    "    lyrics = f.read()\n",
    "    dico_songs['Bound 2'] = lyrics\n"
   ]
  },
  {
   "cell_type": "code",
   "execution_count": 283,
   "metadata": {},
   "outputs": [
    {
     "name": "stdout",
     "output_type": "stream",
     "text": [
      "La recommandation basée sur la mesure de cosine sur TF-IDF :\n",
      "[('Champagne Poetry', [('TSU', 0.5073022492087197), ('Bound 2', 0.49126160674903285), ('Be Honest', 0.43852466632703985)]), ('TSU', [('Champagne Poetry', 0.5073022492087197), ('Bound 2', 0.386203948752123), ('Be Honest', 0.3022679401013523)]), ('Be Honest', [('Champagne Poetry', 0.43852466632703985), ('TSU', 0.3022679401013523), ('Bound 2', 0.24768134460280106)]), ('Bound 2', [('Champagne Poetry', 0.49126160674903285), ('TSU', 0.386203948752123), ('Be Honest', 0.24768134460280106)])]\n"
     ]
    }
   ],
   "source": [
    "from sklearn.feature_extraction.text import TfidfVectorizer\n",
    "\n",
    "# Création d'une matrice TF-IDF\n",
    "vectorizer = TfidfVectorizer()\n",
    "tf_idf_matrix = vectorizer.fit_transform(dico_songs.values())\n",
    "\n",
    "cosine_similarities = []\n",
    "for i in range(len(dico_songs)):\n",
    "    current_song = list(dico_songs.keys())[i]\n",
    "    current_index = list(dico_songs.keys()).index(current_song)\n",
    "    current_tf_idf_vector = tf_idf_matrix[current_index]\n",
    "    similarities = []\n",
    "    for j in range(len(dico_songs)):\n",
    "        if j != current_index:\n",
    "            tf_idf_vector = tf_idf_matrix[j]\n",
    "            similarity = (current_tf_idf_vector * tf_idf_vector.T).A[0][0]\n",
    "            similarities.append((list(dico_songs.keys())[j], similarity))\n",
    "    similarities.sort(key=lambda x: x[1], reverse=True)\n",
    "    cosine_similarities.append((current_song, similarities))\n",
    "\n",
    "print(\"La recommandation basée sur la mesure de cosine sur TF-IDF :\")\n",
    "print(cosine_similarities)"
   ]
  },
  {
   "cell_type": "code",
   "execution_count": 284,
   "metadata": {},
   "outputs": [],
   "source": [
    "###    Sur Youtube, l'ordre dans lequel étaient les recommandations était TSU, Bound 2 et Be Honest. \n",
    "###\n",
    "###    Le score TF IDF est simialire à l'ordre dans lequel Youtube me recommendait ces 3 chansons, ce qui laisserait penser que la plateforme a sans doutes recours au système de recommandation à base de contenu.\n",
    "###    Par ailleurs, Be Honest est la chanson avec le moins de similarités avec les chansons de Drake car contrairement à la chanson de Kanye West, elle ne contient que très peu de langage explicite.\n",
    "###    Je pense que l'algorithme de Youtube est basé sur un système de recommandation à base de contenu car le score TD_IDF a comparé les chansons de la plus similaire à celle que je venais d'écouter à la moins similaire. \n",
    "###    Cependant, je pense également que Youtube fait aussi des recommandations en fonction de la popularité d'une vidéo, ce qui nécessite de se baser également sur le comportement des autres utilisateurs. \n",
    "###    C'est pourquoi je pense que Youtube utilise un système hybride de recommandation."
   ]
  }
 ],
 "metadata": {
  "kernelspec": {
   "display_name": "Python 3",
   "language": "python",
   "name": "python3"
  },
  "language_info": {
   "codemirror_mode": {
    "name": "ipython",
    "version": 3
   },
   "file_extension": ".py",
   "mimetype": "text/x-python",
   "name": "python",
   "nbconvert_exporter": "python",
   "pygments_lexer": "ipython3",
   "version": "3.10.6"
  },
  "orig_nbformat": 4,
  "vscode": {
   "interpreter": {
    "hash": "aee8b7b246df8f9039afb4144a1f6fd8d2ca17a180786b69acc140d282b71a49"
   }
  }
 },
 "nbformat": 4,
 "nbformat_minor": 2
}
