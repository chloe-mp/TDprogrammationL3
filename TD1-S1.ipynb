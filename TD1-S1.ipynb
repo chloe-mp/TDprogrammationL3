{
 "cells": [
  {
   "cell_type": "code",
   "execution_count": 4,
   "metadata": {},
   "outputs": [],
   "source": [
    "with open(\"fr_13846-0.txt\", \"r\", encoding=\"utf-8\") as f:###on ouvre le fichier en déclarant la fonction open, avec comme arguments le fichier texte, le \"r\" qui signifie la lecture du document et l'encoding pour transformer le document en chaine de caractères\n",
    "  chaine = f.read()###on déclare la varible chaine = f.read afin de lancer la lecture"
   ]
  },
  {
   "cell_type": "code",
   "execution_count": 5,
   "metadata": {},
   "outputs": [
    {
     "name": "stdout",
     "output_type": "stream",
     "text": [
      "The Project Gutenberg EBook of Discours de la méthode, by René Descartes\n",
      "\n",
      "This eBook is for the use\n",
      "['Gutenberg-tm', 'eBooks', 'are', 'often', 'created', 'from', 'several', 'printed', 'editions,', 'all', 'of', 'which', 'are', 'confirmed', 'as', 'Public', 'Domain', 'in', 'the', 'U.S.', 'unless', 'a', 'copyright', 'notice', 'is', 'included.', 'Thus,', 'we', 'do', 'not', 'necessarily', 'keep', 'eBooks', 'in', 'compliance', 'with', 'any', 'particular', 'paper', 'edition.', 'Most', 'people', 'start', 'at', 'our', 'Web', 'site', 'which', 'has', 'the', 'main', 'PG', 'search', 'facility:', 'http://www.gutenberg.net', 'This', 'Web', 'site', 'includes', 'information', 'about', 'Project', 'Gutenberg-tm,', 'including', 'how', 'to', 'make', 'donations', 'to', 'the', 'Project', 'Gutenberg', 'Literary', 'Archive', 'Foundation,', 'how', 'to', 'help', 'produce', 'our', 'new', 'eBooks,', 'and', 'how', 'to', 'subscribe', 'to', 'our', 'email', 'newsletter', 'to', 'hear', 'about', 'new', 'eBooks.', '***', 'END:', 'FULL', 'LICENSE', '***']\n"
     ]
    }
   ],
   "source": [
    "print(chaine[:100])###on imprime les 100 premiers caractères\n",
    "\n",
    "lim = -100 #on fixe la limite aux 100 premiers caractères\n",
    "liste_toto = chaine.split()###on demande de découper la liste en chaine de caractères\n",
    "\n",
    "print(liste_toto[lim:])###on imprime la liste des caractères en se limitant aux 100 premiers résultats"
   ]
  },
  {
   "cell_type": "code",
   "execution_count": 10,
   "metadata": {},
   "outputs": [
    {
     "name": "stdout",
     "output_type": "stream",
     "text": [
      "{4: 15694, 7: 9158, 9: 6051, 5: 13169, 2: 26680, 8: 6888, 3: 18999, 6: 9970, 12: 1476, 11: 2294, 17: 16, 10: 3986, 13: 861, 1: 2798, 14: 501, 15: 160, 16: 69, 18: 4, 20: 2, 38: 1, 24: 2, 22: 1, 39: 1, 30: 1, 21: 2, 29: 1, 19: 1, 23: 1}\n"
     ]
    }
   ],
   "source": [
    "\n",
    "dic_titi = {}###on défini un dictionnaire dic_titi\n",
    "for mot in liste_toto:\n",
    "  longueur = len(mot)\n",
    "  if longueur not in dic_titi:###si la longueur d'un mot n'est pas dans le dictionnaire\n",
    "    dic_titi[longueur]=0###on ne l'incrémente pas\n",
    "  dic_titi[longueur]+=1###sinon on l'incrémente de 1\n",
    "print(dic_titi)"
   ]
  },
  {
   "cell_type": "code",
   "execution_count": 11,
   "metadata": {},
   "outputs": [
    {
     "name": "stdout",
     "output_type": "stream",
     "text": [
      "0 : 0\n",
      "1 : 2798\n",
      "2 : 26680\n",
      "3 : 18999\n",
      "4 : 15694\n",
      "5 : 13169\n",
      "6 : 9970\n",
      "7 : 9158\n",
      "8 : 6888\n",
      "9 : 6051\n",
      "10 : 3986\n"
     ]
    }
   ],
   "source": [
    "\n",
    "for toto in range(11):###on demande d'afficher 11 lignes\n",
    "  if toto in dic_titi:\n",
    "    nbr_occurences = dic_titi[toto]\n",
    "  else:\n",
    "    nbr_occurences = 0 ###si le fichier toto n'est pas dans le dictionnaire dic_titi, alors nous ne trouverons aucune occurence\n",
    "  print(\"%i : %i\"%(toto, nbr_occurences))###on imprime le nombre d'occurences dans toto en faisant un formatage de chaîne de caractères avec %i pour appeler les 2 variables\n"
   ]
  },
  {
   "cell_type": "code",
   "execution_count": 15,
   "metadata": {},
   "outputs": [
    {
     "data": {
      "image/png": "[encoded data removed]",
      "text/plain": [
       "<Figure size 432x288 with 1 Axes>"
      ]
     },
     "metadata": {
      "needs_background": "light"
     },
     "output_type": "display_data"
    }
   ],
   "source": [
    "import matplotlib.pyplot as pyplot\n",
    "\n",
    "liste_effectifs = []\n",
    "for toto in range(1,30):###on fait une boucle en demandant à la fonction de retourner les résultats de 1 à 30\n",
    "  if toto in dic_titi:\n",
    "    liste_effectifs.append(dic_titi[toto])\n",
    "  else:\n",
    "    liste_effectifs.append(0)###on demande à ajouter à la fin de la liste d'effectifs le résultat 0\n",
    "pyplot.plot(liste_effectifs, label=\"Effectif\")###on importe la bibliothèque pyplot afin de pouvoir faire un graphique\n",
    "pyplot.legend()###on demande à afficher la légende du graphique\n",
    "pyplot.show()###on demande à montrer le graphique de tous nos résultats"
   ]
  }
 ],
 "metadata": {
  "kernelspec": {
   "display_name": "Python 3",
   "language": "python",
   "name": "python3"
  },
  "language_info": {
   "codemirror_mode": {
    "name": "ipython",
    "version": 3
   },
   "file_extension": ".py",
   "mimetype": "text/x-python",
   "name": "python",
   "nbconvert_exporter": "python",
   "pygments_lexer": "ipython3",
   "version": "3.10.6 (v3.10.6:9c7b4bd164, Aug  1 2022, 17:13:48) [Clang 13.0.0 (clang-1300.0.29.30)]"
  },
  "vscode": {
   "interpreter": {
    "hash": "aee8b7b246df8f9039afb4144a1f6fd8d2ca17a180786b69acc140d282b71a49"
   }
  }
 },
 "nbformat": 4,
 "nbformat_minor": 2
}
